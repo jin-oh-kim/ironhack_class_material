{
 "cells": [
  {
   "cell_type": "code",
   "execution_count": 3,
   "metadata": {},
   "outputs": [],
   "source": [
    "import pandas as pd\n",
    "import numpy as np\n",
    "import matplotlib.pyplot as plt\n",
    "\n",
    "from sklearn.preprocessing import StandardScaler\n",
    "from sklearn.model_selection import train_test_split\n",
    "from sklearn.linear_model import LogisticRegression\n",
    "from sklearn.metrics import accuracy_score\n",
    "\n",
    "%matplotlib inline"
   ]
  },
  {
   "cell_type": "code",
   "execution_count": 4,
   "metadata": {},
   "outputs": [],
   "source": [
    "df = pd.read_csv(\"WA_Fn-UseC_-Telco-Customer-Churn.csv\")"
   ]
  },
  {
   "cell_type": "markdown",
   "metadata": {},
   "source": [
    "# 1. Quick Cleaning"
   ]
  },
  {
   "cell_type": "code",
   "execution_count": 5,
   "metadata": {},
   "outputs": [],
   "source": [
    "df = df[df[\"TotalCharges\"] != \" \"].reset_index(drop=True)"
   ]
  },
  {
   "cell_type": "code",
   "execution_count": 23,
   "metadata": {},
   "outputs": [
    {
     "data": {
      "text/plain": [
       "customerID          7032\n",
       "gender                 2\n",
       "SeniorCitizen          2\n",
       "Partner                2\n",
       "Dependents             2\n",
       "tenure                72\n",
       "PhoneService           2\n",
       "MultipleLines          3\n",
       "InternetService        3\n",
       "OnlineSecurity         3\n",
       "OnlineBackup           3\n",
       "DeviceProtection       3\n",
       "TechSupport            3\n",
       "StreamingTV            3\n",
       "StreamingMovies        3\n",
       "Contract               3\n",
       "PaperlessBilling       2\n",
       "PaymentMethod          4\n",
       "MonthlyCharges      1584\n",
       "TotalCharges        6530\n",
       "Churn                  2\n",
       "dtype: int64"
      ]
     },
     "execution_count": 23,
     "metadata": {},
     "output_type": "execute_result"
    }
   ],
   "source": [
    "df.nunique()"
   ]
  },
  {
   "cell_type": "code",
   "execution_count": 28,
   "metadata": {},
   "outputs": [
    {
     "data": {
      "text/plain": [
       "MultipleLines       3\n",
       "InternetService     3\n",
       "OnlineSecurity      3\n",
       "OnlineBackup        3\n",
       "DeviceProtection    3\n",
       "TechSupport         3\n",
       "StreamingTV         3\n",
       "StreamingMovies     3\n",
       "Contract            3\n",
       "dtype: int64"
      ]
     },
     "execution_count": 28,
     "metadata": {},
     "output_type": "execute_result"
    }
   ],
   "source": [
    "df.nunique()[df.nunique() == 3]"
   ]
  },
  {
   "cell_type": "code",
   "execution_count": 33,
   "metadata": {},
   "outputs": [],
   "source": [
    "def get_cols_list(df, nunique, smaller_or_equal=True):\n",
    "    if smaller_or_equal:\n",
    "        return df.nunique()[df.nunique() <= nunique].keys().tolist()\n",
    "\n",
    "    return df.nunique()[df.nunique() == nunique].keys().tolist()"
   ]
  },
  {
   "cell_type": "markdown",
   "metadata": {},
   "source": [
    "Check columns with 2 unique values"
   ]
  },
  {
   "cell_type": "code",
   "execution_count": 43,
   "metadata": {},
   "outputs": [
    {
     "data": {
      "text/html": [
       "<div>\n",
       "<style scoped>\n",
       "    .dataframe tbody tr th:only-of-type {\n",
       "        vertical-align: middle;\n",
       "    }\n",
       "\n",
       "    .dataframe tbody tr th {\n",
       "        vertical-align: top;\n",
       "    }\n",
       "\n",
       "    .dataframe thead th {\n",
       "        text-align: right;\n",
       "    }\n",
       "</style>\n",
       "<table border=\"1\" class=\"dataframe\">\n",
       "  <thead>\n",
       "    <tr style=\"text-align: right;\">\n",
       "      <th></th>\n",
       "      <th>gender</th>\n",
       "      <th>SeniorCitizen</th>\n",
       "      <th>Partner</th>\n",
       "      <th>Dependents</th>\n",
       "      <th>PhoneService</th>\n",
       "      <th>PaperlessBilling</th>\n",
       "      <th>Churn</th>\n",
       "    </tr>\n",
       "  </thead>\n",
       "  <tbody>\n",
       "    <tr>\n",
       "      <th>0</th>\n",
       "      <td>NaN</td>\n",
       "      <td>5890.0</td>\n",
       "      <td>NaN</td>\n",
       "      <td>NaN</td>\n",
       "      <td>NaN</td>\n",
       "      <td>NaN</td>\n",
       "      <td>NaN</td>\n",
       "    </tr>\n",
       "    <tr>\n",
       "      <th>1</th>\n",
       "      <td>NaN</td>\n",
       "      <td>1142.0</td>\n",
       "      <td>NaN</td>\n",
       "      <td>NaN</td>\n",
       "      <td>NaN</td>\n",
       "      <td>NaN</td>\n",
       "      <td>NaN</td>\n",
       "    </tr>\n",
       "    <tr>\n",
       "      <th>Female</th>\n",
       "      <td>3483.0</td>\n",
       "      <td>NaN</td>\n",
       "      <td>NaN</td>\n",
       "      <td>NaN</td>\n",
       "      <td>NaN</td>\n",
       "      <td>NaN</td>\n",
       "      <td>NaN</td>\n",
       "    </tr>\n",
       "    <tr>\n",
       "      <th>Male</th>\n",
       "      <td>3549.0</td>\n",
       "      <td>NaN</td>\n",
       "      <td>NaN</td>\n",
       "      <td>NaN</td>\n",
       "      <td>NaN</td>\n",
       "      <td>NaN</td>\n",
       "      <td>NaN</td>\n",
       "    </tr>\n",
       "    <tr>\n",
       "      <th>No</th>\n",
       "      <td>NaN</td>\n",
       "      <td>NaN</td>\n",
       "      <td>3639.0</td>\n",
       "      <td>4933.0</td>\n",
       "      <td>680.0</td>\n",
       "      <td>2864.0</td>\n",
       "      <td>5163.0</td>\n",
       "    </tr>\n",
       "    <tr>\n",
       "      <th>Yes</th>\n",
       "      <td>NaN</td>\n",
       "      <td>NaN</td>\n",
       "      <td>3393.0</td>\n",
       "      <td>2099.0</td>\n",
       "      <td>6352.0</td>\n",
       "      <td>4168.0</td>\n",
       "      <td>1869.0</td>\n",
       "    </tr>\n",
       "  </tbody>\n",
       "</table>\n",
       "</div>"
      ],
      "text/plain": [
       "        gender  SeniorCitizen  Partner  Dependents  PhoneService  \\\n",
       "0          NaN         5890.0      NaN         NaN           NaN   \n",
       "1          NaN         1142.0      NaN         NaN           NaN   \n",
       "Female  3483.0            NaN      NaN         NaN           NaN   \n",
       "Male    3549.0            NaN      NaN         NaN           NaN   \n",
       "No         NaN            NaN   3639.0      4933.0         680.0   \n",
       "Yes        NaN            NaN   3393.0      2099.0        6352.0   \n",
       "\n",
       "        PaperlessBilling   Churn  \n",
       "0                    NaN     NaN  \n",
       "1                    NaN     NaN  \n",
       "Female               NaN     NaN  \n",
       "Male                 NaN     NaN  \n",
       "No                2864.0  5163.0  \n",
       "Yes               4168.0  1869.0  "
      ]
     },
     "execution_count": 43,
     "metadata": {},
     "output_type": "execute_result"
    }
   ],
   "source": [
    "df[get_cols_list(df, 2, False)].apply(pd.value_counts)"
   ]
  },
  {
   "cell_type": "code",
   "execution_count": 44,
   "metadata": {},
   "outputs": [],
   "source": [
    "to_bool = [\"Partner\", \"Dependents\", \"PhoneService\", \"PaperlessBilling\", \"Churn\"]\n",
    "\n",
    "# for col in to_bool:\n",
    "#     df[col] = np.where(df[col] == \"Yes\", 1, 0)\n",
    "    \n",
    "df[to_bool] = np.where(df[to_bool] == \"Yes\", 1, 0)"
   ]
  },
  {
   "cell_type": "code",
   "execution_count": 46,
   "metadata": {},
   "outputs": [
    {
     "data": {
      "text/html": [
       "<div>\n",
       "<style scoped>\n",
       "    .dataframe tbody tr th:only-of-type {\n",
       "        vertical-align: middle;\n",
       "    }\n",
       "\n",
       "    .dataframe tbody tr th {\n",
       "        vertical-align: top;\n",
       "    }\n",
       "\n",
       "    .dataframe thead th {\n",
       "        text-align: right;\n",
       "    }\n",
       "</style>\n",
       "<table border=\"1\" class=\"dataframe\">\n",
       "  <thead>\n",
       "    <tr style=\"text-align: right;\">\n",
       "      <th></th>\n",
       "      <th>gender</th>\n",
       "      <th>SeniorCitizen</th>\n",
       "      <th>Partner</th>\n",
       "      <th>Dependents</th>\n",
       "      <th>PhoneService</th>\n",
       "      <th>PaperlessBilling</th>\n",
       "      <th>Churn</th>\n",
       "    </tr>\n",
       "  </thead>\n",
       "  <tbody>\n",
       "    <tr>\n",
       "      <th>0</th>\n",
       "      <td>NaN</td>\n",
       "      <td>5890.0</td>\n",
       "      <td>3639.0</td>\n",
       "      <td>4933.0</td>\n",
       "      <td>680.0</td>\n",
       "      <td>2864.0</td>\n",
       "      <td>5163.0</td>\n",
       "    </tr>\n",
       "    <tr>\n",
       "      <th>1</th>\n",
       "      <td>NaN</td>\n",
       "      <td>1142.0</td>\n",
       "      <td>3393.0</td>\n",
       "      <td>2099.0</td>\n",
       "      <td>6352.0</td>\n",
       "      <td>4168.0</td>\n",
       "      <td>1869.0</td>\n",
       "    </tr>\n",
       "    <tr>\n",
       "      <th>Female</th>\n",
       "      <td>3483.0</td>\n",
       "      <td>NaN</td>\n",
       "      <td>NaN</td>\n",
       "      <td>NaN</td>\n",
       "      <td>NaN</td>\n",
       "      <td>NaN</td>\n",
       "      <td>NaN</td>\n",
       "    </tr>\n",
       "    <tr>\n",
       "      <th>Male</th>\n",
       "      <td>3549.0</td>\n",
       "      <td>NaN</td>\n",
       "      <td>NaN</td>\n",
       "      <td>NaN</td>\n",
       "      <td>NaN</td>\n",
       "      <td>NaN</td>\n",
       "      <td>NaN</td>\n",
       "    </tr>\n",
       "  </tbody>\n",
       "</table>\n",
       "</div>"
      ],
      "text/plain": [
       "        gender  SeniorCitizen  Partner  Dependents  PhoneService  \\\n",
       "0          NaN         5890.0   3639.0      4933.0         680.0   \n",
       "1          NaN         1142.0   3393.0      2099.0        6352.0   \n",
       "Female  3483.0            NaN      NaN         NaN           NaN   \n",
       "Male    3549.0            NaN      NaN         NaN           NaN   \n",
       "\n",
       "        PaperlessBilling   Churn  \n",
       "0                 2864.0  5163.0  \n",
       "1                 4168.0  1869.0  \n",
       "Female               NaN     NaN  \n",
       "Male                 NaN     NaN  "
      ]
     },
     "execution_count": 46,
     "metadata": {},
     "output_type": "execute_result"
    }
   ],
   "source": [
    "df[get_cols_list(df, 2, False)].apply(pd.value_counts)"
   ]
  },
  {
   "cell_type": "code",
   "execution_count": 49,
   "metadata": {},
   "outputs": [],
   "source": [
    "df = df.assign(Female=np.where(df[\"gender\"] == \"Female\", 1, 0))\n",
    "df = df.drop(columns=[\"gender\"])"
   ]
  },
  {
   "cell_type": "code",
   "execution_count": 50,
   "metadata": {},
   "outputs": [
    {
     "data": {
      "text/html": [
       "<div>\n",
       "<style scoped>\n",
       "    .dataframe tbody tr th:only-of-type {\n",
       "        vertical-align: middle;\n",
       "    }\n",
       "\n",
       "    .dataframe tbody tr th {\n",
       "        vertical-align: top;\n",
       "    }\n",
       "\n",
       "    .dataframe thead th {\n",
       "        text-align: right;\n",
       "    }\n",
       "</style>\n",
       "<table border=\"1\" class=\"dataframe\">\n",
       "  <thead>\n",
       "    <tr style=\"text-align: right;\">\n",
       "      <th></th>\n",
       "      <th>SeniorCitizen</th>\n",
       "      <th>Partner</th>\n",
       "      <th>Dependents</th>\n",
       "      <th>PhoneService</th>\n",
       "      <th>PaperlessBilling</th>\n",
       "      <th>Churn</th>\n",
       "      <th>Female</th>\n",
       "    </tr>\n",
       "  </thead>\n",
       "  <tbody>\n",
       "    <tr>\n",
       "      <th>0</th>\n",
       "      <td>5890</td>\n",
       "      <td>3639</td>\n",
       "      <td>4933</td>\n",
       "      <td>680</td>\n",
       "      <td>2864</td>\n",
       "      <td>5163</td>\n",
       "      <td>3549</td>\n",
       "    </tr>\n",
       "    <tr>\n",
       "      <th>1</th>\n",
       "      <td>1142</td>\n",
       "      <td>3393</td>\n",
       "      <td>2099</td>\n",
       "      <td>6352</td>\n",
       "      <td>4168</td>\n",
       "      <td>1869</td>\n",
       "      <td>3483</td>\n",
       "    </tr>\n",
       "  </tbody>\n",
       "</table>\n",
       "</div>"
      ],
      "text/plain": [
       "   SeniorCitizen  Partner  Dependents  PhoneService  PaperlessBilling  Churn  \\\n",
       "0           5890     3639        4933           680              2864   5163   \n",
       "1           1142     3393        2099          6352              4168   1869   \n",
       "\n",
       "   Female  \n",
       "0    3549  \n",
       "1    3483  "
      ]
     },
     "execution_count": 50,
     "metadata": {},
     "output_type": "execute_result"
    }
   ],
   "source": [
    "df[get_cols_list(df, 2, False)].apply(pd.value_counts)"
   ]
  },
  {
   "cell_type": "markdown",
   "metadata": {},
   "source": [
    "Check columns with 3 unique values"
   ]
  },
  {
   "cell_type": "code",
   "execution_count": 51,
   "metadata": {},
   "outputs": [
    {
     "data": {
      "text/html": [
       "<div>\n",
       "<style scoped>\n",
       "    .dataframe tbody tr th:only-of-type {\n",
       "        vertical-align: middle;\n",
       "    }\n",
       "\n",
       "    .dataframe tbody tr th {\n",
       "        vertical-align: top;\n",
       "    }\n",
       "\n",
       "    .dataframe thead th {\n",
       "        text-align: right;\n",
       "    }\n",
       "</style>\n",
       "<table border=\"1\" class=\"dataframe\">\n",
       "  <thead>\n",
       "    <tr style=\"text-align: right;\">\n",
       "      <th></th>\n",
       "      <th>MultipleLines</th>\n",
       "      <th>InternetService</th>\n",
       "      <th>OnlineSecurity</th>\n",
       "      <th>OnlineBackup</th>\n",
       "      <th>DeviceProtection</th>\n",
       "      <th>TechSupport</th>\n",
       "      <th>StreamingTV</th>\n",
       "      <th>StreamingMovies</th>\n",
       "      <th>Contract</th>\n",
       "    </tr>\n",
       "  </thead>\n",
       "  <tbody>\n",
       "    <tr>\n",
       "      <th>DSL</th>\n",
       "      <td>NaN</td>\n",
       "      <td>2416.0</td>\n",
       "      <td>NaN</td>\n",
       "      <td>NaN</td>\n",
       "      <td>NaN</td>\n",
       "      <td>NaN</td>\n",
       "      <td>NaN</td>\n",
       "      <td>NaN</td>\n",
       "      <td>NaN</td>\n",
       "    </tr>\n",
       "    <tr>\n",
       "      <th>Fiber optic</th>\n",
       "      <td>NaN</td>\n",
       "      <td>3096.0</td>\n",
       "      <td>NaN</td>\n",
       "      <td>NaN</td>\n",
       "      <td>NaN</td>\n",
       "      <td>NaN</td>\n",
       "      <td>NaN</td>\n",
       "      <td>NaN</td>\n",
       "      <td>NaN</td>\n",
       "    </tr>\n",
       "    <tr>\n",
       "      <th>Month-to-month</th>\n",
       "      <td>NaN</td>\n",
       "      <td>NaN</td>\n",
       "      <td>NaN</td>\n",
       "      <td>NaN</td>\n",
       "      <td>NaN</td>\n",
       "      <td>NaN</td>\n",
       "      <td>NaN</td>\n",
       "      <td>NaN</td>\n",
       "      <td>3875.0</td>\n",
       "    </tr>\n",
       "    <tr>\n",
       "      <th>No</th>\n",
       "      <td>3385.0</td>\n",
       "      <td>1520.0</td>\n",
       "      <td>3497.0</td>\n",
       "      <td>3087.0</td>\n",
       "      <td>3094.0</td>\n",
       "      <td>3472.0</td>\n",
       "      <td>2809.0</td>\n",
       "      <td>2781.0</td>\n",
       "      <td>NaN</td>\n",
       "    </tr>\n",
       "    <tr>\n",
       "      <th>No internet service</th>\n",
       "      <td>NaN</td>\n",
       "      <td>NaN</td>\n",
       "      <td>1520.0</td>\n",
       "      <td>1520.0</td>\n",
       "      <td>1520.0</td>\n",
       "      <td>1520.0</td>\n",
       "      <td>1520.0</td>\n",
       "      <td>1520.0</td>\n",
       "      <td>NaN</td>\n",
       "    </tr>\n",
       "    <tr>\n",
       "      <th>No phone service</th>\n",
       "      <td>680.0</td>\n",
       "      <td>NaN</td>\n",
       "      <td>NaN</td>\n",
       "      <td>NaN</td>\n",
       "      <td>NaN</td>\n",
       "      <td>NaN</td>\n",
       "      <td>NaN</td>\n",
       "      <td>NaN</td>\n",
       "      <td>NaN</td>\n",
       "    </tr>\n",
       "    <tr>\n",
       "      <th>One year</th>\n",
       "      <td>NaN</td>\n",
       "      <td>NaN</td>\n",
       "      <td>NaN</td>\n",
       "      <td>NaN</td>\n",
       "      <td>NaN</td>\n",
       "      <td>NaN</td>\n",
       "      <td>NaN</td>\n",
       "      <td>NaN</td>\n",
       "      <td>1472.0</td>\n",
       "    </tr>\n",
       "    <tr>\n",
       "      <th>Two year</th>\n",
       "      <td>NaN</td>\n",
       "      <td>NaN</td>\n",
       "      <td>NaN</td>\n",
       "      <td>NaN</td>\n",
       "      <td>NaN</td>\n",
       "      <td>NaN</td>\n",
       "      <td>NaN</td>\n",
       "      <td>NaN</td>\n",
       "      <td>1685.0</td>\n",
       "    </tr>\n",
       "    <tr>\n",
       "      <th>Yes</th>\n",
       "      <td>2967.0</td>\n",
       "      <td>NaN</td>\n",
       "      <td>2015.0</td>\n",
       "      <td>2425.0</td>\n",
       "      <td>2418.0</td>\n",
       "      <td>2040.0</td>\n",
       "      <td>2703.0</td>\n",
       "      <td>2731.0</td>\n",
       "      <td>NaN</td>\n",
       "    </tr>\n",
       "  </tbody>\n",
       "</table>\n",
       "</div>"
      ],
      "text/plain": [
       "                     MultipleLines  InternetService  OnlineSecurity  \\\n",
       "DSL                            NaN           2416.0             NaN   \n",
       "Fiber optic                    NaN           3096.0             NaN   \n",
       "Month-to-month                 NaN              NaN             NaN   \n",
       "No                          3385.0           1520.0          3497.0   \n",
       "No internet service            NaN              NaN          1520.0   \n",
       "No phone service             680.0              NaN             NaN   \n",
       "One year                       NaN              NaN             NaN   \n",
       "Two year                       NaN              NaN             NaN   \n",
       "Yes                         2967.0              NaN          2015.0   \n",
       "\n",
       "                     OnlineBackup  DeviceProtection  TechSupport  StreamingTV  \\\n",
       "DSL                           NaN               NaN          NaN          NaN   \n",
       "Fiber optic                   NaN               NaN          NaN          NaN   \n",
       "Month-to-month                NaN               NaN          NaN          NaN   \n",
       "No                         3087.0            3094.0       3472.0       2809.0   \n",
       "No internet service        1520.0            1520.0       1520.0       1520.0   \n",
       "No phone service              NaN               NaN          NaN          NaN   \n",
       "One year                      NaN               NaN          NaN          NaN   \n",
       "Two year                      NaN               NaN          NaN          NaN   \n",
       "Yes                        2425.0            2418.0       2040.0       2703.0   \n",
       "\n",
       "                     StreamingMovies  Contract  \n",
       "DSL                              NaN       NaN  \n",
       "Fiber optic                      NaN       NaN  \n",
       "Month-to-month                   NaN    3875.0  \n",
       "No                            2781.0       NaN  \n",
       "No internet service           1520.0       NaN  \n",
       "No phone service                 NaN       NaN  \n",
       "One year                         NaN    1472.0  \n",
       "Two year                         NaN    1685.0  \n",
       "Yes                           2731.0       NaN  "
      ]
     },
     "execution_count": 51,
     "metadata": {},
     "output_type": "execute_result"
    }
   ],
   "source": [
    "df[get_cols_list(df, 3, False)].apply(pd.value_counts)"
   ]
  },
  {
   "cell_type": "code",
   "execution_count": 53,
   "metadata": {},
   "outputs": [
    {
     "data": {
      "text/html": [
       "<div>\n",
       "<style scoped>\n",
       "    .dataframe tbody tr th:only-of-type {\n",
       "        vertical-align: middle;\n",
       "    }\n",
       "\n",
       "    .dataframe tbody tr th {\n",
       "        vertical-align: top;\n",
       "    }\n",
       "\n",
       "    .dataframe thead th {\n",
       "        text-align: right;\n",
       "    }\n",
       "</style>\n",
       "<table border=\"1\" class=\"dataframe\">\n",
       "  <thead>\n",
       "    <tr style=\"text-align: right;\">\n",
       "      <th></th>\n",
       "      <th>MultipleLines</th>\n",
       "      <th>OnlineSecurity</th>\n",
       "      <th>OnlineBackup</th>\n",
       "      <th>DeviceProtection</th>\n",
       "      <th>TechSupport</th>\n",
       "      <th>StreamingTV</th>\n",
       "      <th>StreamingMovies</th>\n",
       "    </tr>\n",
       "  </thead>\n",
       "  <tbody>\n",
       "    <tr>\n",
       "      <th>No</th>\n",
       "      <td>3385.0</td>\n",
       "      <td>3497.0</td>\n",
       "      <td>3087.0</td>\n",
       "      <td>3094.0</td>\n",
       "      <td>3472.0</td>\n",
       "      <td>2809.0</td>\n",
       "      <td>2781.0</td>\n",
       "    </tr>\n",
       "    <tr>\n",
       "      <th>No internet service</th>\n",
       "      <td>NaN</td>\n",
       "      <td>1520.0</td>\n",
       "      <td>1520.0</td>\n",
       "      <td>1520.0</td>\n",
       "      <td>1520.0</td>\n",
       "      <td>1520.0</td>\n",
       "      <td>1520.0</td>\n",
       "    </tr>\n",
       "    <tr>\n",
       "      <th>No phone service</th>\n",
       "      <td>680.0</td>\n",
       "      <td>NaN</td>\n",
       "      <td>NaN</td>\n",
       "      <td>NaN</td>\n",
       "      <td>NaN</td>\n",
       "      <td>NaN</td>\n",
       "      <td>NaN</td>\n",
       "    </tr>\n",
       "    <tr>\n",
       "      <th>Yes</th>\n",
       "      <td>2967.0</td>\n",
       "      <td>2015.0</td>\n",
       "      <td>2425.0</td>\n",
       "      <td>2418.0</td>\n",
       "      <td>2040.0</td>\n",
       "      <td>2703.0</td>\n",
       "      <td>2731.0</td>\n",
       "    </tr>\n",
       "  </tbody>\n",
       "</table>\n",
       "</div>"
      ],
      "text/plain": [
       "                     MultipleLines  OnlineSecurity  OnlineBackup  \\\n",
       "No                          3385.0          3497.0        3087.0   \n",
       "No internet service            NaN          1520.0        1520.0   \n",
       "No phone service             680.0             NaN           NaN   \n",
       "Yes                         2967.0          2015.0        2425.0   \n",
       "\n",
       "                     DeviceProtection  TechSupport  StreamingTV  \\\n",
       "No                             3094.0       3472.0       2809.0   \n",
       "No internet service            1520.0       1520.0       1520.0   \n",
       "No phone service                  NaN          NaN          NaN   \n",
       "Yes                            2418.0       2040.0       2703.0   \n",
       "\n",
       "                     StreamingMovies  \n",
       "No                            2781.0  \n",
       "No internet service           1520.0  \n",
       "No phone service                 NaN  \n",
       "Yes                           2731.0  "
      ]
     },
     "execution_count": 53,
     "metadata": {},
     "output_type": "execute_result"
    }
   ],
   "source": [
    "exclude = [\"InternetService\", \"Contract\"]\n",
    "df[[col for col in get_cols_list(df, 3, False) if col not in exclude]].apply(pd.value_counts)"
   ]
  },
  {
   "cell_type": "code",
   "execution_count": 54,
   "metadata": {},
   "outputs": [],
   "source": [
    "to_bool_again = [col for col in get_cols_list(df, 3, False) if col not in exclude]\n",
    "df[to_bool_again] = np.where(df[to_bool_again] == \"Yes\", 1, 0)"
   ]
  },
  {
   "cell_type": "code",
   "execution_count": 56,
   "metadata": {},
   "outputs": [
    {
     "data": {
      "text/html": [
       "<div>\n",
       "<style scoped>\n",
       "    .dataframe tbody tr th:only-of-type {\n",
       "        vertical-align: middle;\n",
       "    }\n",
       "\n",
       "    .dataframe tbody tr th {\n",
       "        vertical-align: top;\n",
       "    }\n",
       "\n",
       "    .dataframe thead th {\n",
       "        text-align: right;\n",
       "    }\n",
       "</style>\n",
       "<table border=\"1\" class=\"dataframe\">\n",
       "  <thead>\n",
       "    <tr style=\"text-align: right;\">\n",
       "      <th></th>\n",
       "      <th>SeniorCitizen</th>\n",
       "      <th>Partner</th>\n",
       "      <th>Dependents</th>\n",
       "      <th>PhoneService</th>\n",
       "      <th>MultipleLines</th>\n",
       "      <th>OnlineSecurity</th>\n",
       "      <th>OnlineBackup</th>\n",
       "      <th>DeviceProtection</th>\n",
       "      <th>TechSupport</th>\n",
       "      <th>StreamingTV</th>\n",
       "      <th>StreamingMovies</th>\n",
       "      <th>PaperlessBilling</th>\n",
       "      <th>Churn</th>\n",
       "      <th>Female</th>\n",
       "    </tr>\n",
       "  </thead>\n",
       "  <tbody>\n",
       "    <tr>\n",
       "      <th>0</th>\n",
       "      <td>5890</td>\n",
       "      <td>3639</td>\n",
       "      <td>4933</td>\n",
       "      <td>680</td>\n",
       "      <td>4065</td>\n",
       "      <td>5017</td>\n",
       "      <td>4607</td>\n",
       "      <td>4614</td>\n",
       "      <td>4992</td>\n",
       "      <td>4329</td>\n",
       "      <td>4301</td>\n",
       "      <td>2864</td>\n",
       "      <td>5163</td>\n",
       "      <td>3549</td>\n",
       "    </tr>\n",
       "    <tr>\n",
       "      <th>1</th>\n",
       "      <td>1142</td>\n",
       "      <td>3393</td>\n",
       "      <td>2099</td>\n",
       "      <td>6352</td>\n",
       "      <td>2967</td>\n",
       "      <td>2015</td>\n",
       "      <td>2425</td>\n",
       "      <td>2418</td>\n",
       "      <td>2040</td>\n",
       "      <td>2703</td>\n",
       "      <td>2731</td>\n",
       "      <td>4168</td>\n",
       "      <td>1869</td>\n",
       "      <td>3483</td>\n",
       "    </tr>\n",
       "  </tbody>\n",
       "</table>\n",
       "</div>"
      ],
      "text/plain": [
       "   SeniorCitizen  Partner  Dependents  PhoneService  MultipleLines  \\\n",
       "0           5890     3639        4933           680           4065   \n",
       "1           1142     3393        2099          6352           2967   \n",
       "\n",
       "   OnlineSecurity  OnlineBackup  DeviceProtection  TechSupport  StreamingTV  \\\n",
       "0            5017          4607              4614         4992         4329   \n",
       "1            2015          2425              2418         2040         2703   \n",
       "\n",
       "   StreamingMovies  PaperlessBilling  Churn  Female  \n",
       "0             4301              2864   5163    3549  \n",
       "1             2731              4168   1869    3483  "
      ]
     },
     "execution_count": 56,
     "metadata": {},
     "output_type": "execute_result"
    }
   ],
   "source": [
    "df[[col for col in get_cols_list(df, 2, False) if col not in exclude]].apply(pd.value_counts)"
   ]
  },
  {
   "cell_type": "code",
   "execution_count": 57,
   "metadata": {},
   "outputs": [
    {
     "data": {
      "text/plain": [
       "customerID           object\n",
       "SeniorCitizen         int64\n",
       "Partner               int64\n",
       "Dependents            int64\n",
       "tenure                int64\n",
       "PhoneService          int64\n",
       "MultipleLines         int64\n",
       "InternetService      object\n",
       "OnlineSecurity        int64\n",
       "OnlineBackup          int64\n",
       "DeviceProtection      int64\n",
       "TechSupport           int64\n",
       "StreamingTV           int64\n",
       "StreamingMovies       int64\n",
       "Contract             object\n",
       "PaperlessBilling      int64\n",
       "PaymentMethod        object\n",
       "MonthlyCharges      float64\n",
       "TotalCharges         object\n",
       "Churn                 int64\n",
       "Female                int64\n",
       "dtype: object"
      ]
     },
     "execution_count": 57,
     "metadata": {},
     "output_type": "execute_result"
    }
   ],
   "source": [
    "df.dtypes"
   ]
  },
  {
   "cell_type": "code",
   "execution_count": 58,
   "metadata": {},
   "outputs": [],
   "source": [
    "df[\"TotalCharges\"] = df[\"TotalCharges\"].astype(float)"
   ]
  },
  {
   "cell_type": "code",
   "execution_count": 87,
   "metadata": {},
   "outputs": [
    {
     "data": {
      "text/plain": [
       "customerID           object\n",
       "SeniorCitizen         int64\n",
       "Partner               int64\n",
       "Dependents            int64\n",
       "tenure                int64\n",
       "PhoneService          int64\n",
       "MultipleLines         int64\n",
       "InternetService      object\n",
       "OnlineSecurity        int64\n",
       "OnlineBackup          int64\n",
       "DeviceProtection      int64\n",
       "TechSupport           int64\n",
       "StreamingTV           int64\n",
       "StreamingMovies       int64\n",
       "Contract             object\n",
       "PaperlessBilling      int64\n",
       "PaymentMethod        object\n",
       "MonthlyCharges      float64\n",
       "TotalCharges        float64\n",
       "Churn                 int64\n",
       "Female                int64\n",
       "dtype: object"
      ]
     },
     "execution_count": 87,
     "metadata": {},
     "output_type": "execute_result"
    }
   ],
   "source": [
    "df.dtypes"
   ]
  },
  {
   "cell_type": "code",
   "execution_count": 60,
   "metadata": {},
   "outputs": [
    {
     "data": {
      "text/plain": [
       "customerID          7032\n",
       "SeniorCitizen          2\n",
       "Partner                2\n",
       "Dependents             2\n",
       "tenure                72\n",
       "PhoneService           2\n",
       "MultipleLines          2\n",
       "InternetService        3\n",
       "OnlineSecurity         2\n",
       "OnlineBackup           2\n",
       "DeviceProtection       2\n",
       "TechSupport            2\n",
       "StreamingTV            2\n",
       "StreamingMovies        2\n",
       "Contract               3\n",
       "PaperlessBilling       2\n",
       "PaymentMethod          4\n",
       "MonthlyCharges      1584\n",
       "TotalCharges        6530\n",
       "Churn                  2\n",
       "Female                 2\n",
       "dtype: int64"
      ]
     },
     "execution_count": 60,
     "metadata": {},
     "output_type": "execute_result"
    }
   ],
   "source": [
    "df.nunique()"
   ]
  },
  {
   "cell_type": "markdown",
   "metadata": {},
   "source": [
    "# 2. Create model evaluation function"
   ]
  },
  {
   "cell_type": "code",
   "execution_count": 111,
   "metadata": {},
   "outputs": [],
   "source": [
    "def evaluate_model(df, scaler=StandardScaler, seed=666):\n",
    "    # assign columns\n",
    "    id_col = [\"customerID\"]\n",
    "    target_col = [\"Churn\"]\n",
    "    bool_col = [col for col in get_cols_list(df, 2, False) if col not in target_col]\n",
    "    cat_col = [col for col in get_cols_list(df, 4) if col not in target_col]\n",
    "    num_col = [col for col in df.columns if col not in id_col + target_col + cat_col]\n",
    "    \n",
    "    # create dummies\n",
    "    df = pd.get_dummies(data=df,\n",
    "                        columns=[col for col in cat_col if col not in bool_col],\n",
    "                        drop_first=True)\n",
    "    cat_col = [col for col in get_cols_list(df, 4) if col not in target_col]\n",
    "    bool_col = [col for col in get_cols_list(df, 2, False) if col not in target_col]\n",
    "    \n",
    "    # split df \n",
    "    train, test = train_test_split(df, test_size=.2, random_state=seed)\n",
    "    train_X = train[cat_col + num_col].reset_index(drop=True)\n",
    "    train_Y = train[target_col].reset_index(drop=True)\n",
    "    test_X = test[cat_col + num_col].reset_index(drop=True)\n",
    "    test_Y = test[target_col].reset_index(drop=True)\n",
    "    \n",
    "    # Standardize\n",
    "    std = scaler()\n",
    "    scaled_fitted = std.fit(train_X[num_col])\n",
    "    scaled = scaled_fitted.transform(train_X[num_col])\n",
    "    scaled = pd.DataFrame(scaled, columns=num_col)\n",
    "    \n",
    "    train_X = train_X.drop(columns=num_col, axis=1)\n",
    "    train_X = train_X.merge(scaled, left_index=True, right_index=True, how=\"left\")\n",
    "    \n",
    "    # train model\n",
    "    lr = LogisticRegression(solver=\"liblinear\")\n",
    "    lr.fit(train_X, train_Y.values.ravel())\n",
    "    \n",
    "    # Predict on test set\n",
    "    scaled_test = scaled_fitted.transform(test_X[num_col])\n",
    "    scaled_test = pd.DataFrame(scaled_test, columns=num_col)\n",
    "    \n",
    "    test_X = test_X.drop(columns=num_col, axis=1)\n",
    "    test_X = test_X.merge(scaled_test, left_index=True, right_index=True, how=\"left\")\n",
    "    \n",
    "    pred = lr.predict(test_X)\n",
    "    \n",
    "    # Compute accuracy\n",
    "    return accuracy_score(test_Y, pred)\n",
    "    "
   ]
  },
  {
   "cell_type": "code",
   "execution_count": 112,
   "metadata": {},
   "outputs": [
    {
     "data": {
      "text/plain": [
       "0.8009950248756219"
      ]
     },
     "execution_count": 112,
     "metadata": {},
     "output_type": "execute_result"
    }
   ],
   "source": [
    "evaluate_model(df)"
   ]
  },
  {
   "cell_type": "markdown",
   "metadata": {},
   "source": [
    "This is our baseline model. Every change we do now should improve accuracy compared to this model"
   ]
  },
  {
   "cell_type": "markdown",
   "metadata": {},
   "source": [
    "# 3. Create different inputs\n",
    "\n",
    "## 3.1. InternetService as a bool"
   ]
  },
  {
   "cell_type": "code",
   "execution_count": 92,
   "metadata": {},
   "outputs": [
    {
     "data": {
      "text/plain": [
       "Fiber optic    3096\n",
       "DSL            2416\n",
       "No             1520\n",
       "Name: InternetService, dtype: int64"
      ]
     },
     "execution_count": 92,
     "metadata": {},
     "output_type": "execute_result"
    }
   ],
   "source": [
    "df[\"InternetService\"].value_counts()"
   ]
  },
  {
   "cell_type": "code",
   "execution_count": 93,
   "metadata": {},
   "outputs": [],
   "source": [
    "df_i = df.copy()\n",
    "df_i[\"InternetService\"] = np.where(df_i[\"InternetService\"] == \"No\", 0, 1)"
   ]
  },
  {
   "cell_type": "code",
   "execution_count": 94,
   "metadata": {},
   "outputs": [
    {
     "data": {
      "text/plain": [
       "0.7981520966595593"
      ]
     },
     "execution_count": 94,
     "metadata": {},
     "output_type": "execute_result"
    }
   ],
   "source": [
    "evaluate_model(df_i)"
   ]
  },
  {
   "cell_type": "markdown",
   "metadata": {},
   "source": [
    "## 3.2. previous model"
   ]
  },
  {
   "cell_type": "code",
   "execution_count": 103,
   "metadata": {},
   "outputs": [],
   "source": [
    "df_p = df.copy()\n",
    "services = [\"PhoneService\", \"OnlineSecurity\", \"OnlineBackup\", \"DeviceProtection\", \"TechSupport\", \"StreamingTV\", \"StreamingMovies\"]\n",
    "df_p = df_p.assign(no_of_services=df_p[services].sum(axis=1))\n",
    "df_p = df_p.assign(automatic_payment=np.where(df_p[\"PaymentMethod\"].str.contains(\"automatic\"), 1, 0))\n",
    "\n",
    "variables = [\"no_of_services\",\n",
    "             \"MonthlyCharges\",\n",
    "             \"automatic_payment\",\n",
    "             \"SeniorCitizen\",\n",
    "             \"Partner\",\n",
    "             \"Dependents\",\n",
    "             \"Churn\"]\n",
    "\n",
    "df_p = df_p[variables]"
   ]
  },
  {
   "cell_type": "code",
   "execution_count": 104,
   "metadata": {},
   "outputs": [
    {
     "data": {
      "text/plain": [
       "0.7775408670931059"
      ]
     },
     "execution_count": 104,
     "metadata": {},
     "output_type": "execute_result"
    }
   ],
   "source": [
    "evaluate_model(df_p)"
   ]
  },
  {
   "cell_type": "markdown",
   "metadata": {},
   "source": [
    "## 3.3. add no_of_services"
   ]
  },
  {
   "cell_type": "code",
   "execution_count": 106,
   "metadata": {},
   "outputs": [],
   "source": [
    "df_n = df.assign(no_of_services=df_p[\"no_of_services\"])"
   ]
  },
  {
   "cell_type": "code",
   "execution_count": 107,
   "metadata": {},
   "outputs": [
    {
     "data": {
      "text/plain": [
       "0.8002842928216063"
      ]
     },
     "execution_count": 107,
     "metadata": {},
     "output_type": "execute_result"
    }
   ],
   "source": [
    "evaluate_model(df_n)"
   ]
  },
  {
   "cell_type": "markdown",
   "metadata": {},
   "source": [
    "## 3.4. use MinMaxScaler"
   ]
  },
  {
   "cell_type": "code",
   "execution_count": 110,
   "metadata": {},
   "outputs": [],
   "source": [
    "from sklearn.preprocessing import MinMaxScaler"
   ]
  },
  {
   "cell_type": "code",
   "execution_count": 113,
   "metadata": {},
   "outputs": [
    {
     "data": {
      "text/plain": [
       "0.8002842928216063"
      ]
     },
     "execution_count": 113,
     "metadata": {},
     "output_type": "execute_result"
    }
   ],
   "source": [
    "evaluate_model(df, scaler=MinMaxScaler)"
   ]
  },
  {
   "cell_type": "code",
   "execution_count": 114,
   "metadata": {},
   "outputs": [
    {
     "data": {
      "text/plain": [
       "0.8002842928216063"
      ]
     },
     "execution_count": 114,
     "metadata": {},
     "output_type": "execute_result"
    }
   ],
   "source": [
    "evaluate_model(df_n, scaler=MinMaxScaler)"
   ]
  },
  {
   "cell_type": "code",
   "execution_count": 115,
   "metadata": {},
   "outputs": [
    {
     "data": {
      "text/plain": [
       "0.8009950248756219"
      ]
     },
     "execution_count": 115,
     "metadata": {},
     "output_type": "execute_result"
    }
   ],
   "source": [
    "evaluate_model(df)"
   ]
  },
  {
   "cell_type": "markdown",
   "metadata": {},
   "source": [
    "---"
   ]
  },
  {
   "cell_type": "code",
   "execution_count": 117,
   "metadata": {},
   "outputs": [
    {
     "data": {
      "text/plain": [
       "customerID          7032\n",
       "SeniorCitizen          2\n",
       "Partner                2\n",
       "Dependents             2\n",
       "tenure                72\n",
       "PhoneService           2\n",
       "MultipleLines          2\n",
       "InternetService        3\n",
       "OnlineSecurity         2\n",
       "OnlineBackup           2\n",
       "DeviceProtection       2\n",
       "TechSupport            2\n",
       "StreamingTV            2\n",
       "StreamingMovies        2\n",
       "Contract               3\n",
       "PaperlessBilling       2\n",
       "PaymentMethod          4\n",
       "MonthlyCharges      1584\n",
       "TotalCharges        6530\n",
       "Churn                  2\n",
       "Female                 2\n",
       "dtype: int64"
      ]
     },
     "execution_count": 117,
     "metadata": {},
     "output_type": "execute_result"
    }
   ],
   "source": [
    "df.nunique()"
   ]
  },
  {
   "cell_type": "markdown",
   "metadata": {},
   "source": [
    "# 4. Refactor evaluate_model function to take classification algorithm as input"
   ]
  },
  {
   "cell_type": "code",
   "execution_count": 118,
   "metadata": {},
   "outputs": [],
   "source": [
    "def evaluate_model_new(df, classifier, scaler=StandardScaler, seed=666):\n",
    "    # assign columns\n",
    "    id_col = [\"customerID\"]\n",
    "    target_col = [\"Churn\"]\n",
    "    bool_col = [col for col in get_cols_list(df, 2, False) if col not in target_col]\n",
    "    cat_col = [col for col in get_cols_list(df, 4) if col not in target_col]\n",
    "    num_col = [col for col in df.columns if col not in id_col + target_col + cat_col]\n",
    "    \n",
    "    # create dummies\n",
    "    df = pd.get_dummies(data=df,\n",
    "                        columns=[col for col in cat_col if col not in bool_col],\n",
    "                        drop_first=True)\n",
    "    cat_col = [col for col in get_cols_list(df, 4) if col not in target_col]\n",
    "    bool_col = [col for col in get_cols_list(df, 2, False) if col not in target_col]\n",
    "    \n",
    "    # split df \n",
    "    train, test = train_test_split(df, test_size=.2, random_state=seed)\n",
    "    train_X = train[cat_col + num_col].reset_index(drop=True)\n",
    "    train_Y = train[target_col].reset_index(drop=True)\n",
    "    test_X = test[cat_col + num_col].reset_index(drop=True)\n",
    "    test_Y = test[target_col].reset_index(drop=True)\n",
    "    \n",
    "    # Standardize\n",
    "    std = scaler()\n",
    "    scaled_fitted = std.fit(train_X[num_col])\n",
    "    scaled = scaled_fitted.transform(train_X[num_col])\n",
    "    scaled = pd.DataFrame(scaled, columns=num_col)\n",
    "    \n",
    "    train_X = train_X.drop(columns=num_col, axis=1)\n",
    "    train_X = train_X.merge(scaled, left_index=True, right_index=True, how=\"left\")\n",
    "    \n",
    "    # train model\n",
    "    model = classifier\n",
    "    model.fit(train_X, train_Y.values.ravel())\n",
    "    \n",
    "    # Predict on test set\n",
    "    scaled_test = scaled_fitted.transform(test_X[num_col])\n",
    "    scaled_test = pd.DataFrame(scaled_test, columns=num_col)\n",
    "    \n",
    "    test_X = test_X.drop(columns=num_col, axis=1)\n",
    "    test_X = test_X.merge(scaled_test, left_index=True, right_index=True, how=\"left\")\n",
    "    \n",
    "    pred = model.predict(test_X)\n",
    "    \n",
    "    # Compute accuracy\n",
    "    return accuracy_score(test_Y, pred)\n",
    "    "
   ]
  },
  {
   "cell_type": "code",
   "execution_count": 119,
   "metadata": {},
   "outputs": [
    {
     "data": {
      "text/plain": [
       "0.8009950248756219"
      ]
     },
     "execution_count": 119,
     "metadata": {},
     "output_type": "execute_result"
    }
   ],
   "source": [
    "evaluate_model_new(df,classifier=LogisticRegression(solver=\"liblinear\"))"
   ]
  },
  {
   "cell_type": "markdown",
   "metadata": {},
   "source": [
    "## 4.1. Use decision tree classifier"
   ]
  },
  {
   "cell_type": "code",
   "execution_count": 120,
   "metadata": {},
   "outputs": [],
   "source": [
    "from sklearn.tree import DecisionTreeClassifier"
   ]
  },
  {
   "cell_type": "code",
   "execution_count": 121,
   "metadata": {},
   "outputs": [
    {
     "data": {
      "text/plain": [
       "0.7313432835820896"
      ]
     },
     "execution_count": 121,
     "metadata": {},
     "output_type": "execute_result"
    }
   ],
   "source": [
    "evaluate_model_new(df, DecisionTreeClassifier())"
   ]
  },
  {
   "cell_type": "code",
   "execution_count": 122,
   "metadata": {},
   "outputs": [
    {
     "data": {
      "text/plain": [
       "0.7192608386638237"
      ]
     },
     "execution_count": 122,
     "metadata": {},
     "output_type": "execute_result"
    }
   ],
   "source": [
    "evaluate_model_new(df_p, DecisionTreeClassifier())"
   ]
  },
  {
   "cell_type": "markdown",
   "metadata": {},
   "source": [
    "## 4.2. Use random forest"
   ]
  },
  {
   "cell_type": "code",
   "execution_count": 123,
   "metadata": {},
   "outputs": [],
   "source": [
    "from sklearn.ensemble import RandomForestClassifier"
   ]
  },
  {
   "cell_type": "code",
   "execution_count": 125,
   "metadata": {},
   "outputs": [
    {
     "name": "stderr",
     "output_type": "stream",
     "text": [
      "/Users/at/miniconda3/envs/day1/lib/python3.7/site-packages/sklearn/ensemble/forest.py:245: FutureWarning: The default value of n_estimators will change from 10 in version 0.20 to 100 in 0.22.\n",
      "  \"10 in version 0.20 to 100 in 0.22.\", FutureWarning)\n"
     ]
    },
    {
     "data": {
      "text/plain": [
       "0.7789623312011372"
      ]
     },
     "execution_count": 125,
     "metadata": {},
     "output_type": "execute_result"
    }
   ],
   "source": [
    "evaluate_model_new(df, RandomForestClassifier())"
   ]
  }
 ],
 "metadata": {
  "kernelspec": {
   "display_name": "Python 3",
   "language": "python",
   "name": "python3"
  },
  "language_info": {
   "codemirror_mode": {
    "name": "ipython",
    "version": 3
   },
   "file_extension": ".py",
   "mimetype": "text/x-python",
   "name": "python",
   "nbconvert_exporter": "python",
   "pygments_lexer": "ipython3",
   "version": "3.7.4"
  }
 },
 "nbformat": 4,
 "nbformat_minor": 2
}
