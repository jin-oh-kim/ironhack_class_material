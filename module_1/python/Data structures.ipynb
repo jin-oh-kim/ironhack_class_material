{
 "cells": [
  {
   "cell_type": "markdown",
   "metadata": {},
   "source": [
    "# Dicts & Lists\n",
    "\n",
    "## 1. Using `dict`s for control flow"
   ]
  },
  {
   "cell_type": "code",
   "execution_count": 1,
   "metadata": {},
   "outputs": [],
   "source": [
    "import random\n",
    "shoppers = random.sample(range(40), 20)"
   ]
  },
  {
   "cell_type": "code",
   "execution_count": 2,
   "metadata": {},
   "outputs": [
    {
     "data": {
      "text/plain": [
       "[35, 3, 2, 32, 19, 6, 14, 8, 37, 34, 11, 33, 12, 9, 27, 26, 31, 21, 15, 10]"
      ]
     },
     "execution_count": 2,
     "metadata": {},
     "output_type": "execute_result"
    }
   ],
   "source": [
    "shoppers"
   ]
  },
  {
   "cell_type": "code",
   "execution_count": 3,
   "metadata": {},
   "outputs": [
    {
     "data": {
      "text/plain": [
       "[3, 0, 0, 3, 1, 0, 1, 0, 3, 3, 1, 3, 1, 0, 2, 2, 3, 2, 1, 1]"
      ]
     },
     "execution_count": 3,
     "metadata": {},
     "output_type": "execute_result"
    }
   ],
   "source": [
    "[int(i / 10)  for i in shoppers]"
   ]
  },
  {
   "cell_type": "markdown",
   "metadata": {},
   "source": [
    "Using `if` statements"
   ]
  },
  {
   "cell_type": "code",
   "execution_count": 4,
   "metadata": {},
   "outputs": [
    {
     "name": "stdout",
     "output_type": "stream",
     "text": [
      "steak\n",
      "BUY MORE!\n",
      "BUY MORE!\n",
      "steak\n",
      "candybar\n",
      "BUY MORE!\n",
      "candybar\n",
      "BUY MORE!\n",
      "steak\n",
      "steak\n",
      "candybar\n",
      "steak\n",
      "candybar\n",
      "BUY MORE!\n",
      "cake\n",
      "cake\n",
      "steak\n",
      "cake\n",
      "candybar\n",
      "candybar\n"
     ]
    }
   ],
   "source": [
    "for purchase_price in shoppers:\n",
    "    if int(purchase_price / 10) == 3:\n",
    "        print(\"steak\")\n",
    "    elif int(purchase_price / 10) == 2:\n",
    "        print(\"cake\")\n",
    "    elif int(purchase_price / 10) == 1:\n",
    "        print(\"candybar\")\n",
    "    else:\n",
    "        print(\"BUY MORE!\")"
   ]
  },
  {
   "cell_type": "markdown",
   "metadata": {},
   "source": [
    "Using `dict`"
   ]
  },
  {
   "cell_type": "code",
   "execution_count": 5,
   "metadata": {},
   "outputs": [],
   "source": [
    "rewards = {\n",
    "    0: \"BUY MORE!\",\n",
    "    1: \"candybar\",\n",
    "    2: \"cake\",\n",
    "    3: \"bikes\"}"
   ]
  },
  {
   "cell_type": "code",
   "execution_count": 6,
   "metadata": {},
   "outputs": [
    {
     "name": "stdout",
     "output_type": "stream",
     "text": [
      "bikes\n",
      "BUY MORE!\n",
      "BUY MORE!\n",
      "bikes\n",
      "candybar\n",
      "BUY MORE!\n",
      "candybar\n",
      "BUY MORE!\n",
      "bikes\n",
      "bikes\n",
      "candybar\n",
      "bikes\n",
      "candybar\n",
      "BUY MORE!\n",
      "cake\n",
      "cake\n",
      "bikes\n",
      "cake\n",
      "candybar\n",
      "candybar\n"
     ]
    }
   ],
   "source": [
    "for purchase_price in shoppers:\n",
    "    truncated_price = int(purchase_price / 10)\n",
    "    print(rewards[truncated_price])"
   ]
  },
  {
   "cell_type": "markdown",
   "metadata": {},
   "source": [
    "Passing functions as values to `dict`s"
   ]
  },
  {
   "cell_type": "code",
   "execution_count": 7,
   "metadata": {},
   "outputs": [],
   "source": [
    "def candybar():\n",
    "    print(\"You got a candybar!!!!\")\n",
    "    \n",
    "def cake():\n",
    "    print(\"cake cake cake!\")\n",
    "    \n",
    "def bikes():\n",
    "    print(\"Wear a helmet!\")\n",
    "    \n",
    "def buy_more():\n",
    "    print(\"BUY MORE!\")\n",
    "    \n",
    "rewards_from_funcs = {\n",
    "    0: buy_more,\n",
    "    1: candybar, \n",
    "    2: cake,\n",
    "    3: bikes\n",
    "}"
   ]
  },
  {
   "cell_type": "code",
   "execution_count": 8,
   "metadata": {},
   "outputs": [
    {
     "name": "stdout",
     "output_type": "stream",
     "text": [
      "Wear a helmet!\n",
      "BUY MORE!\n",
      "BUY MORE!\n",
      "Wear a helmet!\n",
      "You got a candybar!!!!\n",
      "BUY MORE!\n",
      "You got a candybar!!!!\n",
      "BUY MORE!\n",
      "Wear a helmet!\n",
      "Wear a helmet!\n",
      "You got a candybar!!!!\n",
      "Wear a helmet!\n",
      "You got a candybar!!!!\n",
      "BUY MORE!\n",
      "cake cake cake!\n",
      "cake cake cake!\n",
      "Wear a helmet!\n",
      "cake cake cake!\n",
      "You got a candybar!!!!\n",
      "You got a candybar!!!!\n"
     ]
    }
   ],
   "source": [
    "for purchase_price in shoppers:\n",
    "    truncated_price = int(purchase_price / 10)\n",
    "    rewards_from_funcs[truncated_price]()"
   ]
  },
  {
   "cell_type": "markdown",
   "metadata": {},
   "source": [
    "## 2. Using `dicts` to keep scores"
   ]
  },
  {
   "cell_type": "code",
   "execution_count": 9,
   "metadata": {},
   "outputs": [],
   "source": [
    "text = \"Fischers Fritz fischt frische Fische\""
   ]
  },
  {
   "cell_type": "markdown",
   "metadata": {},
   "source": [
    "using `str.lower()` to remove case sensitivity"
   ]
  },
  {
   "cell_type": "code",
   "execution_count": 10,
   "metadata": {},
   "outputs": [
    {
     "data": {
      "text/plain": [
       "'fischers fritz fischt frische fische'"
      ]
     },
     "execution_count": 10,
     "metadata": {},
     "output_type": "execute_result"
    }
   ],
   "source": [
    "text.lower()"
   ]
  },
  {
   "cell_type": "code",
   "execution_count": 11,
   "metadata": {},
   "outputs": [
    {
     "data": {
      "text/plain": [
       "{'f': 5,\n",
       " 'i': 5,\n",
       " 's': 5,\n",
       " 'c': 4,\n",
       " 'h': 4,\n",
       " 'e': 3,\n",
       " 'r': 3,\n",
       " ' ': 4,\n",
       " 't': 2,\n",
       " 'z': 1}"
      ]
     },
     "execution_count": 11,
     "metadata": {},
     "output_type": "execute_result"
    }
   ],
   "source": [
    "letter_occurences = {}\n",
    "for letter in text.lower():\n",
    "    if letter in letter_occurences:\n",
    "        letter_occurences[letter] += 1 \n",
    "    else:\n",
    "        letter_occurences[letter] = 1\n",
    "        \n",
    "letter_occurences\n"
   ]
  },
  {
   "cell_type": "code",
   "execution_count": 12,
   "metadata": {},
   "outputs": [],
   "source": [
    "import re"
   ]
  },
  {
   "cell_type": "code",
   "execution_count": 13,
   "metadata": {},
   "outputs": [
    {
     "data": {
      "text/plain": [
       "['google', 'twitter', 'myspace', 'ironhack', 'spiegel']"
      ]
     },
     "execution_count": 13,
     "metadata": {},
     "output_type": "execute_result"
    }
   ],
   "source": [
    "urls = [\n",
    "    \"www.google.com/oseiughfwriuthaeiuzr\",\n",
    "    \"www.twitter.com/esiughwriug\",\n",
    "    \"www.myspace.com/owitj8je4t\",\n",
    "    \"www.ironhack.com/oiwengwiorg\",\n",
    "    \"www.spiegel.de/woeigjr\"\n",
    "]\n",
    "\n",
    "url_pattern = \"^www\\.(.+)\\.\"\n",
    "\n",
    "domains = []\n",
    "for url in urls:\n",
    "    domains.append(re.findall(url_pattern, url)[0])\n",
    "\n",
    "domains"
   ]
  },
  {
   "cell_type": "markdown",
   "metadata": {},
   "source": [
    "# String Interpolation"
   ]
  },
  {
   "cell_type": "code",
   "execution_count": 14,
   "metadata": {},
   "outputs": [],
   "source": [
    "name = \"Mano\""
   ]
  },
  {
   "cell_type": "code",
   "execution_count": 15,
   "metadata": {},
   "outputs": [
    {
     "name": "stdout",
     "output_type": "stream",
     "text": [
      "My name is ManoManoManoManoMano\n"
     ]
    }
   ],
   "source": [
    "print(f\"My name is {name*5}\")"
   ]
  },
  {
   "cell_type": "code",
   "execution_count": 16,
   "metadata": {},
   "outputs": [
    {
     "name": "stdout",
     "output_type": "stream",
     "text": [
      "ManoMano has 10 Oranges\n",
      "TessaTessa has 3 Apples\n",
      "IsabellIsabell has 100 Grapefruits\n",
      "LizLiz has 1 Banana\n"
     ]
    }
   ],
   "source": [
    "fruits = [\n",
    "    {\"name\": \"Mano\",\n",
    "     \"fruit\": \"Orange\",\n",
    "     \"quantity\": 10},\n",
    "    {\"name\": \"Tessa\",\n",
    "     \"fruit\": \"Apple\",\n",
    "     \"quantity\": 3},\n",
    "    {\"name\": \"Isabell\",\n",
    "     \"fruit\": \"Grapefruit\",\n",
    "     \"quantity\": 100},\n",
    "    {\"name\": \"Liz\",\n",
    "     \"fruit\": \"Banana\",\n",
    "     \"quantity\": 1},\n",
    "]\n",
    "\n",
    "for person in fruits:\n",
    "    print(f\"{person['name']*2} has {person['quantity']} {person['fruit']}\\\n",
    "{'s' if person['quantity'] > 1 else ''}\")"
   ]
  },
  {
   "cell_type": "code",
   "execution_count": 17,
   "metadata": {},
   "outputs": [
    {
     "name": "stdout",
     "output_type": "stream",
     "text": [
      "Mano has 10 Oranges\n",
      "Tessa has 3 Apples\n",
      "Isabell has 100 Grapefruits\n",
      "Liz has 1 Banana\n"
     ]
    }
   ],
   "source": [
    "for person in fruits:\n",
    "    print(f\"\"\"{person['name']} has {person['quantity']} {person['fruit']}{'s' if person['quantity'] > 1 else ''}\"\"\")"
   ]
  },
  {
   "cell_type": "code",
   "execution_count": 18,
   "metadata": {},
   "outputs": [
    {
     "name": "stdout",
     "output_type": "stream",
     "text": [
      "Mano has 10 Oranges\n",
      "Tessa has 3 Apples\n",
      "Isabell has 100 Grapefruits\n",
      "Liz has 1 Banana\n"
     ]
    }
   ],
   "source": [
    "for person in fruits:\n",
    "    print(\"{} has {} {}{}\".format(person[\"name\"],\n",
    "                                  person[\"quantity\"],\n",
    "                                  person[\"fruit\"],\n",
    "                                  \"s\" if person[\"quantity\"] > 1 else \"\"))"
   ]
  }
 ],
 "metadata": {
  "kernelspec": {
   "display_name": "Python 3",
   "language": "python",
   "name": "python3"
  },
  "language_info": {
   "codemirror_mode": {
    "name": "ipython",
    "version": 3
   },
   "file_extension": ".py",
   "mimetype": "text/x-python",
   "name": "python",
   "nbconvert_exporter": "python",
   "pygments_lexer": "ipython3",
   "version": "3.7.4"
  }
 },
 "nbformat": 4,
 "nbformat_minor": 2
}
