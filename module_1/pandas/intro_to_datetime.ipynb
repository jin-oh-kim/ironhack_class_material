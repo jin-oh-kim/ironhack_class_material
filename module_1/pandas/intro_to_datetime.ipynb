{
 "cells": [
  {
   "cell_type": "code",
   "execution_count": 1,
   "metadata": {},
   "outputs": [],
   "source": [
    "import pandas as pd\n",
    "import numpy as np\n",
    "import pymysql\n",
    "import getpass"
   ]
  },
  {
   "cell_type": "code",
   "execution_count": 2,
   "metadata": {},
   "outputs": [
    {
     "name": "stdout",
     "output_type": "stream",
     "text": [
      "········\n"
     ]
    }
   ],
   "source": [
    "pw = getpass.getpass()"
   ]
  },
  {
   "cell_type": "code",
   "execution_count": 3,
   "metadata": {},
   "outputs": [],
   "source": [
    "conn = pymysql.connect(host=\"localhost\",\n",
    "                       port=3306,\n",
    "                       user=\"ironhack\",\n",
    "                       passwd=pw,\n",
    "                       db=\"bank\")"
   ]
  },
  {
   "cell_type": "code",
   "execution_count": 4,
   "metadata": {},
   "outputs": [],
   "source": [
    "transactions = pd.read_sql(\"SELECT * FROM trans;\", conn)"
   ]
  },
  {
   "cell_type": "code",
   "execution_count": 5,
   "metadata": {},
   "outputs": [
    {
     "data": {
      "text/html": [
       "<div>\n",
       "<style scoped>\n",
       "    .dataframe tbody tr th:only-of-type {\n",
       "        vertical-align: middle;\n",
       "    }\n",
       "\n",
       "    .dataframe tbody tr th {\n",
       "        vertical-align: top;\n",
       "    }\n",
       "\n",
       "    .dataframe thead th {\n",
       "        text-align: right;\n",
       "    }\n",
       "</style>\n",
       "<table border=\"1\" class=\"dataframe\">\n",
       "  <thead>\n",
       "    <tr style=\"text-align: right;\">\n",
       "      <th></th>\n",
       "      <th>trans_id</th>\n",
       "      <th>account_id</th>\n",
       "      <th>date</th>\n",
       "      <th>amount</th>\n",
       "      <th>balance</th>\n",
       "      <th>account</th>\n",
       "    </tr>\n",
       "  </thead>\n",
       "  <tbody>\n",
       "    <tr>\n",
       "      <th>count</th>\n",
       "      <td>8.680190e+05</td>\n",
       "      <td>868019.000000</td>\n",
       "      <td>868019.000000</td>\n",
       "      <td>868019.000000</td>\n",
       "      <td>868019.000000</td>\n",
       "      <td>8.680190e+05</td>\n",
       "    </tr>\n",
       "    <tr>\n",
       "      <th>mean</th>\n",
       "      <td>1.440667e+06</td>\n",
       "      <td>2950.988970</td>\n",
       "      <td>965528.499199</td>\n",
       "      <td>5430.072479</td>\n",
       "      <td>38385.785573</td>\n",
       "      <td>9.693615e+06</td>\n",
       "    </tr>\n",
       "    <tr>\n",
       "      <th>std</th>\n",
       "      <td>1.285451e+06</td>\n",
       "      <td>2480.958488</td>\n",
       "      <td>13985.762119</td>\n",
       "      <td>9381.422547</td>\n",
       "      <td>22138.967363</td>\n",
       "      <td>2.341477e+07</td>\n",
       "    </tr>\n",
       "    <tr>\n",
       "      <th>min</th>\n",
       "      <td>1.000000e+00</td>\n",
       "      <td>1.000000</td>\n",
       "      <td>930101.000000</td>\n",
       "      <td>0.000000</td>\n",
       "      <td>-41125.700000</td>\n",
       "      <td>0.000000e+00</td>\n",
       "    </tr>\n",
       "    <tr>\n",
       "      <th>25%</th>\n",
       "      <td>4.528845e+05</td>\n",
       "      <td>1214.000000</td>\n",
       "      <td>960113.000000</td>\n",
       "      <td>100.000000</td>\n",
       "      <td>22360.750000</td>\n",
       "      <td>0.000000e+00</td>\n",
       "    </tr>\n",
       "    <tr>\n",
       "      <th>50%</th>\n",
       "      <td>9.064900e+05</td>\n",
       "      <td>2454.000000</td>\n",
       "      <td>970401.000000</td>\n",
       "      <td>1380.000000</td>\n",
       "      <td>33001.000000</td>\n",
       "      <td>0.000000e+00</td>\n",
       "    </tr>\n",
       "    <tr>\n",
       "      <th>75%</th>\n",
       "      <td>2.750922e+06</td>\n",
       "      <td>3677.000000</td>\n",
       "      <td>980215.000000</td>\n",
       "      <td>6100.000000</td>\n",
       "      <td>49246.400000</td>\n",
       "      <td>0.000000e+00</td>\n",
       "    </tr>\n",
       "    <tr>\n",
       "      <th>max</th>\n",
       "      <td>3.682987e+06</td>\n",
       "      <td>11382.000000</td>\n",
       "      <td>981231.000000</td>\n",
       "      <td>87400.000000</td>\n",
       "      <td>209637.000000</td>\n",
       "      <td>9.999420e+07</td>\n",
       "    </tr>\n",
       "  </tbody>\n",
       "</table>\n",
       "</div>"
      ],
      "text/plain": [
       "           trans_id     account_id           date         amount  \\\n",
       "count  8.680190e+05  868019.000000  868019.000000  868019.000000   \n",
       "mean   1.440667e+06    2950.988970  965528.499199    5430.072479   \n",
       "std    1.285451e+06    2480.958488   13985.762119    9381.422547   \n",
       "min    1.000000e+00       1.000000  930101.000000       0.000000   \n",
       "25%    4.528845e+05    1214.000000  960113.000000     100.000000   \n",
       "50%    9.064900e+05    2454.000000  970401.000000    1380.000000   \n",
       "75%    2.750922e+06    3677.000000  980215.000000    6100.000000   \n",
       "max    3.682987e+06   11382.000000  981231.000000   87400.000000   \n",
       "\n",
       "             balance       account  \n",
       "count  868019.000000  8.680190e+05  \n",
       "mean    38385.785573  9.693615e+06  \n",
       "std     22138.967363  2.341477e+07  \n",
       "min    -41125.700000  0.000000e+00  \n",
       "25%     22360.750000  0.000000e+00  \n",
       "50%     33001.000000  0.000000e+00  \n",
       "75%     49246.400000  0.000000e+00  \n",
       "max    209637.000000  9.999420e+07  "
      ]
     },
     "execution_count": 5,
     "metadata": {},
     "output_type": "execute_result"
    }
   ],
   "source": [
    "transactions.describe()"
   ]
  },
  {
   "cell_type": "code",
   "execution_count": 7,
   "metadata": {},
   "outputs": [
    {
     "data": {
      "text/plain": [
       "trans_id        int64\n",
       "account_id      int64\n",
       "date            int64\n",
       "type           object\n",
       "operation      object\n",
       "amount        float64\n",
       "balance       float64\n",
       "k_symbol       object\n",
       "bank           object\n",
       "account         int64\n",
       "dtype: object"
      ]
     },
     "execution_count": 7,
     "metadata": {},
     "output_type": "execute_result"
    }
   ],
   "source": [
    "transactions.dtypes"
   ]
  },
  {
   "cell_type": "code",
   "execution_count": 8,
   "metadata": {},
   "outputs": [
    {
     "data": {
      "text/plain": [
       "0        1970-01-01 00:00:00.000930101\n",
       "1        1970-01-01 00:00:00.000930101\n",
       "2        1970-01-01 00:00:00.000930101\n",
       "3        1970-01-01 00:00:00.000930101\n",
       "4        1970-01-01 00:00:00.000930102\n",
       "                      ...             \n",
       "868014   1970-01-01 00:00:00.000981231\n",
       "868015   1970-01-01 00:00:00.000981231\n",
       "868016   1970-01-01 00:00:00.000981231\n",
       "868017   1970-01-01 00:00:00.000981231\n",
       "868018   1970-01-01 00:00:00.000981231\n",
       "Name: date, Length: 868019, dtype: datetime64[ns]"
      ]
     },
     "execution_count": 8,
     "metadata": {},
     "output_type": "execute_result"
    }
   ],
   "source": [
    "pd.to_datetime(transactions[\"date\"], infer_datetime_format=True)"
   ]
  },
  {
   "cell_type": "markdown",
   "metadata": {},
   "source": [
    "didn't work"
   ]
  },
  {
   "cell_type": "code",
   "execution_count": 12,
   "metadata": {},
   "outputs": [],
   "source": [
    "transactions[\"date\"] = pd.to_datetime(\"19\"+transactions[\"date\"].astype(str), infer_datetime_format=True)"
   ]
  },
  {
   "cell_type": "code",
   "execution_count": 15,
   "metadata": {},
   "outputs": [
    {
     "data": {
      "text/plain": [
       "1993-01-01       4\n",
       "1993-01-02       2\n",
       "1993-01-03       5\n",
       "1993-01-04       4\n",
       "1993-01-05       2\n",
       "              ... \n",
       "1998-12-27     235\n",
       "1998-12-28     198\n",
       "1998-12-29     214\n",
       "1998-12-30     216\n",
       "1998-12-31    4501\n",
       "Name: date, Length: 2191, dtype: int64"
      ]
     },
     "execution_count": 15,
     "metadata": {},
     "output_type": "execute_result"
    }
   ],
   "source": [
    "transactions[\"date\"].value_counts().sort_index()"
   ]
  },
  {
   "cell_type": "code",
   "execution_count": 16,
   "metadata": {},
   "outputs": [
    {
     "data": {
      "text/plain": [
       "0         1993\n",
       "1         1993\n",
       "2         1993\n",
       "3         1993\n",
       "4         1993\n",
       "          ... \n",
       "868014    1998\n",
       "868015    1998\n",
       "868016    1998\n",
       "868017    1998\n",
       "868018    1998\n",
       "Name: date, Length: 868019, dtype: int64"
      ]
     },
     "execution_count": 16,
     "metadata": {},
     "output_type": "execute_result"
    }
   ],
   "source": [
    "transactions[\"date\"].dt.year"
   ]
  },
  {
   "cell_type": "code",
   "execution_count": 18,
   "metadata": {},
   "outputs": [
    {
     "data": {
      "text/plain": [
       "0         1993-01\n",
       "1         1993-01\n",
       "2         1993-01\n",
       "3         1993-01\n",
       "4         1993-01\n",
       "           ...   \n",
       "868014    1998-12\n",
       "868015    1998-12\n",
       "868016    1998-12\n",
       "868017    1998-12\n",
       "868018    1998-12\n",
       "Name: date, Length: 868019, dtype: period[M]"
      ]
     },
     "execution_count": 18,
     "metadata": {},
     "output_type": "execute_result"
    }
   ],
   "source": [
    "transactions[\"date\"].dt.to_period(\"M\")"
   ]
  },
  {
   "cell_type": "code",
   "execution_count": 20,
   "metadata": {},
   "outputs": [
    {
     "data": {
      "text/plain": [
       "1993-01      165\n",
       "1993-02      360\n",
       "1993-03      604\n",
       "1993-04      821\n",
       "1993-05     1166\n",
       "           ...  \n",
       "1998-08    20678\n",
       "1998-09    20552\n",
       "1998-10    20716\n",
       "1998-11    20379\n",
       "1998-12    18036\n",
       "Freq: M, Name: date, Length: 72, dtype: int64"
      ]
     },
     "execution_count": 20,
     "metadata": {},
     "output_type": "execute_result"
    }
   ],
   "source": [
    "(transactions[\"date\"]\n",
    " .dt\n",
    " .to_period(\"M\")\n",
    " .value_counts()\n",
    " .sort_index())"
   ]
  }
 ],
 "metadata": {
  "kernelspec": {
   "display_name": "Python 3",
   "language": "python",
   "name": "python3"
  },
  "language_info": {
   "codemirror_mode": {
    "name": "ipython",
    "version": 3
   },
   "file_extension": ".py",
   "mimetype": "text/x-python",
   "name": "python",
   "nbconvert_exporter": "python",
   "pygments_lexer": "ipython3",
   "version": "3.7.4"
  }
 },
 "nbformat": 4,
 "nbformat_minor": 2
}
