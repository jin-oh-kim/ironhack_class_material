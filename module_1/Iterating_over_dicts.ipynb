{
 "cells": [
  {
   "cell_type": "code",
   "execution_count": 12,
   "metadata": {},
   "outputs": [],
   "source": [
    "d = {\"tree\": \"leaf\", \"legume\": \"cucumber\"}"
   ]
  },
  {
   "cell_type": "code",
   "execution_count": 3,
   "metadata": {},
   "outputs": [
    {
     "data": {
      "text/plain": [
       "dict"
      ]
     },
     "execution_count": 3,
     "metadata": {},
     "output_type": "execute_result"
    }
   ],
   "source": [
    "type(d)"
   ]
  },
  {
   "cell_type": "code",
   "execution_count": 18,
   "metadata": {},
   "outputs": [
    {
     "name": "stdout",
     "output_type": "stream",
     "text": [
      "This is the 1. iteration\n",
      "<class 'str'>\n",
      "tree\n",
      "leaf\n",
      "This is the 2. iteration\n",
      "<class 'str'>\n",
      "legume\n",
      "cucumber\n"
     ]
    }
   ],
   "source": [
    "i = 1\n",
    "for something in d:\n",
    "    print(f\"This is the {i}. iteration\")\n",
    "    print(type(something))\n",
    "    print(something)\n",
    "    print(d[something])\n",
    "    i += 1"
   ]
  },
  {
   "cell_type": "code",
   "execution_count": 28,
   "metadata": {},
   "outputs": [
    {
     "data": {
      "text/plain": [
       "[('tree', 'leaf'), ('legume', 'cucumber')]"
      ]
     },
     "execution_count": 28,
     "metadata": {},
     "output_type": "execute_result"
    }
   ],
   "source": [
    "list(d.items())"
   ]
  },
  {
   "cell_type": "code",
   "execution_count": 36,
   "metadata": {},
   "outputs": [
    {
     "name": "stdout",
     "output_type": "stream",
     "text": [
      "This is the 1. iteration\n",
      "The key in the 1. iteration is: tree\n",
      "The value in the 1. iteration is: leaf\n",
      "-----------------------------------------\n",
      "This is the 2. iteration\n",
      "The key in the 2. iteration is: legume\n",
      "The value in the 2. iteration is: cucumber\n",
      "-----------------------------------------\n"
     ]
    }
   ],
   "source": [
    "i = 1\n",
    "for key, value in d.items():\n",
    "    print(f\"This is the {i}. iteration\\\n",
    "\\nThe key in the {i}. iteration is: {key}\\\n",
    "\\nThe value in the {i}. iteration is: {value}\\\n",
    "\\n-----------------------------------------\")\n",
    "    i += 1\n"
   ]
  }
 ],
 "metadata": {
  "kernelspec": {
   "display_name": "Python 3",
   "language": "python",
   "name": "python3"
  },
  "language_info": {
   "codemirror_mode": {
    "name": "ipython",
    "version": 3
   },
   "file_extension": ".py",
   "mimetype": "text/x-python",
   "name": "python",
   "nbconvert_exporter": "python",
   "pygments_lexer": "ipython3",
   "version": "3.7.3"
  }
 },
 "nbformat": 4,
 "nbformat_minor": 2
}
