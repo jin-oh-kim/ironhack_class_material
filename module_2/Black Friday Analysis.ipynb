{
 "cells": [
  {
   "cell_type": "code",
   "execution_count": 28,
   "metadata": {},
   "outputs": [],
   "source": [
    "import pandas as pd\n",
    "import numpy as np\n",
    "import pymysql\n",
    "import getpass\n",
    "import matplotlib.pyplot as plt\n",
    "import seaborn as sns\n",
    "\n",
    "pd.set_option(\"display.max_rows\", 500)\n",
    "%matplotlib inline\n",
    "sns.set()\n",
    "sns.set_style(\"ticks\")"
   ]
  },
  {
   "cell_type": "code",
   "execution_count": 2,
   "metadata": {},
   "outputs": [
    {
     "name": "stdout",
     "output_type": "stream",
     "text": [
      "········\n"
     ]
    }
   ],
   "source": [
    "pw = getpass.getpass()"
   ]
  },
  {
   "cell_type": "code",
   "execution_count": 3,
   "metadata": {},
   "outputs": [],
   "source": [
    "conn = pymysql.connect(host=\"localhost\",\n",
    "                       port=3306,\n",
    "                       user=\"ironhack\",\n",
    "                       passwd=pw,\n",
    "                       db=\"olist\");"
   ]
  },
  {
   "cell_type": "markdown",
   "metadata": {},
   "source": [
    "# Analyzing black friday 2017\n",
    "\n",
    "Black Friday happened on Nov. 24th, 2017.\n",
    "We are tasked to evaluate the success."
   ]
  },
  {
   "cell_type": "code",
   "execution_count": 4,
   "metadata": {},
   "outputs": [],
   "source": [
    "# 0.1\n",
    "weekly_rev_query = \"\"\"\n",
    "SELECT\n",
    "    DATE_SUB(DATE(o.order_purchase_timestamp), INTERVAL DAYOFWEEK(DATE(o.order_purchase_timestamp)) - 1 DAY) AS week_id,\n",
    "    SUM(oi.price) AS revenue_generated\n",
    "FROM order_items oi\n",
    "    JOIN orders o\n",
    "    ON oi.order_id = o.order_id\n",
    "WHERE o.order_purchase_timestamp < '2018-01-15'\n",
    "    AND o.order_purchase_timestamp > '2017-03-05'\n",
    "GROUP BY 1\n",
    "ORDER BY 1;\n",
    "\"\"\"\n",
    "\n",
    "weekly_revenue = pd.read_sql(weekly_rev_query, conn)"
   ]
  },
  {
   "cell_type": "code",
   "execution_count": 5,
   "metadata": {},
   "outputs": [
    {
     "data": {
      "text/html": [
       "<div>\n",
       "<style scoped>\n",
       "    .dataframe tbody tr th:only-of-type {\n",
       "        vertical-align: middle;\n",
       "    }\n",
       "\n",
       "    .dataframe tbody tr th {\n",
       "        vertical-align: top;\n",
       "    }\n",
       "\n",
       "    .dataframe thead th {\n",
       "        text-align: right;\n",
       "    }\n",
       "</style>\n",
       "<table border=\"1\" class=\"dataframe\">\n",
       "  <thead>\n",
       "    <tr style=\"text-align: right;\">\n",
       "      <th></th>\n",
       "      <th>week_id</th>\n",
       "      <th>revenue_generated</th>\n",
       "    </tr>\n",
       "  </thead>\n",
       "  <tbody>\n",
       "    <tr>\n",
       "      <th>0</th>\n",
       "      <td>2017-03-05</td>\n",
       "      <td>78704.619772</td>\n",
       "    </tr>\n",
       "    <tr>\n",
       "      <th>1</th>\n",
       "      <td>2017-03-12</td>\n",
       "      <td>95487.199723</td>\n",
       "    </tr>\n",
       "    <tr>\n",
       "      <th>2</th>\n",
       "      <td>2017-03-19</td>\n",
       "      <td>85260.389904</td>\n",
       "    </tr>\n",
       "    <tr>\n",
       "      <th>3</th>\n",
       "      <td>2017-03-26</td>\n",
       "      <td>83634.099916</td>\n",
       "    </tr>\n",
       "    <tr>\n",
       "      <th>4</th>\n",
       "      <td>2017-04-02</td>\n",
       "      <td>94745.860022</td>\n",
       "    </tr>\n",
       "  </tbody>\n",
       "</table>\n",
       "</div>"
      ],
      "text/plain": [
       "      week_id  revenue_generated\n",
       "0  2017-03-05       78704.619772\n",
       "1  2017-03-12       95487.199723\n",
       "2  2017-03-19       85260.389904\n",
       "3  2017-03-26       83634.099916\n",
       "4  2017-04-02       94745.860022"
      ]
     },
     "execution_count": 5,
     "metadata": {},
     "output_type": "execute_result"
    }
   ],
   "source": [
    "# 0.2\n",
    "weekly_revenue.head()"
   ]
  },
  {
   "cell_type": "code",
   "execution_count": 6,
   "metadata": {},
   "outputs": [
    {
     "data": {
      "text/plain": [
       "week_id               object\n",
       "revenue_generated    float64\n",
       "dtype: object"
      ]
     },
     "execution_count": 6,
     "metadata": {},
     "output_type": "execute_result"
    }
   ],
   "source": [
    "# 0.3\n",
    "weekly_revenue.dtypes"
   ]
  },
  {
   "cell_type": "code",
   "execution_count": 8,
   "metadata": {},
   "outputs": [],
   "source": [
    "# 0.4\n",
    "weekly_revenue[\"week_id\"] = pd.to_datetime(weekly_revenue[\"week_id\"])"
   ]
  },
  {
   "cell_type": "code",
   "execution_count": 10,
   "metadata": {},
   "outputs": [],
   "source": [
    "# 0.5\n",
    "weekly_revenue = weekly_revenue.set_index(\"week_id\")"
   ]
  },
  {
   "cell_type": "markdown",
   "metadata": {},
   "source": [
    "## Approach 1:\n",
    "Week over week comparison"
   ]
  },
  {
   "cell_type": "code",
   "execution_count": 11,
   "metadata": {},
   "outputs": [],
   "source": [
    "# 1.1\n",
    "week_comp = weekly_revenue.copy()"
   ]
  },
  {
   "cell_type": "code",
   "execution_count": 13,
   "metadata": {},
   "outputs": [],
   "source": [
    "# 1.2\n",
    "# Filter df for only the black friday week and the week prior\n",
    "black_friday_week = \"2017-11-19\"\n",
    "prior_week = \"2017-11-12\"\n",
    "week_comp = week_comp.loc[prior_week:black_friday_week]"
   ]
  },
  {
   "cell_type": "code",
   "execution_count": 21,
   "metadata": {},
   "outputs": [
    {
     "data": {
      "text/html": [
       "<div>\n",
       "<style scoped>\n",
       "    .dataframe tbody tr th:only-of-type {\n",
       "        vertical-align: middle;\n",
       "    }\n",
       "\n",
       "    .dataframe tbody tr th {\n",
       "        vertical-align: top;\n",
       "    }\n",
       "\n",
       "    .dataframe thead th {\n",
       "        text-align: right;\n",
       "    }\n",
       "</style>\n",
       "<table border=\"1\" class=\"dataframe\">\n",
       "  <thead>\n",
       "    <tr style=\"text-align: right;\">\n",
       "      <th></th>\n",
       "      <th>revenue_generated</th>\n",
       "    </tr>\n",
       "    <tr>\n",
       "      <th>week_id</th>\n",
       "      <th></th>\n",
       "    </tr>\n",
       "  </thead>\n",
       "  <tbody>\n",
       "    <tr>\n",
       "      <th>2017-11-12</th>\n",
       "      <td>178951.390068</td>\n",
       "    </tr>\n",
       "    <tr>\n",
       "      <th>2017-11-19</th>\n",
       "      <td>381809.340397</td>\n",
       "    </tr>\n",
       "  </tbody>\n",
       "</table>\n",
       "</div>"
      ],
      "text/plain": [
       "            revenue_generated\n",
       "week_id                      \n",
       "2017-11-12      178951.390068\n",
       "2017-11-19      381809.340397"
      ]
     },
     "execution_count": 21,
     "metadata": {},
     "output_type": "execute_result"
    }
   ],
   "source": [
    "week_comp"
   ]
  },
  {
   "cell_type": "code",
   "execution_count": 15,
   "metadata": {},
   "outputs": [
    {
     "data": {
      "image/png": "[encoded data removed]",
      "text/plain": [
       "<Figure size 432x288 with 1 Axes>"
      ]
     },
     "metadata": {
      "needs_background": "light"
     },
     "output_type": "display_data"
    }
   ],
   "source": [
    "# 1.3 plot bars\n",
    "sns.barplot(data=week_comp,\n",
    "            x=week_comp.index,\n",
    "            y=\"revenue_generated\");"
   ]
  },
  {
   "cell_type": "code",
   "execution_count": 25,
   "metadata": {},
   "outputs": [
    {
     "name": "stdout",
     "output_type": "stream",
     "text": [
      "The revenue for the week of black friday increased by 113.0% compared to the week prior.\n",
      "This represents an increase of revenue by 202858.0 Reais.\n",
      "\n"
     ]
    }
   ],
   "source": [
    "# 1.4 compute diffs\n",
    "abs_diff_week_comp = week_comp.loc[\"2017-11-19\", \"revenue_generated\"] - week_comp.loc[\"2017-11-12\", \"revenue_generated\"]\n",
    "rel_diff_week_comp = (week_comp.loc[\"2017-11-19\", \"revenue_generated\"] / week_comp.loc[\"2017-11-12\", \"revenue_generated\"]) - 1\n",
    "\n",
    "print(f\"\"\"The revenue for the week of black friday increased by {round(rel_diff_week_comp * 100)}% compared to the week prior.\n",
    "This represents an increase of revenue by {round(abs_diff_week_comp)} Reais.\n",
    "\"\"\")"
   ]
  },
  {
   "cell_type": "markdown",
   "metadata": {},
   "source": [
    "---\n",
    "\n",
    "## Approach 2:\n",
    "Accounting for the weeks after black friday"
   ]
  },
  {
   "cell_type": "code",
   "execution_count": 32,
   "metadata": {},
   "outputs": [
    {
     "data": {
      "image/png": "[encoded data removed]",
      "text/plain": [
       "<Figure size 720x432 with 1 Axes>"
      ]
     },
     "metadata": {},
     "output_type": "display_data"
    }
   ],
   "source": [
    "# 2.1 plot weekly_rev\n",
    "fig, ax = plt.subplots(figsize=(10,6))\n",
    "sns.lineplot(data=weekly_revenue,\n",
    "             x=weekly_revenue.index,\n",
    "             y=\"revenue_generated\",\n",
    "             ax=ax);\n",
    "\n",
    "ax.axvline(\"2017-11-19\", color=\"r\");"
   ]
  },
  {
   "cell_type": "code",
   "execution_count": 34,
   "metadata": {},
   "outputs": [
    {
     "data": {
      "text/html": [
       "<div>\n",
       "<style scoped>\n",
       "    .dataframe tbody tr th:only-of-type {\n",
       "        vertical-align: middle;\n",
       "    }\n",
       "\n",
       "    .dataframe tbody tr th {\n",
       "        vertical-align: top;\n",
       "    }\n",
       "\n",
       "    .dataframe thead th {\n",
       "        text-align: right;\n",
       "    }\n",
       "</style>\n",
       "<table border=\"1\" class=\"dataframe\">\n",
       "  <thead>\n",
       "    <tr style=\"text-align: right;\">\n",
       "      <th></th>\n",
       "      <th>revenue_generated</th>\n",
       "    </tr>\n",
       "    <tr>\n",
       "      <th>week_id</th>\n",
       "      <th></th>\n",
       "    </tr>\n",
       "  </thead>\n",
       "  <tbody>\n",
       "    <tr>\n",
       "      <th>2017-11-12</th>\n",
       "      <td>178951.390068</td>\n",
       "    </tr>\n",
       "    <tr>\n",
       "      <th>2017-11-19</th>\n",
       "      <td>381809.340397</td>\n",
       "    </tr>\n",
       "    <tr>\n",
       "      <th>2017-11-26</th>\n",
       "      <td>283473.019732</td>\n",
       "    </tr>\n",
       "    <tr>\n",
       "      <th>2017-12-03</th>\n",
       "      <td>227372.830050</td>\n",
       "    </tr>\n",
       "    <tr>\n",
       "      <th>2017-12-10</th>\n",
       "      <td>194720.879677</td>\n",
       "    </tr>\n",
       "    <tr>\n",
       "      <th>2017-12-17</th>\n",
       "      <td>143431.610006</td>\n",
       "    </tr>\n",
       "    <tr>\n",
       "      <th>2017-12-24</th>\n",
       "      <td>98513.040154</td>\n",
       "    </tr>\n",
       "    <tr>\n",
       "      <th>2017-12-31</th>\n",
       "      <td>163005.200357</td>\n",
       "    </tr>\n",
       "  </tbody>\n",
       "</table>\n",
       "</div>"
      ],
      "text/plain": [
       "            revenue_generated\n",
       "week_id                      \n",
       "2017-11-12      178951.390068\n",
       "2017-11-19      381809.340397\n",
       "2017-11-26      283473.019732\n",
       "2017-12-03      227372.830050\n",
       "2017-12-10      194720.879677\n",
       "2017-12-17      143431.610006\n",
       "2017-12-24       98513.040154\n",
       "2017-12-31      163005.200357"
      ]
     },
     "execution_count": 34,
     "metadata": {},
     "output_type": "execute_result"
    }
   ],
   "source": [
    "# 2.2\n",
    "week_hangover = (weekly_revenue\n",
    "                 .copy()\n",
    "                 .loc[\"2017-11-12\":\"2017-12-31\"])\n",
    "week_hangover"
   ]
  },
  {
   "cell_type": "code",
   "execution_count": 38,
   "metadata": {},
   "outputs": [
    {
     "data": {
      "image/png": "[encoded data removed]",
      "text/plain": [
       "<Figure size 720x432 with 1 Axes>"
      ]
     },
     "metadata": {},
     "output_type": "display_data"
    }
   ],
   "source": [
    "# 2.3\n",
    "fig, ax = plt.subplots(figsize=(10,6))\n",
    "sns.barplot(data=week_hangover,\n",
    "            x=week_hangover.index,\n",
    "            y=\"revenue_generated\",\n",
    "            ax=ax);\n",
    "ax.axhline(week_hangover.loc[\"2017-11-12\", \"revenue_generated\"], color=\"r\");"
   ]
  },
  {
   "cell_type": "code",
   "execution_count": 39,
   "metadata": {},
   "outputs": [],
   "source": [
    "# 2.4\n",
    "rev_reference_week = week_hangover.loc[\"2017-11-12\", \"revenue_generated\"]\n",
    "rev_subsequent_weeks = week_hangover.loc[\"2017-11-19\":, \"revenue_generated\"]"
   ]
  },
  {
   "cell_type": "code",
   "execution_count": 45,
   "metadata": {},
   "outputs": [],
   "source": [
    "# 2.5\n",
    "rev_predictions = rev_subsequent_weeks.to_frame().assign(predicted_revenue=rev_reference_week)"
   ]
  },
  {
   "cell_type": "code",
   "execution_count": 56,
   "metadata": {},
   "outputs": [
    {
     "name": "stdout",
     "output_type": "stream",
     "text": [
      "The revenue increased by 134.0% due to black friday compared to the our forecasts.\n",
      "This represents an increase of revenue by 239666.0 Reais.\n",
      "\n"
     ]
    }
   ],
   "source": [
    "# 2.6 Estimate black friday impact\n",
    "abs_diff_hangover = (rev_predictions[\"revenue_generated\"] - rev_predictions[\"predicted_revenue\"]).sum()\n",
    "rel_diff_hangover = abs_diff_hangover / rev_reference_week\n",
    "\n",
    "print(f\"\"\"The revenue increased by {round(rel_diff_hangover * 100)}% due to black friday compared to the our forecasts.\n",
    "This represents an increase of revenue by {round(abs_diff_hangover)} Reais.\n",
    "\"\"\")"
   ]
  },
  {
   "cell_type": "markdown",
   "metadata": {},
   "source": [
    "## Lab\n",
    "Extend approach 2 to account for consumers that postponed purchases to the black friday week that otherwise would have purchased prior to black friday.\n",
    "You can use a simple weeks revenue as a forecast for simplicity. Just make sure to set somewhat reasonable boundaries for the date range affected by black friday. "
   ]
  }
 ],
 "metadata": {
  "kernelspec": {
   "display_name": "Python 3",
   "language": "python",
   "name": "python3"
  },
  "language_info": {
   "codemirror_mode": {
    "name": "ipython",
    "version": 3
   },
   "file_extension": ".py",
   "mimetype": "text/x-python",
   "name": "python",
   "nbconvert_exporter": "python",
   "pygments_lexer": "ipython3",
   "version": "3.7.4"
  }
 },
 "nbformat": 4,
 "nbformat_minor": 2
}
