{
 "cells": [
  {
   "cell_type": "code",
   "execution_count": 1,
   "metadata": {},
   "outputs": [],
   "source": [
    "import pandas as pd\n",
    "import numpy as np\n",
    "import seaborn as sns\n",
    "import pymysql\n",
    "import getpass\n",
    "import matplotlib.pyplot as plt\n",
    "import statsmodels.api as sm\n",
    "\n",
    "pd.set_option('display.max_rows', 500)\n",
    "%matplotlib inline\n",
    "sns.set()\n",
    "sns.set_style(\"ticks\")"
   ]
  },
  {
   "cell_type": "code",
   "execution_count": 2,
   "metadata": {},
   "outputs": [
    {
     "name": "stdout",
     "output_type": "stream",
     "text": [
      "········\n"
     ]
    }
   ],
   "source": [
    "pw = getpass.getpass()"
   ]
  },
  {
   "cell_type": "code",
   "execution_count": 3,
   "metadata": {},
   "outputs": [],
   "source": [
    "conn = pymysql.connect(host=\"localhost\",\n",
    "                       port=3306,\n",
    "                       user=\"ironhack\",\n",
    "                       passwd=pw,\n",
    "                       db=\"olist\")"
   ]
  },
  {
   "cell_type": "markdown",
   "metadata": {},
   "source": [
    "Olist ran a Black Friday promotion on Nov. 24th, 2018.\n",
    "\n",
    "The Analytics team is tasked to evaluate the success.\n",
    "\n",
    "Get weekly data for revenue:"
   ]
  },
  {
   "cell_type": "code",
   "execution_count": 4,
   "metadata": {},
   "outputs": [],
   "source": [
    "revenue_query = \"\"\"\n",
    "    SELECT\n",
    "        DATE_SUB(DATE(o.order_purchase_timestamp),\n",
    "                      INTERVAL DAYOFWEEK(DATE(o.order_purchase_timestamp)) - 1 DAY) AS week_id,\n",
    "        SUM(oi.price)                       AS revenue_generated\n",
    "    FROM orders o\n",
    "        JOIN order_items oi \n",
    "        ON o.order_id = oi.order_id\n",
    "    WHERE o.order_purchase_timestamp < '20180115'\n",
    "        AND o.order_purchase_timestamp > '20170305'\n",
    "    GROUP BY 1\n",
    "    ORDER BY 1;\n",
    "\"\"\"\n",
    "\n",
    "weekly_revenue = pd.read_sql(revenue_query, conn)"
   ]
  },
  {
   "cell_type": "code",
   "execution_count": 5,
   "metadata": {},
   "outputs": [
    {
     "data": {
      "text/html": [
       "<div>\n",
       "<style scoped>\n",
       "    .dataframe tbody tr th:only-of-type {\n",
       "        vertical-align: middle;\n",
       "    }\n",
       "\n",
       "    .dataframe tbody tr th {\n",
       "        vertical-align: top;\n",
       "    }\n",
       "\n",
       "    .dataframe thead th {\n",
       "        text-align: right;\n",
       "    }\n",
       "</style>\n",
       "<table border=\"1\" class=\"dataframe\">\n",
       "  <thead>\n",
       "    <tr style=\"text-align: right;\">\n",
       "      <th></th>\n",
       "      <th>week_id</th>\n",
       "      <th>revenue_generated</th>\n",
       "    </tr>\n",
       "  </thead>\n",
       "  <tbody>\n",
       "    <tr>\n",
       "      <th>0</th>\n",
       "      <td>2017-03-05</td>\n",
       "      <td>78704.619772</td>\n",
       "    </tr>\n",
       "    <tr>\n",
       "      <th>1</th>\n",
       "      <td>2017-03-12</td>\n",
       "      <td>95487.199723</td>\n",
       "    </tr>\n",
       "    <tr>\n",
       "      <th>2</th>\n",
       "      <td>2017-03-19</td>\n",
       "      <td>85260.389904</td>\n",
       "    </tr>\n",
       "    <tr>\n",
       "      <th>3</th>\n",
       "      <td>2017-03-26</td>\n",
       "      <td>83634.099916</td>\n",
       "    </tr>\n",
       "    <tr>\n",
       "      <th>4</th>\n",
       "      <td>2017-04-02</td>\n",
       "      <td>94745.860022</td>\n",
       "    </tr>\n",
       "  </tbody>\n",
       "</table>\n",
       "</div>"
      ],
      "text/plain": [
       "      week_id  revenue_generated\n",
       "0  2017-03-05       78704.619772\n",
       "1  2017-03-12       95487.199723\n",
       "2  2017-03-19       85260.389904\n",
       "3  2017-03-26       83634.099916\n",
       "4  2017-04-02       94745.860022"
      ]
     },
     "execution_count": 5,
     "metadata": {},
     "output_type": "execute_result"
    }
   ],
   "source": [
    "weekly_revenue.head()"
   ]
  },
  {
   "cell_type": "code",
   "execution_count": 6,
   "metadata": {},
   "outputs": [
    {
     "data": {
      "text/plain": [
       "week_id               object\n",
       "revenue_generated    float64\n",
       "dtype: object"
      ]
     },
     "execution_count": 6,
     "metadata": {},
     "output_type": "execute_result"
    }
   ],
   "source": [
    "weekly_revenue.dtypes"
   ]
  },
  {
   "cell_type": "code",
   "execution_count": 7,
   "metadata": {},
   "outputs": [],
   "source": [
    "weekly_revenue[\"week_id\"] = pd.to_datetime(weekly_revenue[\"week_id\"])"
   ]
  },
  {
   "cell_type": "code",
   "execution_count": 8,
   "metadata": {},
   "outputs": [
    {
     "data": {
      "text/plain": [
       "week_id              datetime64[ns]\n",
       "revenue_generated           float64\n",
       "dtype: object"
      ]
     },
     "execution_count": 8,
     "metadata": {},
     "output_type": "execute_result"
    }
   ],
   "source": [
    "weekly_revenue.dtypes"
   ]
  },
  {
   "cell_type": "code",
   "execution_count": 9,
   "metadata": {},
   "outputs": [],
   "source": [
    "weekly_revenue = weekly_revenue.set_index(\"week_id\")"
   ]
  },
  {
   "cell_type": "markdown",
   "metadata": {},
   "source": [
    "## Approach 1:\n",
    "Compare to time periods. In this scenario, we compare the week that had the black friday promotion with the prior week that did not have the promotion"
   ]
  },
  {
   "cell_type": "code",
   "execution_count": 10,
   "metadata": {},
   "outputs": [],
   "source": [
    "week = (weekly_revenue\n",
    "        .copy())"
   ]
  },
  {
   "cell_type": "code",
   "execution_count": 11,
   "metadata": {},
   "outputs": [],
   "source": [
    "week_comp = week.loc[\"2017-11-12\":\"2017-11-19\"]"
   ]
  },
  {
   "cell_type": "code",
   "execution_count": 12,
   "metadata": {},
   "outputs": [
    {
     "data": {
      "text/html": [
       "<div>\n",
       "<style scoped>\n",
       "    .dataframe tbody tr th:only-of-type {\n",
       "        vertical-align: middle;\n",
       "    }\n",
       "\n",
       "    .dataframe tbody tr th {\n",
       "        vertical-align: top;\n",
       "    }\n",
       "\n",
       "    .dataframe thead th {\n",
       "        text-align: right;\n",
       "    }\n",
       "</style>\n",
       "<table border=\"1\" class=\"dataframe\">\n",
       "  <thead>\n",
       "    <tr style=\"text-align: right;\">\n",
       "      <th></th>\n",
       "      <th>revenue_generated</th>\n",
       "    </tr>\n",
       "    <tr>\n",
       "      <th>week_id</th>\n",
       "      <th></th>\n",
       "    </tr>\n",
       "  </thead>\n",
       "  <tbody>\n",
       "    <tr>\n",
       "      <th>2017-11-12</th>\n",
       "      <td>178951.390068</td>\n",
       "    </tr>\n",
       "    <tr>\n",
       "      <th>2017-11-19</th>\n",
       "      <td>381809.340397</td>\n",
       "    </tr>\n",
       "  </tbody>\n",
       "</table>\n",
       "</div>"
      ],
      "text/plain": [
       "            revenue_generated\n",
       "week_id                      \n",
       "2017-11-12      178951.390068\n",
       "2017-11-19      381809.340397"
      ]
     },
     "execution_count": 12,
     "metadata": {},
     "output_type": "execute_result"
    }
   ],
   "source": [
    "week_comp"
   ]
  },
  {
   "cell_type": "code",
   "execution_count": 13,
   "metadata": {},
   "outputs": [
    {
     "data": {
      "image/png": "[encoded data removed]",
      "text/plain": [
       "<Figure size 432x288 with 1 Axes>"
      ]
     },
     "metadata": {
      "needs_background": "light"
     },
     "output_type": "display_data"
    }
   ],
   "source": [
    "sns.barplot(data=week_comp,\n",
    "            x=week_comp.index,\n",
    "            y=\"revenue_generated\");"
   ]
  },
  {
   "cell_type": "markdown",
   "metadata": {},
   "source": [
    "Calculating difference:"
   ]
  },
  {
   "cell_type": "code",
   "execution_count": 14,
   "metadata": {},
   "outputs": [
    {
     "name": "stdout",
     "output_type": "stream",
     "text": [
      "The revenue for the week including black friday increase by 113.0% compared to the week before\n",
      "Assuming the black friday promotion accounts for the entire difference, we were able to increase revenue by 202857.0 Rios\n",
      "\n"
     ]
    }
   ],
   "source": [
    "abs_diff = week_comp.loc[\"2017-11-19\", \"revenue_generated\"] - week_comp.loc[\"2017-11-12\", \"revenue_generated\"] - 1\n",
    "rel_diff = week_comp.loc[\"2017-11-19\", \"revenue_generated\"] / week_comp.loc[\"2017-11-12\", \"revenue_generated\"] - 1\n",
    "print(f\"\"\"The revenue for the week including black friday increase by {round(rel_diff*100)}% compared to the week before\n",
    "Assuming the black friday promotion accounts for the entire difference, we were able to increase revenue by {round(abs_diff)} Rios\n",
    "\"\"\")"
   ]
  },
  {
   "cell_type": "markdown",
   "metadata": {},
   "source": [
    "---\n",
    "\n",
    "Now let's take a look at the time series to do a visual inspection"
   ]
  },
  {
   "cell_type": "code",
   "execution_count": 15,
   "metadata": {},
   "outputs": [
    {
     "name": "stderr",
     "output_type": "stream",
     "text": [
      "/Users/at/miniconda3/envs/day1/lib/python3.7/site-packages/pandas/plotting/_matplotlib/converter.py:103: FutureWarning: Using an implicitly registered datetime converter for a matplotlib plotting method. The converter was registered by pandas on import. Future versions of pandas will require you to explicitly register matplotlib converters.\n",
      "\n",
      "To register the converters:\n",
      "\t>>> from pandas.plotting import register_matplotlib_converters\n",
      "\t>>> register_matplotlib_converters()\n",
      "  warnings.warn(msg, FutureWarning)\n"
     ]
    },
    {
     "data": {
      "image/png": "[encoded data removed]",
      "text/plain": [
       "<Figure size 720x432 with 1 Axes>"
      ]
     },
     "metadata": {
      "needs_background": "light"
     },
     "output_type": "display_data"
    }
   ],
   "source": [
    "fig, ax = plt.subplots(figsize=(10,6))\n",
    "sns.lineplot(data=weekly_revenue,\n",
    "             x=weekly_revenue.index,\n",
    "             y=\"revenue_generated\",\n",
    "             ax=ax);\n",
    "\n",
    "# add vertical line during black friday week\n",
    "ax.axvline(\"2017-11-19\", 0, 350000, color=\"red\");"
   ]
  },
  {
   "cell_type": "markdown",
   "metadata": {},
   "source": [
    "We can see that the week of black friday significantly increased revenue. The graph however looks like revenue declined to a lower level than before in the few weeks after the sale. We might want to account for the loss of revenue in the following weeks as consumers might have preponed purchases to black friday to get a sale (referred to as hangover, cannibalism, or \"moving sales\" from a later point to an earlier point)\n",
    "\n",
    "## Approach 2: \n",
    "\n",
    "Simple comparison but with more weeks to account for hangover"
   ]
  },
  {
   "cell_type": "code",
   "execution_count": 16,
   "metadata": {},
   "outputs": [
    {
     "data": {
      "text/html": [
       "<div>\n",
       "<style scoped>\n",
       "    .dataframe tbody tr th:only-of-type {\n",
       "        vertical-align: middle;\n",
       "    }\n",
       "\n",
       "    .dataframe tbody tr th {\n",
       "        vertical-align: top;\n",
       "    }\n",
       "\n",
       "    .dataframe thead th {\n",
       "        text-align: right;\n",
       "    }\n",
       "</style>\n",
       "<table border=\"1\" class=\"dataframe\">\n",
       "  <thead>\n",
       "    <tr style=\"text-align: right;\">\n",
       "      <th></th>\n",
       "      <th>revenue_generated</th>\n",
       "    </tr>\n",
       "    <tr>\n",
       "      <th>week_id</th>\n",
       "      <th></th>\n",
       "    </tr>\n",
       "  </thead>\n",
       "  <tbody>\n",
       "    <tr>\n",
       "      <th>2017-03-05</th>\n",
       "      <td>78704.619772</td>\n",
       "    </tr>\n",
       "    <tr>\n",
       "      <th>2017-03-12</th>\n",
       "      <td>95487.199723</td>\n",
       "    </tr>\n",
       "    <tr>\n",
       "      <th>2017-03-19</th>\n",
       "      <td>85260.389904</td>\n",
       "    </tr>\n",
       "    <tr>\n",
       "      <th>2017-03-26</th>\n",
       "      <td>83634.099916</td>\n",
       "    </tr>\n",
       "    <tr>\n",
       "      <th>2017-04-02</th>\n",
       "      <td>94745.860022</td>\n",
       "    </tr>\n",
       "  </tbody>\n",
       "</table>\n",
       "</div>"
      ],
      "text/plain": [
       "            revenue_generated\n",
       "week_id                      \n",
       "2017-03-05       78704.619772\n",
       "2017-03-12       95487.199723\n",
       "2017-03-19       85260.389904\n",
       "2017-03-26       83634.099916\n",
       "2017-04-02       94745.860022"
      ]
     },
     "execution_count": 16,
     "metadata": {},
     "output_type": "execute_result"
    }
   ],
   "source": [
    "weekly_revenue.head()"
   ]
  },
  {
   "cell_type": "code",
   "execution_count": 17,
   "metadata": {},
   "outputs": [],
   "source": [
    "week_hangover = (weekly_revenue\n",
    "                 .copy()\n",
    "                 .loc[\"2017-11-12\":\"2017-12-31\"])"
   ]
  },
  {
   "cell_type": "code",
   "execution_count": 18,
   "metadata": {},
   "outputs": [
    {
     "data": {
      "image/png": "[encoded data removed]",
      "text/plain": [
       "<Figure size 720x432 with 1 Axes>"
      ]
     },
     "metadata": {
      "needs_background": "light"
     },
     "output_type": "display_data"
    }
   ],
   "source": [
    "fig, ax = plt.subplots(figsize=(10,6))\n",
    "sns.barplot(data=week_hangover,\n",
    "            x=week_hangover.index,\n",
    "            y=\"revenue_generated\",\n",
    "            ax=ax);\n",
    "\n",
    "ax.axhline(week_hangover.loc[\"2017-11-12\", \"revenue_generated\"], color=\"r\");"
   ]
  },
  {
   "cell_type": "markdown",
   "metadata": {},
   "source": [
    "Visually, it looks like revenue was slowly declining after black friday up to a point where it was below previous weekly revenue. It appears to recover in the last week of 2017/first week of 2018. \n",
    "Assuming that the one week prior to black friday is a valid benchmark, we can now compute the difference between each subsequent week and our benchmark and calculate the cumulative sum as our total black friday revenue increase. This is equivalent to assuming that without black friday, our weekly revenue would have been exactly the same as in the one week prior to black friday"
   ]
  },
  {
   "cell_type": "code",
   "execution_count": 19,
   "metadata": {},
   "outputs": [],
   "source": [
    "rev_reference_week = week_hangover.loc[\"2017-11-12\", \"revenue_generated\"]\n",
    "rev_subsequent_weeks = week_hangover.loc[\"2017-11-19\":, \"revenue_generated\"]"
   ]
  },
  {
   "cell_type": "code",
   "execution_count": 20,
   "metadata": {},
   "outputs": [
    {
     "name": "stdout",
     "output_type": "stream",
     "text": [
      "Assuming that without black friday sale, our weekly sales would have stayed at 179K,\n",
      "we generated an additional 239666 Rios total revenue over the week of black friday until the end of the year,\n",
      "which approximately represents a 19.0% increase in revenue\n"
     ]
    }
   ],
   "source": [
    "total_rev = rev_subsequent_weeks.to_frame().assign(predicted_revenue=rev_reference_week).sum()\n",
    "abs_diff = total_rev[\"revenue_generated\"] - total_rev[\"predicted_revenue\"]\n",
    "rel_diff = (total_rev[\"revenue_generated\"] / total_rev[\"predicted_revenue\"]) - 1\n",
    "print(f\"\"\"Assuming that without black friday sale, our weekly sales would have stayed at 179K,\n",
    "we generated an additional {int(abs_diff)} Rios total revenue over the week of black friday until the end of the year,\n",
    "which approximately represents a {round(rel_diff*100)}% increase in revenue\"\"\")"
   ]
  },
  {
   "cell_type": "markdown",
   "metadata": {},
   "source": [
    "### _Lab exercise_\n",
    "We could do the same exercise accounting for a handful of weeks prior to black friday, adding the assumption that people postponed purchases to black friday that they would have otherwise done prior due to the expected lower prices. \n",
    "\n",
    "---\n",
    "\n",
    "## Approach 3: Accounting for trends / seasonality\n",
    "\n",
    "So far, we have always used one prior week as a benchmark for predicted revenue assuming. \n",
    "As can clearly be seen by the line graph, revenue has already had a positive trend when looking at the data starting from March. In case of a positive trend, we might have overestimated the impact of black friday as part of the increase could plausbily be attributed to the general growth of olist.\n",
    "\n",
    "In the following, we want to model `revenue_generated` as a linear function that depends on time so that we can account for trends.\n",
    "\n",
    "$$revenue\\_generated_t = c + (t_t*trend)$$\n",
    "\n",
    "This approach adds a so-called \"fitted line\" to the time series."
   ]
  },
  {
   "cell_type": "code",
   "execution_count": 21,
   "metadata": {},
   "outputs": [
    {
     "data": {
      "image/png": "[encoded data removed]",
      "text/plain": [
       "<Figure size 720x432 with 1 Axes>"
      ]
     },
     "metadata": {
      "needs_background": "light"
     },
     "output_type": "display_data"
    }
   ],
   "source": [
    "fig, ax = plt.subplots(figsize=(10,6))\n",
    "sns.lineplot(data=weekly_revenue,\n",
    "             x=weekly_revenue.index,\n",
    "             y=\"revenue_generated\",\n",
    "             ax=ax);\n",
    "\n",
    "ax.axvline(\"2017-10-15\", 0, 350000, color=\"grey\");\n",
    "ax.axvline(\"2017-12-31\", 0, 350000, color=\"grey\");\n",
    "ax.axvline(\"2017-11-19\", 0, 350000, color=\"red\");"
   ]
  },
  {
   "cell_type": "markdown",
   "metadata": {},
   "source": [
    "Looking at the graph, we now want to find a fitting model to then forecast revenue for the weeks that might have been affected by black friday. In this case, we account for both weeks prior and after to black friday to get a more conservative estimate. We assume the area between they grey borders (from 2017-10-15 until 2017-12-31) were affected and need to be forecasted and compared.\n",
    "\n",
    "The fitted line could get biased by the data collected during black friday and the few prior and subsqeuent weeks. In order to get a fairer comparison, we pretend that we only had data up until the day before Black Friday, we then forecast `revenue` given our fitted model and then compare our forecasts with the actual values"
   ]
  },
  {
   "cell_type": "code",
   "execution_count": 22,
   "metadata": {},
   "outputs": [
    {
     "data": {
      "text/html": [
       "<div>\n",
       "<style scoped>\n",
       "    .dataframe tbody tr th:only-of-type {\n",
       "        vertical-align: middle;\n",
       "    }\n",
       "\n",
       "    .dataframe tbody tr th {\n",
       "        vertical-align: top;\n",
       "    }\n",
       "\n",
       "    .dataframe thead th {\n",
       "        text-align: right;\n",
       "    }\n",
       "</style>\n",
       "<table border=\"1\" class=\"dataframe\">\n",
       "  <thead>\n",
       "    <tr style=\"text-align: right;\">\n",
       "      <th></th>\n",
       "      <th>revenue_generated</th>\n",
       "      <th>t</th>\n",
       "    </tr>\n",
       "    <tr>\n",
       "      <th>week_id</th>\n",
       "      <th></th>\n",
       "      <th></th>\n",
       "    </tr>\n",
       "  </thead>\n",
       "  <tbody>\n",
       "    <tr>\n",
       "      <th>2017-03-05</th>\n",
       "      <td>78704.619772</td>\n",
       "      <td>1</td>\n",
       "    </tr>\n",
       "    <tr>\n",
       "      <th>2017-03-12</th>\n",
       "      <td>95487.199723</td>\n",
       "      <td>2</td>\n",
       "    </tr>\n",
       "    <tr>\n",
       "      <th>2017-03-19</th>\n",
       "      <td>85260.389904</td>\n",
       "      <td>3</td>\n",
       "    </tr>\n",
       "    <tr>\n",
       "      <th>2017-03-26</th>\n",
       "      <td>83634.099916</td>\n",
       "      <td>4</td>\n",
       "    </tr>\n",
       "    <tr>\n",
       "      <th>2017-04-02</th>\n",
       "      <td>94745.860022</td>\n",
       "      <td>5</td>\n",
       "    </tr>\n",
       "  </tbody>\n",
       "</table>\n",
       "</div>"
      ],
      "text/plain": [
       "            revenue_generated  t\n",
       "week_id                         \n",
       "2017-03-05       78704.619772  1\n",
       "2017-03-12       95487.199723  2\n",
       "2017-03-19       85260.389904  3\n",
       "2017-03-26       83634.099916  4\n",
       "2017-04-02       94745.860022  5"
      ]
     },
     "execution_count": 22,
     "metadata": {},
     "output_type": "execute_result"
    }
   ],
   "source": [
    "# create time variable\n",
    "rev_trend = weekly_revenue.assign(t=range(1, len(weekly_revenue) + 1))\n",
    "rev_trend.head()"
   ]
  },
  {
   "cell_type": "markdown",
   "metadata": {},
   "source": [
    "Calculate fitted line"
   ]
  },
  {
   "cell_type": "code",
   "execution_count": 23,
   "metadata": {},
   "outputs": [
    {
     "name": "stderr",
     "output_type": "stream",
     "text": [
      "/Users/at/miniconda3/envs/day1/lib/python3.7/site-packages/numpy/core/fromnumeric.py:2495: FutureWarning: Method .ptp is deprecated and will be removed in a future version. Use numpy.ptp instead.\n",
      "  return ptp(axis=axis, out=out, **kwargs)\n"
     ]
    }
   ],
   "source": [
    "# add constant\n",
    "rev_train = rev_trend[:\"2017-10-15\"].copy()\n",
    "rev_train = sm.add_constant(rev_train)\n",
    "\n",
    "X = rev_train[[\"const\", \"t\"]]\n",
    "y = rev_train[\"revenue_generated\"]\n",
    "lin_reg = sm.OLS(y, X)\n",
    "results = lin_reg.fit()"
   ]
  },
  {
   "cell_type": "code",
   "execution_count": 24,
   "metadata": {},
   "outputs": [
    {
     "data": {
      "text/html": [
       "<table class=\"simpletable\">\n",
       "<caption>OLS Regression Results</caption>\n",
       "<tr>\n",
       "  <th>Dep. Variable:</th>    <td>revenue_generated</td> <th>  R-squared:         </th> <td>   0.735</td>\n",
       "</tr>\n",
       "<tr>\n",
       "  <th>Model:</th>                   <td>OLS</td>        <th>  Adj. R-squared:    </th> <td>   0.726</td>\n",
       "</tr>\n",
       "<tr>\n",
       "  <th>Method:</th>             <td>Least Squares</td>   <th>  F-statistic:       </th> <td>   85.87</td>\n",
       "</tr>\n",
       "<tr>\n",
       "  <th>Date:</th>             <td>Sun, 10 Nov 2019</td>  <th>  Prob (F-statistic):</th> <td>1.91e-10</td>\n",
       "</tr>\n",
       "<tr>\n",
       "  <th>Time:</th>                 <td>20:27:33</td>      <th>  Log-Likelihood:    </th> <td> -360.08</td>\n",
       "</tr>\n",
       "<tr>\n",
       "  <th>No. Observations:</th>      <td>    33</td>       <th>  AIC:               </th> <td>   724.2</td>\n",
       "</tr>\n",
       "<tr>\n",
       "  <th>Df Residuals:</th>          <td>    31</td>       <th>  BIC:               </th> <td>   727.1</td>\n",
       "</tr>\n",
       "<tr>\n",
       "  <th>Df Model:</th>              <td>     1</td>       <th>                     </th>     <td> </td>   \n",
       "</tr>\n",
       "<tr>\n",
       "  <th>Covariance Type:</th>      <td>nonrobust</td>     <th>                     </th>     <td> </td>   \n",
       "</tr>\n",
       "</table>\n",
       "<table class=\"simpletable\">\n",
       "<tr>\n",
       "    <td></td>       <th>coef</th>     <th>std err</th>      <th>t</th>      <th>P>|t|</th>  <th>[0.025</th>    <th>0.975]</th>  \n",
       "</tr>\n",
       "<tr>\n",
       "  <th>const</th> <td> 7.522e+04</td> <td> 4873.597</td> <td>   15.435</td> <td> 0.000</td> <td> 6.53e+04</td> <td> 8.52e+04</td>\n",
       "</tr>\n",
       "<tr>\n",
       "  <th>t</th>     <td> 2317.8239</td> <td>  250.120</td> <td>    9.267</td> <td> 0.000</td> <td> 1807.701</td> <td> 2827.947</td>\n",
       "</tr>\n",
       "</table>\n",
       "<table class=\"simpletable\">\n",
       "<tr>\n",
       "  <th>Omnibus:</th>       <td> 0.360</td> <th>  Durbin-Watson:     </th> <td>   1.594</td>\n",
       "</tr>\n",
       "<tr>\n",
       "  <th>Prob(Omnibus):</th> <td> 0.835</td> <th>  Jarque-Bera (JB):  </th> <td>   0.032</td>\n",
       "</tr>\n",
       "<tr>\n",
       "  <th>Skew:</th>          <td> 0.072</td> <th>  Prob(JB):          </th> <td>   0.984</td>\n",
       "</tr>\n",
       "<tr>\n",
       "  <th>Kurtosis:</th>      <td> 3.053</td> <th>  Cond. No.          </th> <td>    40.0</td>\n",
       "</tr>\n",
       "</table><br/><br/>Warnings:<br/>[1] Standard Errors assume that the covariance matrix of the errors is correctly specified."
      ],
      "text/plain": [
       "<class 'statsmodels.iolib.summary.Summary'>\n",
       "\"\"\"\n",
       "                            OLS Regression Results                            \n",
       "==============================================================================\n",
       "Dep. Variable:      revenue_generated   R-squared:                       0.735\n",
       "Model:                            OLS   Adj. R-squared:                  0.726\n",
       "Method:                 Least Squares   F-statistic:                     85.87\n",
       "Date:                Sun, 10 Nov 2019   Prob (F-statistic):           1.91e-10\n",
       "Time:                        20:27:33   Log-Likelihood:                -360.08\n",
       "No. Observations:                  33   AIC:                             724.2\n",
       "Df Residuals:                      31   BIC:                             727.1\n",
       "Df Model:                           1                                         \n",
       "Covariance Type:            nonrobust                                         \n",
       "==============================================================================\n",
       "                 coef    std err          t      P>|t|      [0.025      0.975]\n",
       "------------------------------------------------------------------------------\n",
       "const       7.522e+04   4873.597     15.435      0.000    6.53e+04    8.52e+04\n",
       "t           2317.8239    250.120      9.267      0.000    1807.701    2827.947\n",
       "==============================================================================\n",
       "Omnibus:                        0.360   Durbin-Watson:                   1.594\n",
       "Prob(Omnibus):                  0.835   Jarque-Bera (JB):                0.032\n",
       "Skew:                           0.072   Prob(JB):                        0.984\n",
       "Kurtosis:                       3.053   Cond. No.                         40.0\n",
       "==============================================================================\n",
       "\n",
       "Warnings:\n",
       "[1] Standard Errors assume that the covariance matrix of the errors is correctly specified.\n",
       "\"\"\""
      ]
     },
     "execution_count": 24,
     "metadata": {},
     "output_type": "execute_result"
    }
   ],
   "source": [
    "results.summary()"
   ]
  },
  {
   "cell_type": "markdown",
   "metadata": {},
   "source": [
    "Plot fitted line"
   ]
  },
  {
   "cell_type": "code",
   "execution_count": 25,
   "metadata": {},
   "outputs": [
    {
     "data": {
      "image/png": "[encoded data removed]",
      "text/plain": [
       "<Figure size 720x432 with 1 Axes>"
      ]
     },
     "metadata": {
      "needs_background": "light"
     },
     "output_type": "display_data"
    }
   ],
   "source": [
    "fig, ax = plt.subplots(figsize=(10,6))\n",
    "sns.lineplot(data=rev_train,\n",
    "             x=\"t\",\n",
    "             y=\"revenue_generated\",\n",
    "             ax=ax);\n",
    "\n",
    "sm.graphics.abline_plot(model_results=results, color=\"green\", ax=ax);"
   ]
  },
  {
   "cell_type": "markdown",
   "metadata": {},
   "source": [
    "Let's compute the forecast based on this model to see how the fitted line would look like given the actual values for the time period affected by black friday"
   ]
  },
  {
   "cell_type": "code",
   "execution_count": 26,
   "metadata": {},
   "outputs": [],
   "source": [
    "predicted_revenue = results.predict(sm.add_constant(rev_trend)[[\"const\", \"t\"]])\n",
    "rev_pred = rev_trend.assign(predicted_revenue=predicted_revenue)"
   ]
  },
  {
   "cell_type": "code",
   "execution_count": 27,
   "metadata": {},
   "outputs": [
    {
     "data": {
      "image/png": "[encoded data removed]",
      "text/plain": [
       "<Figure size 720x432 with 1 Axes>"
      ]
     },
     "metadata": {
      "needs_background": "light"
     },
     "output_type": "display_data"
    }
   ],
   "source": [
    "fig, ax = plt.subplots(figsize=(10,6))\n",
    "sns.lineplot(data=rev_trend,\n",
    "             x=\"t\",\n",
    "             y=\"revenue_generated\",\n",
    "             ax=ax);\n",
    "\n",
    "ax.axvline(rev_trend.loc[\"2017-10-15\", \"t\"], 0, 350000, color=\"grey\");\n",
    "ax.axvline(rev_trend.loc[\"2017-12-31\", \"t\"], 0, 350000, color=\"grey\");\n",
    "ax.axvline(rev_trend.loc[\"2017-11-19\", \"t\"], 0, 350000, color=\"red\");\n",
    "\n",
    "sns.lineplot(data=rev_pred,\n",
    "             x=\"t\",\n",
    "             y=\"predicted_revenue\",\n",
    "             color=\"orange\",\n",
    "             ax=ax);"
   ]
  },
  {
   "cell_type": "markdown",
   "metadata": {},
   "source": [
    "Given this model, we can now calculate the differences between the actual observations (blue) and the predicted (orange). The difference is due to black friday according to our assumptions."
   ]
  },
  {
   "cell_type": "code",
   "execution_count": 28,
   "metadata": {},
   "outputs": [],
   "source": [
    "black_friday = rev_pred.loc[\"2017-10-15\":\"2017-12-31\"]\n",
    "rev_diff = black_friday[\"revenue_generated\"] - black_friday[\"predicted_revenue\"]\n",
    "\n",
    "black_friday = black_friday.assign(rev_diff=rev_diff)"
   ]
  },
  {
   "cell_type": "code",
   "execution_count": 29,
   "metadata": {},
   "outputs": [
    {
     "name": "stdout",
     "output_type": "stream",
     "text": [
      "According to this model, black friday accounted for a total of 300467 Rios of additional revenue.\n",
      "This represents a relative increase of approx. 15.0% compared to our foreacast\n"
     ]
    }
   ],
   "source": [
    "sums = black_friday[[\"revenue_generated\",\n",
    "                     \"predicted_revenue\",\n",
    "                     \"rev_diff\"]].sum()\n",
    "\n",
    "print(f\"\"\"According to this model, black friday accounted for a total of {int(sums['rev_diff'])} Rios of additional revenue.\n",
    "This represents a relative increase of approx. {round((sums[\"revenue_generated\"] / sums[\"predicted_revenue\"] - 1) * 100)}% compared to our foreacast\"\"\")"
   ]
  },
  {
   "cell_type": "markdown",
   "metadata": {},
   "source": [
    "---"
   ]
  },
  {
   "cell_type": "markdown",
   "metadata": {},
   "source": [
    "## Approach 4:\n",
    "Fit a quadratic line"
   ]
  },
  {
   "cell_type": "code",
   "execution_count": 30,
   "metadata": {},
   "outputs": [
    {
     "data": {
      "text/html": [
       "<div>\n",
       "<style scoped>\n",
       "    .dataframe tbody tr th:only-of-type {\n",
       "        vertical-align: middle;\n",
       "    }\n",
       "\n",
       "    .dataframe tbody tr th {\n",
       "        vertical-align: top;\n",
       "    }\n",
       "\n",
       "    .dataframe thead th {\n",
       "        text-align: right;\n",
       "    }\n",
       "</style>\n",
       "<table border=\"1\" class=\"dataframe\">\n",
       "  <thead>\n",
       "    <tr style=\"text-align: right;\">\n",
       "      <th></th>\n",
       "      <th>revenue_generated</th>\n",
       "      <th>t</th>\n",
       "      <th>t_sq</th>\n",
       "    </tr>\n",
       "    <tr>\n",
       "      <th>week_id</th>\n",
       "      <th></th>\n",
       "      <th></th>\n",
       "      <th></th>\n",
       "    </tr>\n",
       "  </thead>\n",
       "  <tbody>\n",
       "    <tr>\n",
       "      <th>2017-03-05</th>\n",
       "      <td>78704.619772</td>\n",
       "      <td>1</td>\n",
       "      <td>1</td>\n",
       "    </tr>\n",
       "    <tr>\n",
       "      <th>2017-03-12</th>\n",
       "      <td>95487.199723</td>\n",
       "      <td>2</td>\n",
       "      <td>4</td>\n",
       "    </tr>\n",
       "    <tr>\n",
       "      <th>2017-03-19</th>\n",
       "      <td>85260.389904</td>\n",
       "      <td>3</td>\n",
       "      <td>9</td>\n",
       "    </tr>\n",
       "    <tr>\n",
       "      <th>2017-03-26</th>\n",
       "      <td>83634.099916</td>\n",
       "      <td>4</td>\n",
       "      <td>16</td>\n",
       "    </tr>\n",
       "    <tr>\n",
       "      <th>2017-04-02</th>\n",
       "      <td>94745.860022</td>\n",
       "      <td>5</td>\n",
       "      <td>25</td>\n",
       "    </tr>\n",
       "  </tbody>\n",
       "</table>\n",
       "</div>"
      ],
      "text/plain": [
       "            revenue_generated  t  t_sq\n",
       "week_id                               \n",
       "2017-03-05       78704.619772  1     1\n",
       "2017-03-12       95487.199723  2     4\n",
       "2017-03-19       85260.389904  3     9\n",
       "2017-03-26       83634.099916  4    16\n",
       "2017-04-02       94745.860022  5    25"
      ]
     },
     "execution_count": 30,
     "metadata": {},
     "output_type": "execute_result"
    }
   ],
   "source": [
    "# create time variable\n",
    "rev_quadr = weekly_revenue.assign(t=range(1, len(weekly_revenue) + 1))\n",
    "rev_quadr = rev_quadr.assign(t_sq=rev_quadr[\"t\"]**2)\n",
    "rev_quadr.head()"
   ]
  },
  {
   "cell_type": "code",
   "execution_count": 31,
   "metadata": {},
   "outputs": [
    {
     "data": {
      "text/html": [
       "<table class=\"simpletable\">\n",
       "<caption>OLS Regression Results</caption>\n",
       "<tr>\n",
       "  <th>Dep. Variable:</th>    <td>revenue_generated</td> <th>  R-squared:         </th> <td>   0.749</td>\n",
       "</tr>\n",
       "<tr>\n",
       "  <th>Model:</th>                   <td>OLS</td>        <th>  Adj. R-squared:    </th> <td>   0.732</td>\n",
       "</tr>\n",
       "<tr>\n",
       "  <th>Method:</th>             <td>Least Squares</td>   <th>  F-statistic:       </th> <td>   44.65</td>\n",
       "</tr>\n",
       "<tr>\n",
       "  <th>Date:</th>             <td>Sun, 10 Nov 2019</td>  <th>  Prob (F-statistic):</th> <td>1.02e-09</td>\n",
       "</tr>\n",
       "<tr>\n",
       "  <th>Time:</th>                 <td>20:27:34</td>      <th>  Log-Likelihood:    </th> <td> -359.20</td>\n",
       "</tr>\n",
       "<tr>\n",
       "  <th>No. Observations:</th>      <td>    33</td>       <th>  AIC:               </th> <td>   724.4</td>\n",
       "</tr>\n",
       "<tr>\n",
       "  <th>Df Residuals:</th>          <td>    30</td>       <th>  BIC:               </th> <td>   728.9</td>\n",
       "</tr>\n",
       "<tr>\n",
       "  <th>Df Model:</th>              <td>     2</td>       <th>                     </th>     <td> </td>   \n",
       "</tr>\n",
       "<tr>\n",
       "  <th>Covariance Type:</th>      <td>nonrobust</td>     <th>                     </th>     <td> </td>   \n",
       "</tr>\n",
       "</table>\n",
       "<table class=\"simpletable\">\n",
       "<tr>\n",
       "    <td></td>       <th>coef</th>     <th>std err</th>      <th>t</th>      <th>P>|t|</th>  <th>[0.025</th>    <th>0.975]</th>  \n",
       "</tr>\n",
       "<tr>\n",
       "  <th>const</th> <td> 8.263e+04</td> <td> 7522.907</td> <td>   10.984</td> <td> 0.000</td> <td> 6.73e+04</td> <td>  9.8e+04</td>\n",
       "</tr>\n",
       "<tr>\n",
       "  <th>t</th>     <td> 1048.2097</td> <td> 1020.140</td> <td>    1.028</td> <td> 0.312</td> <td>-1035.195</td> <td> 3131.614</td>\n",
       "</tr>\n",
       "<tr>\n",
       "  <th>t_sq</th>  <td>   37.3416</td> <td>   29.107</td> <td>    1.283</td> <td> 0.209</td> <td>  -22.103</td> <td>   96.787</td>\n",
       "</tr>\n",
       "</table>\n",
       "<table class=\"simpletable\">\n",
       "<tr>\n",
       "  <th>Omnibus:</th>       <td> 1.407</td> <th>  Durbin-Watson:     </th> <td>   1.679</td>\n",
       "</tr>\n",
       "<tr>\n",
       "  <th>Prob(Omnibus):</th> <td> 0.495</td> <th>  Jarque-Bera (JB):  </th> <td>   0.549</td>\n",
       "</tr>\n",
       "<tr>\n",
       "  <th>Skew:</th>          <td> 0.253</td> <th>  Prob(JB):          </th> <td>   0.760</td>\n",
       "</tr>\n",
       "<tr>\n",
       "  <th>Kurtosis:</th>      <td> 3.379</td> <th>  Cond. No.          </th> <td>1.63e+03</td>\n",
       "</tr>\n",
       "</table><br/><br/>Warnings:<br/>[1] Standard Errors assume that the covariance matrix of the errors is correctly specified.<br/>[2] The condition number is large, 1.63e+03. This might indicate that there are<br/>strong multicollinearity or other numerical problems."
      ],
      "text/plain": [
       "<class 'statsmodels.iolib.summary.Summary'>\n",
       "\"\"\"\n",
       "                            OLS Regression Results                            \n",
       "==============================================================================\n",
       "Dep. Variable:      revenue_generated   R-squared:                       0.749\n",
       "Model:                            OLS   Adj. R-squared:                  0.732\n",
       "Method:                 Least Squares   F-statistic:                     44.65\n",
       "Date:                Sun, 10 Nov 2019   Prob (F-statistic):           1.02e-09\n",
       "Time:                        20:27:34   Log-Likelihood:                -359.20\n",
       "No. Observations:                  33   AIC:                             724.4\n",
       "Df Residuals:                      30   BIC:                             728.9\n",
       "Df Model:                           2                                         \n",
       "Covariance Type:            nonrobust                                         \n",
       "==============================================================================\n",
       "                 coef    std err          t      P>|t|      [0.025      0.975]\n",
       "------------------------------------------------------------------------------\n",
       "const       8.263e+04   7522.907     10.984      0.000    6.73e+04     9.8e+04\n",
       "t           1048.2097   1020.140      1.028      0.312   -1035.195    3131.614\n",
       "t_sq          37.3416     29.107      1.283      0.209     -22.103      96.787\n",
       "==============================================================================\n",
       "Omnibus:                        1.407   Durbin-Watson:                   1.679\n",
       "Prob(Omnibus):                  0.495   Jarque-Bera (JB):                0.549\n",
       "Skew:                           0.253   Prob(JB):                        0.760\n",
       "Kurtosis:                       3.379   Cond. No.                     1.63e+03\n",
       "==============================================================================\n",
       "\n",
       "Warnings:\n",
       "[1] Standard Errors assume that the covariance matrix of the errors is correctly specified.\n",
       "[2] The condition number is large, 1.63e+03. This might indicate that there are\n",
       "strong multicollinearity or other numerical problems.\n",
       "\"\"\""
      ]
     },
     "execution_count": 31,
     "metadata": {},
     "output_type": "execute_result"
    }
   ],
   "source": [
    "# add constant\n",
    "rev_train_quadr = rev_quadr[:\"2017-10-15\"].copy()\n",
    "rev_train_quadr = sm.add_constant(rev_train_quadr)\n",
    "\n",
    "X = rev_train_quadr[[\"const\", \"t\", \"t_sq\"]]\n",
    "y = rev_train_quadr[\"revenue_generated\"]\n",
    "lin_reg_quadr = sm.OLS(y, X)\n",
    "results_quadr = lin_reg_quadr.fit()\n",
    "results_quadr.summary()"
   ]
  },
  {
   "cell_type": "code",
   "execution_count": 32,
   "metadata": {},
   "outputs": [],
   "source": [
    "predicted_revenue_q = results_quadr.predict(sm.add_constant(rev_quadr)[[\"const\", \"t\", \"t_sq\"]])\n",
    "rev_pred_q = rev_quadr.assign(predicted_revenue=predicted_revenue_q)"
   ]
  },
  {
   "cell_type": "code",
   "execution_count": 33,
   "metadata": {},
   "outputs": [
    {
     "data": {
      "image/png": "[encoded data removed]",
      "text/plain": [
       "<Figure size 720x432 with 1 Axes>"
      ]
     },
     "metadata": {
      "needs_background": "light"
     },
     "output_type": "display_data"
    }
   ],
   "source": [
    "fig, ax = plt.subplots(figsize=(10,6))\n",
    "sns.lineplot(data=rev_quadr,\n",
    "             x=\"t\",\n",
    "             y=\"revenue_generated\",\n",
    "             ax=ax);\n",
    "\n",
    "ax.axvline(rev_trend.loc[\"2017-10-15\", \"t\"], 0, 350000, color=\"grey\");\n",
    "ax.axvline(rev_trend.loc[\"2017-12-31\", \"t\"], 0, 350000, color=\"grey\");\n",
    "ax.axvline(rev_trend.loc[\"2017-11-19\", \"t\"], 0, 350000, color=\"red\");\n",
    "\n",
    "sns.lineplot(data=rev_pred_q,\n",
    "             x=\"t\",\n",
    "             y=\"predicted_revenue\",\n",
    "             color=\"orange\",\n",
    "             ax=ax);"
   ]
  },
  {
   "cell_type": "code",
   "execution_count": 34,
   "metadata": {},
   "outputs": [],
   "source": [
    "black_friday_q = rev_pred_q.loc[\"2017-10-15\":\"2017-12-31\"]\n",
    "rev_diff_q = black_friday_q[\"revenue_generated\"] - black_friday_q[\"predicted_revenue\"]\n",
    "\n",
    "black_friday_q = black_friday_q.assign(rev_diff=rev_diff_q)"
   ]
  },
  {
   "cell_type": "code",
   "execution_count": 35,
   "metadata": {},
   "outputs": [
    {
     "name": "stdout",
     "output_type": "stream",
     "text": [
      "According to this model, black friday accounted for a total of 128621 Rios of additional revenue.\n",
      "This represents a relative increase of approx. 6.0% compared to our foreacast\n"
     ]
    }
   ],
   "source": [
    "sums_q = black_friday_q[[\"revenue_generated\",\n",
    "                         \"predicted_revenue\",\n",
    "                         \"rev_diff\"]].sum()\n",
    "\n",
    "print(f\"\"\"According to this model, black friday accounted for a total of {int(sums_q['rev_diff'])} Rios of additional revenue.\n",
    "This represents a relative increase of approx. {round((sums_q[\"revenue_generated\"] / sums_q[\"predicted_revenue\"] - 1) * 100)}% compared to our foreacast\"\"\")"
   ]
  },
  {
   "cell_type": "markdown",
   "metadata": {},
   "source": [
    "### Lab\n",
    "\n",
    "Run the analysis yourself (quadratic time variable):\n",
    "1. Plot the time series and draw a vertical line where the week of black friday is\n",
    "2. Determine the time range you think is affected by the sale, assuming that customers altered their behaviour (preponed and postponed the purchase to the weeks of black friday)\n",
    "3. Create the time variables in your dataframe\n",
    "4. Create a constant\n",
    "5. Subset the dataframe with only the data up until the time range affected that you will use to fit your model\n",
    "6. Fit your model using linear regression\n",
    "7. Use your model to predict revenue for the time period affected\n",
    "8. Compare predictions to actual revenue to estimate the impact of black friday on revenue\n",
    "9. Summarize"
   ]
  }
 ],
 "metadata": {
  "kernelspec": {
   "display_name": "Python 3",
   "language": "python",
   "name": "python3"
  },
  "language_info": {
   "codemirror_mode": {
    "name": "ipython",
    "version": 3
   },
   "file_extension": ".py",
   "mimetype": "text/x-python",
   "name": "python",
   "nbconvert_exporter": "python",
   "pygments_lexer": "ipython3",
   "version": "3.7.4"
  }
 },
 "nbformat": 4,
 "nbformat_minor": 2
}
