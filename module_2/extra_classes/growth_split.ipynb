{
 "cells": [
  {
   "cell_type": "code",
   "execution_count": 45,
   "metadata": {},
   "outputs": [],
   "source": [
    "import pandas as pd\n",
    "import numpy as np\n",
    "import matplotlib.pyplot as plt\n",
    "import seaborn as sns\n",
    "import pymysql\n",
    "import getpass\n",
    "%matplotlib inline"
   ]
  },
  {
   "cell_type": "code",
   "execution_count": 3,
   "metadata": {},
   "outputs": [
    {
     "name": "stdout",
     "output_type": "stream",
     "text": [
      "········\n"
     ]
    }
   ],
   "source": [
    "pw = getpass.getpass()\n",
    "conn = pymysql.connect(host=\"localhost\",\n",
    "                       port=3306,\n",
    "                       user=\"ironhack\",\n",
    "                       passwd=pw,\n",
    "                       db=\"olist\");"
   ]
  },
  {
   "cell_type": "code",
   "execution_count": 4,
   "metadata": {},
   "outputs": [],
   "source": [
    "q = \"\"\"\n",
    "    SELECT DISTINCT\n",
    "        DATE_FORMAT(o.order_purchase_timestamp, '%Y-%m-01') AS month_id,\n",
    "        oi.seller_id\n",
    "    FROM orders o\n",
    "        JOIN order_items oi\n",
    "        ON o.order_id = oi.order_id\n",
    "    ORDER BY 1,2\n",
    "\"\"\"\n",
    "\n",
    "df = pd.read_sql(q, conn)"
   ]
  },
  {
   "cell_type": "code",
   "execution_count": 5,
   "metadata": {},
   "outputs": [
    {
     "data": {
      "text/html": [
       "<div>\n",
       "<style scoped>\n",
       "    .dataframe tbody tr th:only-of-type {\n",
       "        vertical-align: middle;\n",
       "    }\n",
       "\n",
       "    .dataframe tbody tr th {\n",
       "        vertical-align: top;\n",
       "    }\n",
       "\n",
       "    .dataframe thead th {\n",
       "        text-align: right;\n",
       "    }\n",
       "</style>\n",
       "<table border=\"1\" class=\"dataframe\">\n",
       "  <thead>\n",
       "    <tr style=\"text-align: right;\">\n",
       "      <th></th>\n",
       "      <th>month_id</th>\n",
       "      <th>seller_id</th>\n",
       "    </tr>\n",
       "  </thead>\n",
       "  <tbody>\n",
       "    <tr>\n",
       "      <th>0</th>\n",
       "      <td>2016-09-01</td>\n",
       "      <td>1554a68530182680ad5c8b042c3ab563</td>\n",
       "    </tr>\n",
       "    <tr>\n",
       "      <th>1</th>\n",
       "      <td>2016-09-01</td>\n",
       "      <td>a425f92c199eb576938df686728acd20</td>\n",
       "    </tr>\n",
       "    <tr>\n",
       "      <th>2</th>\n",
       "      <td>2016-09-01</td>\n",
       "      <td>ecccfa2bb93b34a3bf033cc5d1dcdc69</td>\n",
       "    </tr>\n",
       "    <tr>\n",
       "      <th>3</th>\n",
       "      <td>2016-10-01</td>\n",
       "      <td>011b0eaba87386a2ae96a7d32bb531d1</td>\n",
       "    </tr>\n",
       "    <tr>\n",
       "      <th>4</th>\n",
       "      <td>2016-10-01</td>\n",
       "      <td>01cf7e3d21494c41fb86034f2e714fa1</td>\n",
       "    </tr>\n",
       "  </tbody>\n",
       "</table>\n",
       "</div>"
      ],
      "text/plain": [
       "     month_id                         seller_id\n",
       "0  2016-09-01  1554a68530182680ad5c8b042c3ab563\n",
       "1  2016-09-01  a425f92c199eb576938df686728acd20\n",
       "2  2016-09-01  ecccfa2bb93b34a3bf033cc5d1dcdc69\n",
       "3  2016-10-01  011b0eaba87386a2ae96a7d32bb531d1\n",
       "4  2016-10-01  01cf7e3d21494c41fb86034f2e714fa1"
      ]
     },
     "execution_count": 5,
     "metadata": {},
     "output_type": "execute_result"
    }
   ],
   "source": [
    "df.head()"
   ]
  },
  {
   "cell_type": "code",
   "execution_count": 6,
   "metadata": {},
   "outputs": [],
   "source": [
    "df[\"month_id\"] = pd.to_datetime(df[\"month_id\"])"
   ]
  },
  {
   "cell_type": "code",
   "execution_count": 7,
   "metadata": {},
   "outputs": [
    {
     "data": {
      "text/plain": [
       "Timestamp('2018-09-01 00:00:00')"
      ]
     },
     "execution_count": 7,
     "metadata": {},
     "output_type": "execute_result"
    }
   ],
   "source": [
    "df[\"month_id\"].max()"
   ]
  },
  {
   "cell_type": "code",
   "execution_count": 8,
   "metadata": {},
   "outputs": [
    {
     "data": {
      "text/html": [
       "<div>\n",
       "<style scoped>\n",
       "    .dataframe tbody tr th:only-of-type {\n",
       "        vertical-align: middle;\n",
       "    }\n",
       "\n",
       "    .dataframe tbody tr th {\n",
       "        vertical-align: top;\n",
       "    }\n",
       "\n",
       "    .dataframe thead th {\n",
       "        text-align: right;\n",
       "    }\n",
       "</style>\n",
       "<table border=\"1\" class=\"dataframe\">\n",
       "  <thead>\n",
       "    <tr style=\"text-align: right;\">\n",
       "      <th></th>\n",
       "      <th>month_id</th>\n",
       "      <th>seller_id</th>\n",
       "    </tr>\n",
       "  </thead>\n",
       "  <tbody>\n",
       "    <tr>\n",
       "      <th>0</th>\n",
       "      <td>2016-09-01</td>\n",
       "      <td>1554a68530182680ad5c8b042c3ab563</td>\n",
       "    </tr>\n",
       "    <tr>\n",
       "      <th>1</th>\n",
       "      <td>2016-09-01</td>\n",
       "      <td>a425f92c199eb576938df686728acd20</td>\n",
       "    </tr>\n",
       "    <tr>\n",
       "      <th>2</th>\n",
       "      <td>2016-09-01</td>\n",
       "      <td>ecccfa2bb93b34a3bf033cc5d1dcdc69</td>\n",
       "    </tr>\n",
       "    <tr>\n",
       "      <th>3</th>\n",
       "      <td>2016-10-01</td>\n",
       "      <td>011b0eaba87386a2ae96a7d32bb531d1</td>\n",
       "    </tr>\n",
       "    <tr>\n",
       "      <th>4</th>\n",
       "      <td>2016-10-01</td>\n",
       "      <td>01cf7e3d21494c41fb86034f2e714fa1</td>\n",
       "    </tr>\n",
       "    <tr>\n",
       "      <th>...</th>\n",
       "      <td>...</td>\n",
       "      <td>...</td>\n",
       "    </tr>\n",
       "    <tr>\n",
       "      <th>16436</th>\n",
       "      <td>2018-08-01</td>\n",
       "      <td>ffa6adafb71b807dc13159e26431354c</td>\n",
       "    </tr>\n",
       "    <tr>\n",
       "      <th>16437</th>\n",
       "      <td>2018-08-01</td>\n",
       "      <td>ffc470761de7d0232558ba5e786e57b7</td>\n",
       "    </tr>\n",
       "    <tr>\n",
       "      <th>16438</th>\n",
       "      <td>2018-08-01</td>\n",
       "      <td>ffdd9f82b9a447f6f8d4b91554cc7dd3</td>\n",
       "    </tr>\n",
       "    <tr>\n",
       "      <th>16439</th>\n",
       "      <td>2018-08-01</td>\n",
       "      <td>fffd5413c0700ac820c7069d66d98c89</td>\n",
       "    </tr>\n",
       "    <tr>\n",
       "      <th>16440</th>\n",
       "      <td>2018-09-01</td>\n",
       "      <td>25be943a321c8938947bdaabca979a90</td>\n",
       "    </tr>\n",
       "  </tbody>\n",
       "</table>\n",
       "<p>16441 rows × 2 columns</p>\n",
       "</div>"
      ],
      "text/plain": [
       "        month_id                         seller_id\n",
       "0     2016-09-01  1554a68530182680ad5c8b042c3ab563\n",
       "1     2016-09-01  a425f92c199eb576938df686728acd20\n",
       "2     2016-09-01  ecccfa2bb93b34a3bf033cc5d1dcdc69\n",
       "3     2016-10-01  011b0eaba87386a2ae96a7d32bb531d1\n",
       "4     2016-10-01  01cf7e3d21494c41fb86034f2e714fa1\n",
       "...          ...                               ...\n",
       "16436 2018-08-01  ffa6adafb71b807dc13159e26431354c\n",
       "16437 2018-08-01  ffc470761de7d0232558ba5e786e57b7\n",
       "16438 2018-08-01  ffdd9f82b9a447f6f8d4b91554cc7dd3\n",
       "16439 2018-08-01  fffd5413c0700ac820c7069d66d98c89\n",
       "16440 2018-09-01  25be943a321c8938947bdaabca979a90\n",
       "\n",
       "[16441 rows x 2 columns]"
      ]
     },
     "execution_count": 8,
     "metadata": {},
     "output_type": "execute_result"
    }
   ],
   "source": [
    "df"
   ]
  },
  {
   "cell_type": "code",
   "execution_count": 9,
   "metadata": {},
   "outputs": [],
   "source": [
    "df_shifted = df.assign(shifted_month=df[\"month_id\"] + pd.DateOffset(months=1))"
   ]
  },
  {
   "cell_type": "code",
   "execution_count": 10,
   "metadata": {},
   "outputs": [],
   "source": [
    "df_shifted = df_shifted[df[\"month_id\"] < df[\"month_id\"].max()]"
   ]
  },
  {
   "cell_type": "code",
   "execution_count": 11,
   "metadata": {},
   "outputs": [],
   "source": [
    "first_sale = (df\n",
    "              .groupby(\"seller_id\")\n",
    "              .min()[[\"month_id\"]]\n",
    "              .reset_index()\n",
    "              .rename(columns={\"month_id\": \"first_sale_month\"}))"
   ]
  },
  {
   "cell_type": "code",
   "execution_count": 12,
   "metadata": {},
   "outputs": [],
   "source": [
    "df = df.merge(first_sale, how=\"left\", left_on=[\"month_id\", \"seller_id\"], right_on=[\"first_sale_month\", \"seller_id\"])"
   ]
  },
  {
   "cell_type": "code",
   "execution_count": 13,
   "metadata": {},
   "outputs": [],
   "source": [
    "df = df.merge(df_shifted, how=\"outer\", left_on=[\"month_id\", \"seller_id\"], right_on=[\"shifted_month\", \"seller_id\"])"
   ]
  },
  {
   "cell_type": "code",
   "execution_count": 14,
   "metadata": {},
   "outputs": [],
   "source": [
    "df[\"month_id\"] = df[\"month_id_x\"].combine_first(df[\"shifted_month\"])"
   ]
  },
  {
   "cell_type": "code",
   "execution_count": 15,
   "metadata": {},
   "outputs": [],
   "source": [
    "df = (df\n",
    "      .assign(churned=df[\"month_id_x\"].isnull().astype(int))\n",
    "      .assign(new=np.where(~df[\"first_sale_month\"].isnull(), 1, 0))\n",
    "      .assign(repeat=np.where((df[\"month_id_x\"] == df[\"shifted_month\"]), 1, 0)))\n",
    "\n",
    "df = df.assign(returning=np.where(df[\"churned\"] + df[\"new\"] + df[\"repeat\"] == 0, 1, 0))"
   ]
  },
  {
   "cell_type": "code",
   "execution_count": 35,
   "metadata": {},
   "outputs": [],
   "source": [
    "df = df.assign(growth=df[[\"new\", \"repeat\", \"returning\", \"churned\"]].idxmax(1))"
   ]
  },
  {
   "cell_type": "code",
   "execution_count": 38,
   "metadata": {},
   "outputs": [],
   "source": [
    "df = df[[\"month_id\", \"seller_id\", \"growth\"]]"
   ]
  },
  {
   "cell_type": "code",
   "execution_count": 41,
   "metadata": {},
   "outputs": [],
   "source": [
    "df_g = df.groupby([\"month_id\", \"growth\"]).count().reset_index()"
   ]
  },
  {
   "cell_type": "code",
   "execution_count": 47,
   "metadata": {},
   "outputs": [
    {
     "data": {
      "image/png": "[encoded data removed]",
      "text/plain": [
       "<Figure size 1008x576 with 1 Axes>"
      ]
     },
     "metadata": {
      "needs_background": "light"
     },
     "output_type": "display_data"
    }
   ],
   "source": [
    "fig, ax = plt.subplots(figsize=(14,8))\n",
    "sns.lineplot(data=df_g,\n",
    "             x=\"month_id\",\n",
    "             y=\"seller_id\",\n",
    "             hue=\"growth\",\n",
    "             ax=ax);"
   ]
  }
 ],
 "metadata": {
  "kernelspec": {
   "display_name": "Python 3",
   "language": "python",
   "name": "python3"
  },
  "language_info": {
   "codemirror_mode": {
    "name": "ipython",
    "version": 3
   },
   "file_extension": ".py",
   "mimetype": "text/x-python",
   "name": "python",
   "nbconvert_exporter": "python",
   "pygments_lexer": "ipython3",
   "version": "3.7.4"
  }
 },
 "nbformat": 4,
 "nbformat_minor": 2
}
