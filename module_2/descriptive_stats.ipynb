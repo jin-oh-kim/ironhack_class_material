{
 "cells": [
  {
   "cell_type": "code",
   "execution_count": 1,
   "metadata": {},
   "outputs": [],
   "source": [
    "import pandas as pd\n",
    "import numpy as np\n",
    "\n",
    "import pymysql\n",
    "import getpass\n",
    "%matplotlib inline"
   ]
  },
  {
   "cell_type": "code",
   "execution_count": 2,
   "metadata": {},
   "outputs": [
    {
     "name": "stdout",
     "output_type": "stream",
     "text": [
      "········\n"
     ]
    }
   ],
   "source": [
    "pw = getpass.getpass()"
   ]
  },
  {
   "cell_type": "code",
   "execution_count": 3,
   "metadata": {},
   "outputs": [],
   "source": [
    "conn = pymysql.connect(host=\"localhost\",\n",
    "                       port=3306,\n",
    "                       user=\"ironhack\",\n",
    "                       passwd=pw,\n",
    "                       db=\"olist\");"
   ]
  },
  {
   "cell_type": "markdown",
   "metadata": {},
   "source": [
    "# Answer some questions regarding Sellers in 2017\n",
    "\n",
    "1. How many sellers do we have?\n",
    "2. How much do they sell?\n",
    "3. How much revenue do they generate?\n",
    "\n",
    "---\n",
    "\n",
    "1. How many sellers do we have?"
   ]
  },
  {
   "cell_type": "code",
   "execution_count": 4,
   "metadata": {},
   "outputs": [],
   "source": [
    "unique_sellers_query =\"\"\"\n",
    "SELECT DISTINCT\n",
    "    oi.seller_id\n",
    "FROM order_items oi\n",
    "    INNER JOIN orders o\n",
    "    ON oi.order_id = o.order_id\n",
    "WHERE o.order_purchase_timestamp >= '20170101'\n",
    "    AND o.order_purchase_timestamp < '20180101';\n",
    "\"\"\"\n",
    "\n",
    "unique_sellers = pd.read_sql(unique_sellers_query, conn)"
   ]
  },
  {
   "cell_type": "code",
   "execution_count": 5,
   "metadata": {},
   "outputs": [
    {
     "data": {
      "text/html": [
       "<div>\n",
       "<style scoped>\n",
       "    .dataframe tbody tr th:only-of-type {\n",
       "        vertical-align: middle;\n",
       "    }\n",
       "\n",
       "    .dataframe tbody tr th {\n",
       "        vertical-align: top;\n",
       "    }\n",
       "\n",
       "    .dataframe thead th {\n",
       "        text-align: right;\n",
       "    }\n",
       "</style>\n",
       "<table border=\"1\" class=\"dataframe\">\n",
       "  <thead>\n",
       "    <tr style=\"text-align: right;\">\n",
       "      <th></th>\n",
       "      <th>seller_id</th>\n",
       "    </tr>\n",
       "  </thead>\n",
       "  <tbody>\n",
       "    <tr>\n",
       "      <th>0</th>\n",
       "      <td>3504c0cb71d7fa48d967e0e4c94d59d9</td>\n",
       "    </tr>\n",
       "    <tr>\n",
       "      <th>1</th>\n",
       "      <td>66922902710d126a0e7d26b0e3805106</td>\n",
       "    </tr>\n",
       "    <tr>\n",
       "      <th>2</th>\n",
       "      <td>8581055ce74af1daba164fdbd55a40de</td>\n",
       "    </tr>\n",
       "    <tr>\n",
       "      <th>3</th>\n",
       "      <td>dc8798cbf453b7e0f98745e396cc5616</td>\n",
       "    </tr>\n",
       "    <tr>\n",
       "      <th>4</th>\n",
       "      <td>16090f2ca825584b5a147ab24aa30c86</td>\n",
       "    </tr>\n",
       "  </tbody>\n",
       "</table>\n",
       "</div>"
      ],
      "text/plain": [
       "                          seller_id\n",
       "0  3504c0cb71d7fa48d967e0e4c94d59d9\n",
       "1  66922902710d126a0e7d26b0e3805106\n",
       "2  8581055ce74af1daba164fdbd55a40de\n",
       "3  dc8798cbf453b7e0f98745e396cc5616\n",
       "4  16090f2ca825584b5a147ab24aa30c86"
      ]
     },
     "execution_count": 5,
     "metadata": {},
     "output_type": "execute_result"
    }
   ],
   "source": [
    "unique_sellers.head()"
   ]
  },
  {
   "cell_type": "code",
   "execution_count": 6,
   "metadata": {},
   "outputs": [
    {
     "data": {
      "text/plain": [
       "seller_id    1784\n",
       "dtype: int64"
      ]
     },
     "execution_count": 6,
     "metadata": {},
     "output_type": "execute_result"
    }
   ],
   "source": [
    "unique_sellers.count()"
   ]
  },
  {
   "cell_type": "markdown",
   "metadata": {},
   "source": [
    "We had 1784 sellers in 2017\n",
    "\n",
    "---\n",
    "\n",
    "2. How much do they sell?"
   ]
  },
  {
   "cell_type": "code",
   "execution_count": 7,
   "metadata": {},
   "outputs": [],
   "source": [
    "seller_qty_query = \"\"\"\n",
    "SELECT \n",
    "    oi.seller_id, \n",
    "    COUNT(*) AS items_sold\n",
    "FROM order_items oi\n",
    "    INNER JOIN orders o\n",
    "    ON oi.order_id = o.order_id\n",
    "WHERE o.order_purchase_timestamp >= '20170101'\n",
    "    AND o.order_purchase_timestamp < '20180101'\n",
    "GROUP BY oi.seller_id;\n",
    "\"\"\"\n",
    "\n",
    "seller_qty = pd.read_sql(seller_qty_query, conn)"
   ]
  },
  {
   "cell_type": "code",
   "execution_count": 8,
   "metadata": {},
   "outputs": [
    {
     "data": {
      "text/html": [
       "<div>\n",
       "<style scoped>\n",
       "    .dataframe tbody tr th:only-of-type {\n",
       "        vertical-align: middle;\n",
       "    }\n",
       "\n",
       "    .dataframe tbody tr th {\n",
       "        vertical-align: top;\n",
       "    }\n",
       "\n",
       "    .dataframe thead th {\n",
       "        text-align: right;\n",
       "    }\n",
       "</style>\n",
       "<table border=\"1\" class=\"dataframe\">\n",
       "  <thead>\n",
       "    <tr style=\"text-align: right;\">\n",
       "      <th></th>\n",
       "      <th>seller_id</th>\n",
       "      <th>items_sold</th>\n",
       "    </tr>\n",
       "  </thead>\n",
       "  <tbody>\n",
       "    <tr>\n",
       "      <th>0</th>\n",
       "      <td>3504c0cb71d7fa48d967e0e4c94d59d9</td>\n",
       "      <td>53</td>\n",
       "    </tr>\n",
       "    <tr>\n",
       "      <th>1</th>\n",
       "      <td>66922902710d126a0e7d26b0e3805106</td>\n",
       "      <td>64</td>\n",
       "    </tr>\n",
       "    <tr>\n",
       "      <th>2</th>\n",
       "      <td>8581055ce74af1daba164fdbd55a40de</td>\n",
       "      <td>310</td>\n",
       "    </tr>\n",
       "    <tr>\n",
       "      <th>3</th>\n",
       "      <td>dc8798cbf453b7e0f98745e396cc5616</td>\n",
       "      <td>49</td>\n",
       "    </tr>\n",
       "    <tr>\n",
       "      <th>4</th>\n",
       "      <td>16090f2ca825584b5a147ab24aa30c86</td>\n",
       "      <td>78</td>\n",
       "    </tr>\n",
       "    <tr>\n",
       "      <th>...</th>\n",
       "      <td>...</td>\n",
       "      <td>...</td>\n",
       "    </tr>\n",
       "    <tr>\n",
       "      <th>1779</th>\n",
       "      <td>72c73be2b085b9d57650dd53eb2004c9</td>\n",
       "      <td>1</td>\n",
       "    </tr>\n",
       "    <tr>\n",
       "      <th>1780</th>\n",
       "      <td>9ef932e837d8b7f392c0bfee9d359dc2</td>\n",
       "      <td>1</td>\n",
       "    </tr>\n",
       "    <tr>\n",
       "      <th>1781</th>\n",
       "      <td>2d8cfba3fcd3170555941605edaa196a</td>\n",
       "      <td>1</td>\n",
       "    </tr>\n",
       "    <tr>\n",
       "      <th>1782</th>\n",
       "      <td>8501d82f68d23148b6d78bb7c4a42037</td>\n",
       "      <td>1</td>\n",
       "    </tr>\n",
       "    <tr>\n",
       "      <th>1783</th>\n",
       "      <td>8fe8786ee000001ab51d030dfd4a7bf1</td>\n",
       "      <td>1</td>\n",
       "    </tr>\n",
       "  </tbody>\n",
       "</table>\n",
       "<p>1784 rows × 2 columns</p>\n",
       "</div>"
      ],
      "text/plain": [
       "                             seller_id  items_sold\n",
       "0     3504c0cb71d7fa48d967e0e4c94d59d9          53\n",
       "1     66922902710d126a0e7d26b0e3805106          64\n",
       "2     8581055ce74af1daba164fdbd55a40de         310\n",
       "3     dc8798cbf453b7e0f98745e396cc5616          49\n",
       "4     16090f2ca825584b5a147ab24aa30c86          78\n",
       "...                                ...         ...\n",
       "1779  72c73be2b085b9d57650dd53eb2004c9           1\n",
       "1780  9ef932e837d8b7f392c0bfee9d359dc2           1\n",
       "1781  2d8cfba3fcd3170555941605edaa196a           1\n",
       "1782  8501d82f68d23148b6d78bb7c4a42037           1\n",
       "1783  8fe8786ee000001ab51d030dfd4a7bf1           1\n",
       "\n",
       "[1784 rows x 2 columns]"
      ]
     },
     "execution_count": 8,
     "metadata": {},
     "output_type": "execute_result"
    }
   ],
   "source": [
    "seller_qty"
   ]
  },
  {
   "cell_type": "code",
   "execution_count": 10,
   "metadata": {},
   "outputs": [
    {
     "data": {
      "text/html": [
       "<div>\n",
       "<style scoped>\n",
       "    .dataframe tbody tr th:only-of-type {\n",
       "        vertical-align: middle;\n",
       "    }\n",
       "\n",
       "    .dataframe tbody tr th {\n",
       "        vertical-align: top;\n",
       "    }\n",
       "\n",
       "    .dataframe thead th {\n",
       "        text-align: right;\n",
       "    }\n",
       "</style>\n",
       "<table border=\"1\" class=\"dataframe\">\n",
       "  <thead>\n",
       "    <tr style=\"text-align: right;\">\n",
       "      <th></th>\n",
       "      <th>items_sold</th>\n",
       "    </tr>\n",
       "  </thead>\n",
       "  <tbody>\n",
       "    <tr>\n",
       "      <th>count</th>\n",
       "      <td>1784.000000</td>\n",
       "    </tr>\n",
       "    <tr>\n",
       "      <th>mean</th>\n",
       "      <td>28.511211</td>\n",
       "    </tr>\n",
       "    <tr>\n",
       "      <th>std</th>\n",
       "      <td>80.941965</td>\n",
       "    </tr>\n",
       "    <tr>\n",
       "      <th>min</th>\n",
       "      <td>1.000000</td>\n",
       "    </tr>\n",
       "    <tr>\n",
       "      <th>25%</th>\n",
       "      <td>2.000000</td>\n",
       "    </tr>\n",
       "    <tr>\n",
       "      <th>50%</th>\n",
       "      <td>6.000000</td>\n",
       "    </tr>\n",
       "    <tr>\n",
       "      <th>75%</th>\n",
       "      <td>22.000000</td>\n",
       "    </tr>\n",
       "    <tr>\n",
       "      <th>max</th>\n",
       "      <td>1258.000000</td>\n",
       "    </tr>\n",
       "  </tbody>\n",
       "</table>\n",
       "</div>"
      ],
      "text/plain": [
       "        items_sold\n",
       "count  1784.000000\n",
       "mean     28.511211\n",
       "std      80.941965\n",
       "min       1.000000\n",
       "25%       2.000000\n",
       "50%       6.000000\n",
       "75%      22.000000\n",
       "max    1258.000000"
      ]
     },
     "execution_count": 10,
     "metadata": {},
     "output_type": "execute_result"
    }
   ],
   "source": [
    "seller_qty.describe()"
   ]
  },
  {
   "cell_type": "markdown",
   "metadata": {},
   "source": [
    "Top seller had 1258 sales in 2017\n",
    "\n",
    "Lowest performing seller only sold 1 item\n",
    "\n",
    "Half of the sellers sold no more than 6 items\n",
    "\n",
    "75% sold no more than 22 items"
   ]
  },
  {
   "cell_type": "code",
   "execution_count": 16,
   "metadata": {},
   "outputs": [
    {
     "data": {
      "image/png": "[encoded data removed]",
      "text/plain": [
       "<Figure size 432x288 with 1 Axes>"
      ]
     },
     "metadata": {
      "needs_background": "light"
     },
     "output_type": "display_data"
    }
   ],
   "source": [
    "seller_qty.plot(kind=\"box\", ylim=(0,60));"
   ]
  },
  {
   "cell_type": "code",
   "execution_count": 18,
   "metadata": {},
   "outputs": [
    {
     "data": {
      "image/png": "[encoded data removed]",
      "text/plain": [
       "<Figure size 432x288 with 1 Axes>"
      ]
     },
     "metadata": {
      "needs_background": "light"
     },
     "output_type": "display_data"
    }
   ],
   "source": [
    "seller_qty.plot(kind=\"box\");"
   ]
  },
  {
   "cell_type": "code",
   "execution_count": 19,
   "metadata": {},
   "outputs": [
    {
     "data": {
      "image/png": "[encoded data removed]",
      "text/plain": [
       "<Figure size 432x288 with 1 Axes>"
      ]
     },
     "metadata": {
      "needs_background": "light"
     },
     "output_type": "display_data"
    }
   ],
   "source": [
    "seller_qty.plot(kind=\"hist\");"
   ]
  },
  {
   "cell_type": "code",
   "execution_count": 21,
   "metadata": {},
   "outputs": [
    {
     "data": {
      "image/png": "[encoded data removed]",
      "text/plain": [
       "<Figure size 432x288 with 1 Axes>"
      ]
     },
     "metadata": {
      "needs_background": "light"
     },
     "output_type": "display_data"
    }
   ],
   "source": [
    "seller_qty.plot(kind=\"hist\", bins=1000, xlim=(0,100));"
   ]
  },
  {
   "cell_type": "code",
   "execution_count": 23,
   "metadata": {},
   "outputs": [
    {
     "data": {
      "text/html": [
       "<div>\n",
       "<style scoped>\n",
       "    .dataframe tbody tr th:only-of-type {\n",
       "        vertical-align: middle;\n",
       "    }\n",
       "\n",
       "    .dataframe tbody tr th {\n",
       "        vertical-align: top;\n",
       "    }\n",
       "\n",
       "    .dataframe thead th {\n",
       "        text-align: right;\n",
       "    }\n",
       "</style>\n",
       "<table border=\"1\" class=\"dataframe\">\n",
       "  <thead>\n",
       "    <tr style=\"text-align: right;\">\n",
       "      <th></th>\n",
       "      <th>items_sold</th>\n",
       "    </tr>\n",
       "  </thead>\n",
       "  <tbody>\n",
       "    <tr>\n",
       "      <th>0.25</th>\n",
       "      <td>2.0</td>\n",
       "    </tr>\n",
       "    <tr>\n",
       "      <th>0.50</th>\n",
       "      <td>6.0</td>\n",
       "    </tr>\n",
       "    <tr>\n",
       "      <th>0.75</th>\n",
       "      <td>22.0</td>\n",
       "    </tr>\n",
       "  </tbody>\n",
       "</table>\n",
       "</div>"
      ],
      "text/plain": [
       "      items_sold\n",
       "0.25         2.0\n",
       "0.50         6.0\n",
       "0.75        22.0"
      ]
     },
     "execution_count": 23,
     "metadata": {},
     "output_type": "execute_result"
    }
   ],
   "source": [
    "seller_qty.quantile([.25,.5,.75])"
   ]
  },
  {
   "cell_type": "code",
   "execution_count": 28,
   "metadata": {},
   "outputs": [
    {
     "data": {
      "text/plain": [
       "array([0.  , 0.01, 0.02, 0.03, 0.04, 0.05, 0.06, 0.07, 0.08, 0.09, 0.1 ,\n",
       "       0.11, 0.12, 0.13, 0.14, 0.15, 0.16, 0.17, 0.18, 0.19, 0.2 , 0.21,\n",
       "       0.22, 0.23, 0.24, 0.25, 0.26, 0.27, 0.28, 0.29, 0.3 , 0.31, 0.32,\n",
       "       0.33, 0.34, 0.35, 0.36, 0.37, 0.38, 0.39, 0.4 , 0.41, 0.42, 0.43,\n",
       "       0.44, 0.45, 0.46, 0.47, 0.48, 0.49, 0.5 , 0.51, 0.52, 0.53, 0.54,\n",
       "       0.55, 0.56, 0.57, 0.58, 0.59, 0.6 , 0.61, 0.62, 0.63, 0.64, 0.65,\n",
       "       0.66, 0.67, 0.68, 0.69, 0.7 , 0.71, 0.72, 0.73, 0.74, 0.75, 0.76,\n",
       "       0.77, 0.78, 0.79, 0.8 , 0.81, 0.82, 0.83, 0.84, 0.85, 0.86, 0.87,\n",
       "       0.88, 0.89, 0.9 , 0.91, 0.92, 0.93, 0.94, 0.95, 0.96, 0.97, 0.98,\n",
       "       0.99])"
      ]
     },
     "execution_count": 28,
     "metadata": {},
     "output_type": "execute_result"
    }
   ],
   "source": [
    "np.arange(0,1,.01)"
   ]
  },
  {
   "cell_type": "code",
   "execution_count": 31,
   "metadata": {},
   "outputs": [],
   "source": [
    "seller_percentiles = seller_qty.quantile(np.arange(0,1,.01))"
   ]
  },
  {
   "cell_type": "code",
   "execution_count": 87,
   "metadata": {},
   "outputs": [
    {
     "data": {
      "image/png": "[encoded data removed]",
      "text/plain": [
       "<Figure size 432x288 with 1 Axes>"
      ]
     },
     "metadata": {
      "needs_background": "light"
     },
     "output_type": "display_data"
    }
   ],
   "source": [
    "seller_percentiles.plot(kind=\"bar\");"
   ]
  },
  {
   "cell_type": "code",
   "execution_count": 35,
   "metadata": {},
   "outputs": [
    {
     "data": {
      "text/html": [
       "<div>\n",
       "<style scoped>\n",
       "    .dataframe tbody tr th:only-of-type {\n",
       "        vertical-align: middle;\n",
       "    }\n",
       "\n",
       "    .dataframe tbody tr th {\n",
       "        vertical-align: top;\n",
       "    }\n",
       "\n",
       "    .dataframe thead th {\n",
       "        text-align: right;\n",
       "    }\n",
       "</style>\n",
       "<table border=\"1\" class=\"dataframe\">\n",
       "  <thead>\n",
       "    <tr style=\"text-align: right;\">\n",
       "      <th></th>\n",
       "      <th>items_sold</th>\n",
       "    </tr>\n",
       "  </thead>\n",
       "  <tbody>\n",
       "    <tr>\n",
       "      <th>0.0</th>\n",
       "      <td>1.0</td>\n",
       "    </tr>\n",
       "    <tr>\n",
       "      <th>0.1</th>\n",
       "      <td>1.0</td>\n",
       "    </tr>\n",
       "    <tr>\n",
       "      <th>0.2</th>\n",
       "      <td>2.0</td>\n",
       "    </tr>\n",
       "    <tr>\n",
       "      <th>0.3</th>\n",
       "      <td>3.0</td>\n",
       "    </tr>\n",
       "    <tr>\n",
       "      <th>0.4</th>\n",
       "      <td>4.0</td>\n",
       "    </tr>\n",
       "    <tr>\n",
       "      <th>0.5</th>\n",
       "      <td>6.0</td>\n",
       "    </tr>\n",
       "    <tr>\n",
       "      <th>0.6</th>\n",
       "      <td>10.0</td>\n",
       "    </tr>\n",
       "    <tr>\n",
       "      <th>0.7</th>\n",
       "      <td>16.0</td>\n",
       "    </tr>\n",
       "    <tr>\n",
       "      <th>0.8</th>\n",
       "      <td>29.0</td>\n",
       "    </tr>\n",
       "    <tr>\n",
       "      <th>0.9</th>\n",
       "      <td>64.0</td>\n",
       "    </tr>\n",
       "  </tbody>\n",
       "</table>\n",
       "</div>"
      ],
      "text/plain": [
       "     items_sold\n",
       "0.0         1.0\n",
       "0.1         1.0\n",
       "0.2         2.0\n",
       "0.3         3.0\n",
       "0.4         4.0\n",
       "0.5         6.0\n",
       "0.6        10.0\n",
       "0.7        16.0\n",
       "0.8        29.0\n",
       "0.9        64.0"
      ]
     },
     "execution_count": 35,
     "metadata": {},
     "output_type": "execute_result"
    }
   ],
   "source": [
    "seller_qty.quantile(np.arange(0,1,.1))"
   ]
  },
  {
   "cell_type": "markdown",
   "metadata": {},
   "source": [
    "The top 10% of sellers sold at least 64 items in 2017"
   ]
  },
  {
   "cell_type": "markdown",
   "metadata": {},
   "source": [
    "3. How much revenue do they generate?"
   ]
  },
  {
   "cell_type": "code",
   "execution_count": 36,
   "metadata": {},
   "outputs": [],
   "source": [
    "sellers_rev_query = \"\"\"\n",
    "SELECT\n",
    "    oi.seller_id,\n",
    "    SUM(oi.price) AS revenue_generated\n",
    "FROM order_items oi\n",
    "    INNER JOIN orders o\n",
    "    ON oi.order_id = o.order_id\n",
    "WHERE o.order_purchase_timestamp >= '20170101'\n",
    "    AND o.order_purchase_timestamp < '20180101'\n",
    "GROUP BY oi.seller_id;\n",
    "\"\"\"\n",
    "\n",
    "sellers_rev = pd.read_sql(sellers_rev_query, conn)"
   ]
  },
  {
   "cell_type": "code",
   "execution_count": 38,
   "metadata": {},
   "outputs": [
    {
     "data": {
      "text/html": [
       "<div>\n",
       "<style scoped>\n",
       "    .dataframe tbody tr th:only-of-type {\n",
       "        vertical-align: middle;\n",
       "    }\n",
       "\n",
       "    .dataframe tbody tr th {\n",
       "        vertical-align: top;\n",
       "    }\n",
       "\n",
       "    .dataframe thead th {\n",
       "        text-align: right;\n",
       "    }\n",
       "</style>\n",
       "<table border=\"1\" class=\"dataframe\">\n",
       "  <thead>\n",
       "    <tr style=\"text-align: right;\">\n",
       "      <th></th>\n",
       "      <th>seller_id</th>\n",
       "      <th>revenue_generated</th>\n",
       "    </tr>\n",
       "  </thead>\n",
       "  <tbody>\n",
       "    <tr>\n",
       "      <th>0</th>\n",
       "      <td>3504c0cb71d7fa48d967e0e4c94d59d9</td>\n",
       "      <td>2349.940056</td>\n",
       "    </tr>\n",
       "    <tr>\n",
       "      <th>1</th>\n",
       "      <td>66922902710d126a0e7d26b0e3805106</td>\n",
       "      <td>5926.800003</td>\n",
       "    </tr>\n",
       "    <tr>\n",
       "      <th>2</th>\n",
       "      <td>8581055ce74af1daba164fdbd55a40de</td>\n",
       "      <td>45763.090235</td>\n",
       "    </tr>\n",
       "    <tr>\n",
       "      <th>3</th>\n",
       "      <td>dc8798cbf453b7e0f98745e396cc5616</td>\n",
       "      <td>1976.500029</td>\n",
       "    </tr>\n",
       "    <tr>\n",
       "      <th>4</th>\n",
       "      <td>16090f2ca825584b5a147ab24aa30c86</td>\n",
       "      <td>11045.279995</td>\n",
       "    </tr>\n",
       "  </tbody>\n",
       "</table>\n",
       "</div>"
      ],
      "text/plain": [
       "                          seller_id  revenue_generated\n",
       "0  3504c0cb71d7fa48d967e0e4c94d59d9        2349.940056\n",
       "1  66922902710d126a0e7d26b0e3805106        5926.800003\n",
       "2  8581055ce74af1daba164fdbd55a40de       45763.090235\n",
       "3  dc8798cbf453b7e0f98745e396cc5616        1976.500029\n",
       "4  16090f2ca825584b5a147ab24aa30c86       11045.279995"
      ]
     },
     "execution_count": 38,
     "metadata": {},
     "output_type": "execute_result"
    }
   ],
   "source": [
    "sellers_rev.head()"
   ]
  },
  {
   "cell_type": "code",
   "execution_count": 39,
   "metadata": {},
   "outputs": [
    {
     "data": {
      "text/html": [
       "<div>\n",
       "<style scoped>\n",
       "    .dataframe tbody tr th:only-of-type {\n",
       "        vertical-align: middle;\n",
       "    }\n",
       "\n",
       "    .dataframe tbody tr th {\n",
       "        vertical-align: top;\n",
       "    }\n",
       "\n",
       "    .dataframe thead th {\n",
       "        text-align: right;\n",
       "    }\n",
       "</style>\n",
       "<table border=\"1\" class=\"dataframe\">\n",
       "  <thead>\n",
       "    <tr style=\"text-align: right;\">\n",
       "      <th></th>\n",
       "      <th>revenue_generated</th>\n",
       "    </tr>\n",
       "  </thead>\n",
       "  <tbody>\n",
       "    <tr>\n",
       "      <th>count</th>\n",
       "      <td>1784.000000</td>\n",
       "    </tr>\n",
       "    <tr>\n",
       "      <th>mean</th>\n",
       "      <td>3450.564450</td>\n",
       "    </tr>\n",
       "    <tr>\n",
       "      <th>std</th>\n",
       "      <td>10407.548587</td>\n",
       "    </tr>\n",
       "    <tr>\n",
       "      <th>min</th>\n",
       "      <td>3.500000</td>\n",
       "    </tr>\n",
       "    <tr>\n",
       "      <th>25%</th>\n",
       "      <td>205.787502</td>\n",
       "    </tr>\n",
       "    <tr>\n",
       "      <th>50%</th>\n",
       "      <td>771.530024</td>\n",
       "    </tr>\n",
       "    <tr>\n",
       "      <th>75%</th>\n",
       "      <td>2677.642486</td>\n",
       "    </tr>\n",
       "    <tr>\n",
       "      <th>max</th>\n",
       "      <td>181113.919632</td>\n",
       "    </tr>\n",
       "  </tbody>\n",
       "</table>\n",
       "</div>"
      ],
      "text/plain": [
       "       revenue_generated\n",
       "count        1784.000000\n",
       "mean         3450.564450\n",
       "std         10407.548587\n",
       "min             3.500000\n",
       "25%           205.787502\n",
       "50%           771.530024\n",
       "75%          2677.642486\n",
       "max        181113.919632"
      ]
     },
     "execution_count": 39,
     "metadata": {},
     "output_type": "execute_result"
    }
   ],
   "source": [
    "sellers_rev.describe()"
   ]
  },
  {
   "cell_type": "code",
   "execution_count": 41,
   "metadata": {},
   "outputs": [
    {
     "data": {
      "image/png": "[encoded data removed]",
      "text/plain": [
       "<Figure size 432x288 with 1 Axes>"
      ]
     },
     "metadata": {
      "needs_background": "light"
     },
     "output_type": "display_data"
    }
   ],
   "source": [
    "sellers_rev.plot(kind=\"box\");"
   ]
  },
  {
   "cell_type": "code",
   "execution_count": 43,
   "metadata": {},
   "outputs": [
    {
     "data": {
      "image/png": "[encoded data removed]",
      "text/plain": [
       "<Figure size 432x288 with 1 Axes>"
      ]
     },
     "metadata": {
      "needs_background": "light"
     },
     "output_type": "display_data"
    }
   ],
   "source": [
    "sellers_rev.plot(kind=\"hist\");"
   ]
  },
  {
   "cell_type": "code",
   "execution_count": 45,
   "metadata": {},
   "outputs": [
    {
     "data": {
      "image/png": "[encoded data removed]",
      "text/plain": [
       "<Figure size 432x288 with 1 Axes>"
      ]
     },
     "metadata": {
      "needs_background": "light"
     },
     "output_type": "display_data"
    }
   ],
   "source": [
    "sellers_rev.plot(kind=\"hist\", bins=700, xlim=(0,10000));"
   ]
  },
  {
   "cell_type": "code",
   "execution_count": 52,
   "metadata": {},
   "outputs": [
    {
     "data": {
      "text/html": [
       "<div>\n",
       "<style scoped>\n",
       "    .dataframe tbody tr th:only-of-type {\n",
       "        vertical-align: middle;\n",
       "    }\n",
       "\n",
       "    .dataframe tbody tr th {\n",
       "        vertical-align: top;\n",
       "    }\n",
       "\n",
       "    .dataframe thead th {\n",
       "        text-align: right;\n",
       "    }\n",
       "</style>\n",
       "<table border=\"1\" class=\"dataframe\">\n",
       "  <thead>\n",
       "    <tr style=\"text-align: right;\">\n",
       "      <th></th>\n",
       "      <th>revenue_generated</th>\n",
       "    </tr>\n",
       "  </thead>\n",
       "  <tbody>\n",
       "    <tr>\n",
       "      <th>0.0</th>\n",
       "      <td>3.500000</td>\n",
       "    </tr>\n",
       "    <tr>\n",
       "      <th>0.1</th>\n",
       "      <td>74.781000</td>\n",
       "    </tr>\n",
       "    <tr>\n",
       "      <th>0.2</th>\n",
       "      <td>151.948000</td>\n",
       "    </tr>\n",
       "    <tr>\n",
       "      <th>0.3</th>\n",
       "      <td>273.880993</td>\n",
       "    </tr>\n",
       "    <tr>\n",
       "      <th>0.4</th>\n",
       "      <td>447.500000</td>\n",
       "    </tr>\n",
       "    <tr>\n",
       "      <th>0.5</th>\n",
       "      <td>771.530024</td>\n",
       "    </tr>\n",
       "    <tr>\n",
       "      <th>0.6</th>\n",
       "      <td>1233.213994</td>\n",
       "    </tr>\n",
       "    <tr>\n",
       "      <th>0.7</th>\n",
       "      <td>2137.986032</td>\n",
       "    </tr>\n",
       "    <tr>\n",
       "      <th>0.8</th>\n",
       "      <td>3598.024061</td>\n",
       "    </tr>\n",
       "    <tr>\n",
       "      <th>0.9</th>\n",
       "      <td>7353.310093</td>\n",
       "    </tr>\n",
       "  </tbody>\n",
       "</table>\n",
       "</div>"
      ],
      "text/plain": [
       "     revenue_generated\n",
       "0.0           3.500000\n",
       "0.1          74.781000\n",
       "0.2         151.948000\n",
       "0.3         273.880993\n",
       "0.4         447.500000\n",
       "0.5         771.530024\n",
       "0.6        1233.213994\n",
       "0.7        2137.986032\n",
       "0.8        3598.024061\n",
       "0.9        7353.310093"
      ]
     },
     "execution_count": 52,
     "metadata": {},
     "output_type": "execute_result"
    }
   ],
   "source": [
    "sellers_rev.quantile(np.arange(0,1,.1))"
   ]
  },
  {
   "cell_type": "markdown",
   "metadata": {},
   "source": [
    "We could have done all of that with one query"
   ]
  },
  {
   "cell_type": "code",
   "execution_count": 54,
   "metadata": {},
   "outputs": [],
   "source": [
    "sellers_table_query = \"\"\"\n",
    "SELECT\n",
    "    oi.seller_id,\n",
    "    COUNT(1) AS items_sold,\n",
    "    SUM(oi.price) AS revenue_generated\n",
    "FROM order_items oi\n",
    "    INNER JOIN orders o\n",
    "    ON oi.order_id = o.order_id\n",
    "WHERE o.order_purchase_timestamp >= '20170101'\n",
    "    AND o.order_purchase_timestamp < '20180101'\n",
    "GROUP BY oi.seller_id;\n",
    "\"\"\"\n",
    "\n",
    "sellers_table = pd.read_sql(sellers_table_query, conn)"
   ]
  },
  {
   "cell_type": "code",
   "execution_count": 55,
   "metadata": {},
   "outputs": [
    {
     "data": {
      "text/html": [
       "<div>\n",
       "<style scoped>\n",
       "    .dataframe tbody tr th:only-of-type {\n",
       "        vertical-align: middle;\n",
       "    }\n",
       "\n",
       "    .dataframe tbody tr th {\n",
       "        vertical-align: top;\n",
       "    }\n",
       "\n",
       "    .dataframe thead th {\n",
       "        text-align: right;\n",
       "    }\n",
       "</style>\n",
       "<table border=\"1\" class=\"dataframe\">\n",
       "  <thead>\n",
       "    <tr style=\"text-align: right;\">\n",
       "      <th></th>\n",
       "      <th>seller_id</th>\n",
       "      <th>items_sold</th>\n",
       "      <th>revenue_generated</th>\n",
       "    </tr>\n",
       "  </thead>\n",
       "  <tbody>\n",
       "    <tr>\n",
       "      <th>0</th>\n",
       "      <td>3504c0cb71d7fa48d967e0e4c94d59d9</td>\n",
       "      <td>53</td>\n",
       "      <td>2349.940056</td>\n",
       "    </tr>\n",
       "    <tr>\n",
       "      <th>1</th>\n",
       "      <td>66922902710d126a0e7d26b0e3805106</td>\n",
       "      <td>64</td>\n",
       "      <td>5926.800003</td>\n",
       "    </tr>\n",
       "    <tr>\n",
       "      <th>2</th>\n",
       "      <td>8581055ce74af1daba164fdbd55a40de</td>\n",
       "      <td>310</td>\n",
       "      <td>45763.090235</td>\n",
       "    </tr>\n",
       "    <tr>\n",
       "      <th>3</th>\n",
       "      <td>dc8798cbf453b7e0f98745e396cc5616</td>\n",
       "      <td>49</td>\n",
       "      <td>1976.500029</td>\n",
       "    </tr>\n",
       "    <tr>\n",
       "      <th>4</th>\n",
       "      <td>16090f2ca825584b5a147ab24aa30c86</td>\n",
       "      <td>78</td>\n",
       "      <td>11045.279995</td>\n",
       "    </tr>\n",
       "  </tbody>\n",
       "</table>\n",
       "</div>"
      ],
      "text/plain": [
       "                          seller_id  items_sold  revenue_generated\n",
       "0  3504c0cb71d7fa48d967e0e4c94d59d9          53        2349.940056\n",
       "1  66922902710d126a0e7d26b0e3805106          64        5926.800003\n",
       "2  8581055ce74af1daba164fdbd55a40de         310       45763.090235\n",
       "3  dc8798cbf453b7e0f98745e396cc5616          49        1976.500029\n",
       "4  16090f2ca825584b5a147ab24aa30c86          78       11045.279995"
      ]
     },
     "execution_count": 55,
     "metadata": {},
     "output_type": "execute_result"
    }
   ],
   "source": [
    "sellers_table.head()"
   ]
  },
  {
   "cell_type": "code",
   "execution_count": 56,
   "metadata": {},
   "outputs": [
    {
     "data": {
      "text/html": [
       "<div>\n",
       "<style scoped>\n",
       "    .dataframe tbody tr th:only-of-type {\n",
       "        vertical-align: middle;\n",
       "    }\n",
       "\n",
       "    .dataframe tbody tr th {\n",
       "        vertical-align: top;\n",
       "    }\n",
       "\n",
       "    .dataframe thead th {\n",
       "        text-align: right;\n",
       "    }\n",
       "</style>\n",
       "<table border=\"1\" class=\"dataframe\">\n",
       "  <thead>\n",
       "    <tr style=\"text-align: right;\">\n",
       "      <th></th>\n",
       "      <th>items_sold</th>\n",
       "      <th>revenue_generated</th>\n",
       "    </tr>\n",
       "  </thead>\n",
       "  <tbody>\n",
       "    <tr>\n",
       "      <th>count</th>\n",
       "      <td>1784.000000</td>\n",
       "      <td>1784.000000</td>\n",
       "    </tr>\n",
       "    <tr>\n",
       "      <th>mean</th>\n",
       "      <td>28.511211</td>\n",
       "      <td>3450.564450</td>\n",
       "    </tr>\n",
       "    <tr>\n",
       "      <th>std</th>\n",
       "      <td>80.941965</td>\n",
       "      <td>10407.548587</td>\n",
       "    </tr>\n",
       "    <tr>\n",
       "      <th>min</th>\n",
       "      <td>1.000000</td>\n",
       "      <td>3.500000</td>\n",
       "    </tr>\n",
       "    <tr>\n",
       "      <th>25%</th>\n",
       "      <td>2.000000</td>\n",
       "      <td>205.787502</td>\n",
       "    </tr>\n",
       "    <tr>\n",
       "      <th>50%</th>\n",
       "      <td>6.000000</td>\n",
       "      <td>771.530024</td>\n",
       "    </tr>\n",
       "    <tr>\n",
       "      <th>75%</th>\n",
       "      <td>22.000000</td>\n",
       "      <td>2677.642486</td>\n",
       "    </tr>\n",
       "    <tr>\n",
       "      <th>max</th>\n",
       "      <td>1258.000000</td>\n",
       "      <td>181113.919632</td>\n",
       "    </tr>\n",
       "  </tbody>\n",
       "</table>\n",
       "</div>"
      ],
      "text/plain": [
       "        items_sold  revenue_generated\n",
       "count  1784.000000        1784.000000\n",
       "mean     28.511211        3450.564450\n",
       "std      80.941965       10407.548587\n",
       "min       1.000000           3.500000\n",
       "25%       2.000000         205.787502\n",
       "50%       6.000000         771.530024\n",
       "75%      22.000000        2677.642486\n",
       "max    1258.000000      181113.919632"
      ]
     },
     "execution_count": 56,
     "metadata": {},
     "output_type": "execute_result"
    }
   ],
   "source": [
    "sellers_table.describe()"
   ]
  },
  {
   "cell_type": "code",
   "execution_count": 59,
   "metadata": {},
   "outputs": [
    {
     "data": {
      "image/png": "[encoded data removed]",
      "text/plain": [
       "<Figure size 432x288 with 1 Axes>"
      ]
     },
     "metadata": {
      "needs_background": "light"
     },
     "output_type": "display_data"
    }
   ],
   "source": [
    "sellers_table.plot(kind=\"box\");"
   ]
  },
  {
   "cell_type": "code",
   "execution_count": 61,
   "metadata": {},
   "outputs": [
    {
     "data": {
      "text/html": [
       "<div>\n",
       "<style scoped>\n",
       "    .dataframe tbody tr th:only-of-type {\n",
       "        vertical-align: middle;\n",
       "    }\n",
       "\n",
       "    .dataframe tbody tr th {\n",
       "        vertical-align: top;\n",
       "    }\n",
       "\n",
       "    .dataframe thead th {\n",
       "        text-align: right;\n",
       "    }\n",
       "</style>\n",
       "<table border=\"1\" class=\"dataframe\">\n",
       "  <thead>\n",
       "    <tr style=\"text-align: right;\">\n",
       "      <th></th>\n",
       "      <th>items_sold</th>\n",
       "      <th>revenue_generated</th>\n",
       "    </tr>\n",
       "  </thead>\n",
       "  <tbody>\n",
       "    <tr>\n",
       "      <th>0.0</th>\n",
       "      <td>1.0</td>\n",
       "      <td>3.500000</td>\n",
       "    </tr>\n",
       "    <tr>\n",
       "      <th>0.1</th>\n",
       "      <td>1.0</td>\n",
       "      <td>74.781000</td>\n",
       "    </tr>\n",
       "    <tr>\n",
       "      <th>0.2</th>\n",
       "      <td>2.0</td>\n",
       "      <td>151.948000</td>\n",
       "    </tr>\n",
       "    <tr>\n",
       "      <th>0.3</th>\n",
       "      <td>3.0</td>\n",
       "      <td>273.880993</td>\n",
       "    </tr>\n",
       "    <tr>\n",
       "      <th>0.4</th>\n",
       "      <td>4.0</td>\n",
       "      <td>447.500000</td>\n",
       "    </tr>\n",
       "    <tr>\n",
       "      <th>0.5</th>\n",
       "      <td>6.0</td>\n",
       "      <td>771.530024</td>\n",
       "    </tr>\n",
       "    <tr>\n",
       "      <th>0.6</th>\n",
       "      <td>10.0</td>\n",
       "      <td>1233.213994</td>\n",
       "    </tr>\n",
       "    <tr>\n",
       "      <th>0.7</th>\n",
       "      <td>16.0</td>\n",
       "      <td>2137.986032</td>\n",
       "    </tr>\n",
       "    <tr>\n",
       "      <th>0.8</th>\n",
       "      <td>29.0</td>\n",
       "      <td>3598.024061</td>\n",
       "    </tr>\n",
       "    <tr>\n",
       "      <th>0.9</th>\n",
       "      <td>64.0</td>\n",
       "      <td>7353.310093</td>\n",
       "    </tr>\n",
       "  </tbody>\n",
       "</table>\n",
       "</div>"
      ],
      "text/plain": [
       "     items_sold  revenue_generated\n",
       "0.0         1.0           3.500000\n",
       "0.1         1.0          74.781000\n",
       "0.2         2.0         151.948000\n",
       "0.3         3.0         273.880993\n",
       "0.4         4.0         447.500000\n",
       "0.5         6.0         771.530024\n",
       "0.6        10.0        1233.213994\n",
       "0.7        16.0        2137.986032\n",
       "0.8        29.0        3598.024061\n",
       "0.9        64.0        7353.310093"
      ]
     },
     "execution_count": 61,
     "metadata": {},
     "output_type": "execute_result"
    }
   ],
   "source": [
    "sellers_table.quantile(np.arange(0,1,.1))"
   ]
  },
  {
   "cell_type": "markdown",
   "metadata": {},
   "source": [
    "Quantifying risk"
   ]
  },
  {
   "cell_type": "code",
   "execution_count": 62,
   "metadata": {},
   "outputs": [
    {
     "data": {
      "text/html": [
       "<div>\n",
       "<style scoped>\n",
       "    .dataframe tbody tr th:only-of-type {\n",
       "        vertical-align: middle;\n",
       "    }\n",
       "\n",
       "    .dataframe tbody tr th {\n",
       "        vertical-align: top;\n",
       "    }\n",
       "\n",
       "    .dataframe thead th {\n",
       "        text-align: right;\n",
       "    }\n",
       "</style>\n",
       "<table border=\"1\" class=\"dataframe\">\n",
       "  <thead>\n",
       "    <tr style=\"text-align: right;\">\n",
       "      <th></th>\n",
       "      <th>seller_id</th>\n",
       "      <th>items_sold</th>\n",
       "      <th>revenue_generated</th>\n",
       "    </tr>\n",
       "  </thead>\n",
       "  <tbody>\n",
       "    <tr>\n",
       "      <th>0</th>\n",
       "      <td>3504c0cb71d7fa48d967e0e4c94d59d9</td>\n",
       "      <td>53</td>\n",
       "      <td>2349.940056</td>\n",
       "    </tr>\n",
       "    <tr>\n",
       "      <th>1</th>\n",
       "      <td>66922902710d126a0e7d26b0e3805106</td>\n",
       "      <td>64</td>\n",
       "      <td>5926.800003</td>\n",
       "    </tr>\n",
       "    <tr>\n",
       "      <th>2</th>\n",
       "      <td>8581055ce74af1daba164fdbd55a40de</td>\n",
       "      <td>310</td>\n",
       "      <td>45763.090235</td>\n",
       "    </tr>\n",
       "    <tr>\n",
       "      <th>3</th>\n",
       "      <td>dc8798cbf453b7e0f98745e396cc5616</td>\n",
       "      <td>49</td>\n",
       "      <td>1976.500029</td>\n",
       "    </tr>\n",
       "    <tr>\n",
       "      <th>4</th>\n",
       "      <td>16090f2ca825584b5a147ab24aa30c86</td>\n",
       "      <td>78</td>\n",
       "      <td>11045.279995</td>\n",
       "    </tr>\n",
       "    <tr>\n",
       "      <th>...</th>\n",
       "      <td>...</td>\n",
       "      <td>...</td>\n",
       "      <td>...</td>\n",
       "    </tr>\n",
       "    <tr>\n",
       "      <th>1779</th>\n",
       "      <td>72c73be2b085b9d57650dd53eb2004c9</td>\n",
       "      <td>1</td>\n",
       "      <td>29.400000</td>\n",
       "    </tr>\n",
       "    <tr>\n",
       "      <th>1780</th>\n",
       "      <td>9ef932e837d8b7f392c0bfee9d359dc2</td>\n",
       "      <td>1</td>\n",
       "      <td>59.900002</td>\n",
       "    </tr>\n",
       "    <tr>\n",
       "      <th>1781</th>\n",
       "      <td>2d8cfba3fcd3170555941605edaa196a</td>\n",
       "      <td>1</td>\n",
       "      <td>45.000000</td>\n",
       "    </tr>\n",
       "    <tr>\n",
       "      <th>1782</th>\n",
       "      <td>8501d82f68d23148b6d78bb7c4a42037</td>\n",
       "      <td>1</td>\n",
       "      <td>19.700001</td>\n",
       "    </tr>\n",
       "    <tr>\n",
       "      <th>1783</th>\n",
       "      <td>8fe8786ee000001ab51d030dfd4a7bf1</td>\n",
       "      <td>1</td>\n",
       "      <td>439.000000</td>\n",
       "    </tr>\n",
       "  </tbody>\n",
       "</table>\n",
       "<p>1784 rows × 3 columns</p>\n",
       "</div>"
      ],
      "text/plain": [
       "                             seller_id  items_sold  revenue_generated\n",
       "0     3504c0cb71d7fa48d967e0e4c94d59d9          53        2349.940056\n",
       "1     66922902710d126a0e7d26b0e3805106          64        5926.800003\n",
       "2     8581055ce74af1daba164fdbd55a40de         310       45763.090235\n",
       "3     dc8798cbf453b7e0f98745e396cc5616          49        1976.500029\n",
       "4     16090f2ca825584b5a147ab24aa30c86          78       11045.279995\n",
       "...                                ...         ...                ...\n",
       "1779  72c73be2b085b9d57650dd53eb2004c9           1          29.400000\n",
       "1780  9ef932e837d8b7f392c0bfee9d359dc2           1          59.900002\n",
       "1781  2d8cfba3fcd3170555941605edaa196a           1          45.000000\n",
       "1782  8501d82f68d23148b6d78bb7c4a42037           1          19.700001\n",
       "1783  8fe8786ee000001ab51d030dfd4a7bf1           1         439.000000\n",
       "\n",
       "[1784 rows x 3 columns]"
      ]
     },
     "execution_count": 62,
     "metadata": {},
     "output_type": "execute_result"
    }
   ],
   "source": [
    "sellers_table"
   ]
  },
  {
   "cell_type": "code",
   "execution_count": 64,
   "metadata": {},
   "outputs": [
    {
     "data": {
      "text/plain": [
       "6155806.979506969"
      ]
     },
     "execution_count": 64,
     "metadata": {},
     "output_type": "execute_result"
    }
   ],
   "source": [
    "sellers_table[\"revenue_generated\"].sum()"
   ]
  },
  {
   "cell_type": "code",
   "execution_count": 69,
   "metadata": {},
   "outputs": [
    {
     "data": {
      "text/plain": [
       "1784"
      ]
     },
     "execution_count": 69,
     "metadata": {},
     "output_type": "execute_result"
    }
   ],
   "source": [
    "len(sorted_sellers)"
   ]
  },
  {
   "cell_type": "code",
   "execution_count": 71,
   "metadata": {},
   "outputs": [],
   "source": [
    "sorted_sellers = (sellers_table\n",
    "                  .sort_values(\"revenue_generated\", ascending=False)\n",
    "                  .reset_index(drop=True))\n",
    "\n",
    "sorted_sellers = (sorted_sellers\n",
    "                  .assign(rank=sorted_sellers.index+1))"
   ]
  },
  {
   "cell_type": "code",
   "execution_count": 78,
   "metadata": {},
   "outputs": [],
   "source": [
    "sorted_sellers = sorted_sellers.assign(percentile=(1 - sorted_sellers[\"rank\"] / len(sorted_sellers)))"
   ]
  },
  {
   "cell_type": "code",
   "execution_count": 77,
   "metadata": {},
   "outputs": [
    {
     "data": {
      "text/plain": [
       "<matplotlib.axes._subplots.AxesSubplot at 0x127aecd90>"
      ]
     },
     "execution_count": 77,
     "metadata": {},
     "output_type": "execute_result"
    },
    {
     "data": {
      "image/png": "[encoded data removed]",
      "text/plain": [
       "<Figure size 432x288 with 1 Axes>"
      ]
     },
     "metadata": {
      "needs_background": "light"
     },
     "output_type": "display_data"
    }
   ],
   "source": [
    "sorted_sellers[\"revenue_generated\"].cumsum().plot()"
   ]
  },
  {
   "cell_type": "code",
   "execution_count": 80,
   "metadata": {},
   "outputs": [],
   "source": [
    "sorted_sellers = (sorted_sellers.assign(cumulative_revenue=sorted_sellers[\"revenue_generated\"].cumsum()))"
   ]
  },
  {
   "cell_type": "code",
   "execution_count": 82,
   "metadata": {},
   "outputs": [],
   "source": [
    "sorted_sellers = sorted_sellers.assign(revenue_contribution=sorted_sellers[\"cumulative_revenue\"] / sorted_sellers[\"revenue_generated\"].sum())"
   ]
  },
  {
   "cell_type": "code",
   "execution_count": 86,
   "metadata": {},
   "outputs": [
    {
     "data": {
      "text/html": [
       "<div>\n",
       "<style scoped>\n",
       "    .dataframe tbody tr th:only-of-type {\n",
       "        vertical-align: middle;\n",
       "    }\n",
       "\n",
       "    .dataframe tbody tr th {\n",
       "        vertical-align: top;\n",
       "    }\n",
       "\n",
       "    .dataframe thead th {\n",
       "        text-align: right;\n",
       "    }\n",
       "</style>\n",
       "<table border=\"1\" class=\"dataframe\">\n",
       "  <thead>\n",
       "    <tr style=\"text-align: right;\">\n",
       "      <th></th>\n",
       "      <th>seller_id</th>\n",
       "      <th>items_sold</th>\n",
       "      <th>revenue_generated</th>\n",
       "      <th>rank</th>\n",
       "      <th>percentile</th>\n",
       "      <th>cumulative_revenue</th>\n",
       "      <th>revenue_contribution</th>\n",
       "    </tr>\n",
       "  </thead>\n",
       "  <tbody>\n",
       "    <tr>\n",
       "      <th>0</th>\n",
       "      <td>53243585a1d6dc2643021fd1853d8905</td>\n",
       "      <td>263</td>\n",
       "      <td>181113.919632</td>\n",
       "      <td>1</td>\n",
       "      <td>0.999439</td>\n",
       "      <td>1.811139e+05</td>\n",
       "      <td>0.029422</td>\n",
       "    </tr>\n",
       "    <tr>\n",
       "      <th>1</th>\n",
       "      <td>7e93a43ef30c4f03f38b393420bc753a</td>\n",
       "      <td>284</td>\n",
       "      <td>159389.129326</td>\n",
       "      <td>2</td>\n",
       "      <td>0.998879</td>\n",
       "      <td>3.405030e+05</td>\n",
       "      <td>0.055314</td>\n",
       "    </tr>\n",
       "    <tr>\n",
       "      <th>2</th>\n",
       "      <td>4a3ca9315b744ce9f8e9374361493884</td>\n",
       "      <td>1238</td>\n",
       "      <td>127584.770979</td>\n",
       "      <td>3</td>\n",
       "      <td>0.998318</td>\n",
       "      <td>4.680878e+05</td>\n",
       "      <td>0.076040</td>\n",
       "    </tr>\n",
       "    <tr>\n",
       "      <th>3</th>\n",
       "      <td>46dc3b2cc0980fb8ec44634e21d2718e</td>\n",
       "      <td>462</td>\n",
       "      <td>109056.988525</td>\n",
       "      <td>4</td>\n",
       "      <td>0.997758</td>\n",
       "      <td>5.771448e+05</td>\n",
       "      <td>0.093756</td>\n",
       "    </tr>\n",
       "    <tr>\n",
       "      <th>4</th>\n",
       "      <td>fa1c13f2614d7b5c4749cbc52fecda94</td>\n",
       "      <td>288</td>\n",
       "      <td>99028.609367</td>\n",
       "      <td>5</td>\n",
       "      <td>0.997197</td>\n",
       "      <td>6.761734e+05</td>\n",
       "      <td>0.109843</td>\n",
       "    </tr>\n",
       "    <tr>\n",
       "      <th>5</th>\n",
       "      <td>7a67c85e85bb2ce8582c35f2203ad736</td>\n",
       "      <td>797</td>\n",
       "      <td>97311.031126</td>\n",
       "      <td>6</td>\n",
       "      <td>0.996637</td>\n",
       "      <td>7.734844e+05</td>\n",
       "      <td>0.125651</td>\n",
       "    </tr>\n",
       "    <tr>\n",
       "      <th>6</th>\n",
       "      <td>7c67e1448b00f6e969d365cea6b010ab</td>\n",
       "      <td>655</td>\n",
       "      <td>95176.991259</td>\n",
       "      <td>7</td>\n",
       "      <td>0.996076</td>\n",
       "      <td>8.686614e+05</td>\n",
       "      <td>0.141113</td>\n",
       "    </tr>\n",
       "    <tr>\n",
       "      <th>7</th>\n",
       "      <td>4869f7a5dfa277a7dca6462dcf3b52b2</td>\n",
       "      <td>420</td>\n",
       "      <td>91058.029083</td>\n",
       "      <td>8</td>\n",
       "      <td>0.995516</td>\n",
       "      <td>9.597195e+05</td>\n",
       "      <td>0.155905</td>\n",
       "    </tr>\n",
       "    <tr>\n",
       "      <th>8</th>\n",
       "      <td>cc419e0650a3c5ba77189a1882b7556a</td>\n",
       "      <td>1258</td>\n",
       "      <td>72340.670095</td>\n",
       "      <td>9</td>\n",
       "      <td>0.994955</td>\n",
       "      <td>1.032060e+06</td>\n",
       "      <td>0.167656</td>\n",
       "    </tr>\n",
       "    <tr>\n",
       "      <th>9</th>\n",
       "      <td>da8622b14eb17ae2831f4ac5b9dab84a</td>\n",
       "      <td>644</td>\n",
       "      <td>70786.099499</td>\n",
       "      <td>10</td>\n",
       "      <td>0.994395</td>\n",
       "      <td>1.102846e+06</td>\n",
       "      <td>0.179155</td>\n",
       "    </tr>\n",
       "    <tr>\n",
       "      <th>10</th>\n",
       "      <td>1f50f920176fa81dab994f9023523100</td>\n",
       "      <td>1072</td>\n",
       "      <td>61210.991100</td>\n",
       "      <td>11</td>\n",
       "      <td>0.993834</td>\n",
       "      <td>1.164057e+06</td>\n",
       "      <td>0.189099</td>\n",
       "    </tr>\n",
       "    <tr>\n",
       "      <th>11</th>\n",
       "      <td>620c87c171fb2a6dd6e8bb4dec959fc6</td>\n",
       "      <td>369</td>\n",
       "      <td>60288.299118</td>\n",
       "      <td>12</td>\n",
       "      <td>0.993274</td>\n",
       "      <td>1.224346e+06</td>\n",
       "      <td>0.198893</td>\n",
       "    </tr>\n",
       "    <tr>\n",
       "      <th>12</th>\n",
       "      <td>5dceca129747e92ff8ef7a997dc4f8ca</td>\n",
       "      <td>261</td>\n",
       "      <td>57830.409777</td>\n",
       "      <td>13</td>\n",
       "      <td>0.992713</td>\n",
       "      <td>1.282176e+06</td>\n",
       "      <td>0.208287</td>\n",
       "    </tr>\n",
       "    <tr>\n",
       "      <th>13</th>\n",
       "      <td>cca3071e3e9bb7d12640c9fbe2301306</td>\n",
       "      <td>720</td>\n",
       "      <td>55565.380131</td>\n",
       "      <td>14</td>\n",
       "      <td>0.992152</td>\n",
       "      <td>1.337741e+06</td>\n",
       "      <td>0.217314</td>\n",
       "    </tr>\n",
       "    <tr>\n",
       "      <th>14</th>\n",
       "      <td>6560211a19b47992c3666cc44a7e94c0</td>\n",
       "      <td>950</td>\n",
       "      <td>55480.900017</td>\n",
       "      <td>15</td>\n",
       "      <td>0.991592</td>\n",
       "      <td>1.393222e+06</td>\n",
       "      <td>0.226326</td>\n",
       "    </tr>\n",
       "    <tr>\n",
       "      <th>15</th>\n",
       "      <td>37be5a7c751166fbc5f8ccba4119e043</td>\n",
       "      <td>272</td>\n",
       "      <td>53714.570099</td>\n",
       "      <td>16</td>\n",
       "      <td>0.991031</td>\n",
       "      <td>1.446937e+06</td>\n",
       "      <td>0.235052</td>\n",
       "    </tr>\n",
       "    <tr>\n",
       "      <th>16</th>\n",
       "      <td>3d871de0142ce09b7081e2b9d1733cb1</td>\n",
       "      <td>673</td>\n",
       "      <td>53374.100054</td>\n",
       "      <td>17</td>\n",
       "      <td>0.990471</td>\n",
       "      <td>1.500311e+06</td>\n",
       "      <td>0.243723</td>\n",
       "    </tr>\n",
       "  </tbody>\n",
       "</table>\n",
       "</div>"
      ],
      "text/plain": [
       "                           seller_id  items_sold  revenue_generated  rank  \\\n",
       "0   53243585a1d6dc2643021fd1853d8905         263      181113.919632     1   \n",
       "1   7e93a43ef30c4f03f38b393420bc753a         284      159389.129326     2   \n",
       "2   4a3ca9315b744ce9f8e9374361493884        1238      127584.770979     3   \n",
       "3   46dc3b2cc0980fb8ec44634e21d2718e         462      109056.988525     4   \n",
       "4   fa1c13f2614d7b5c4749cbc52fecda94         288       99028.609367     5   \n",
       "5   7a67c85e85bb2ce8582c35f2203ad736         797       97311.031126     6   \n",
       "6   7c67e1448b00f6e969d365cea6b010ab         655       95176.991259     7   \n",
       "7   4869f7a5dfa277a7dca6462dcf3b52b2         420       91058.029083     8   \n",
       "8   cc419e0650a3c5ba77189a1882b7556a        1258       72340.670095     9   \n",
       "9   da8622b14eb17ae2831f4ac5b9dab84a         644       70786.099499    10   \n",
       "10  1f50f920176fa81dab994f9023523100        1072       61210.991100    11   \n",
       "11  620c87c171fb2a6dd6e8bb4dec959fc6         369       60288.299118    12   \n",
       "12  5dceca129747e92ff8ef7a997dc4f8ca         261       57830.409777    13   \n",
       "13  cca3071e3e9bb7d12640c9fbe2301306         720       55565.380131    14   \n",
       "14  6560211a19b47992c3666cc44a7e94c0         950       55480.900017    15   \n",
       "15  37be5a7c751166fbc5f8ccba4119e043         272       53714.570099    16   \n",
       "16  3d871de0142ce09b7081e2b9d1733cb1         673       53374.100054    17   \n",
       "\n",
       "    percentile  cumulative_revenue  revenue_contribution  \n",
       "0     0.999439        1.811139e+05              0.029422  \n",
       "1     0.998879        3.405030e+05              0.055314  \n",
       "2     0.998318        4.680878e+05              0.076040  \n",
       "3     0.997758        5.771448e+05              0.093756  \n",
       "4     0.997197        6.761734e+05              0.109843  \n",
       "5     0.996637        7.734844e+05              0.125651  \n",
       "6     0.996076        8.686614e+05              0.141113  \n",
       "7     0.995516        9.597195e+05              0.155905  \n",
       "8     0.994955        1.032060e+06              0.167656  \n",
       "9     0.994395        1.102846e+06              0.179155  \n",
       "10    0.993834        1.164057e+06              0.189099  \n",
       "11    0.993274        1.224346e+06              0.198893  \n",
       "12    0.992713        1.282176e+06              0.208287  \n",
       "13    0.992152        1.337741e+06              0.217314  \n",
       "14    0.991592        1.393222e+06              0.226326  \n",
       "15    0.991031        1.446937e+06              0.235052  \n",
       "16    0.990471        1.500311e+06              0.243723  "
      ]
     },
     "execution_count": 86,
     "metadata": {},
     "output_type": "execute_result"
    }
   ],
   "source": [
    "sorted_sellers[sorted_sellers[\"percentile\"] >= .99]"
   ]
  },
  {
   "cell_type": "markdown",
   "metadata": {},
   "source": [
    "'>25% of our revenue was generated by the top 1% which is 17 individual sellers. We better make sure to keep them happy"
   ]
  },
  {
   "cell_type": "code",
   "execution_count": 98,
   "metadata": {},
   "outputs": [
    {
     "data": {
      "text/plain": [
       "[0, 10, 20, 30, 40, 50, 60, 70, 80, 90]"
      ]
     },
     "execution_count": 98,
     "metadata": {},
     "output_type": "execute_result"
    }
   ],
   "source": [
    "list(range(0,100,10))"
   ]
  },
  {
   "cell_type": "code",
   "execution_count": 95,
   "metadata": {},
   "outputs": [
    {
     "data": {
      "image/png": "[encoded data removed]",
      "text/plain": [
       "<Figure size 432x288 with 1 Axes>"
      ]
     },
     "metadata": {
      "needs_background": "light"
     },
     "output_type": "display_data"
    }
   ],
   "source": [
    "ax = seller_percentiles.plot(kind=\"bar\")\n",
    "\n",
    "ax.set_xticklabels(list(range(100)));\n",
    "ax.set_xticks(list(range(0,100,10)));\n",
    "ax.set_title(\"Percentiles of items_sold per seller\");"
   ]
  },
  {
   "cell_type": "code",
   "execution_count": 105,
   "metadata": {},
   "outputs": [
    {
     "data": {
      "image/png": "[encoded data removed]",
      "text/plain": [
       "<Figure size 432x288 with 1 Axes>"
      ]
     },
     "metadata": {
      "needs_background": "light"
     },
     "output_type": "display_data"
    }
   ],
   "source": [
    "ax = seller_percentiles.plot(kind=\"bar\", color=\"red\")\n",
    "\n",
    "ax.set_xticklabels(list(range(0,100,10)));\n",
    "ax.set_xticks(list(range(0,100,10)));\n",
    "ax.set_title(\"Percentiles of items_sold per seller\");\n",
    "ax.set_xlabel(\"Percentile\");\n",
    "\n",
    "# remove spines\n",
    "# ax.spines[\"right\"].set_visible(False);\n",
    "# ax.spines[\"top\"].set_visible(False);\n",
    "\n",
    "ax.set_frame_on(False);"
   ]
  },
  {
   "cell_type": "code",
   "execution_count": 106,
   "metadata": {},
   "outputs": [
    {
     "data": {
      "image/png": "[encoded data removed]",
      "text/plain": [
       "<Figure size 720x432 with 1 Axes>"
      ]
     },
     "metadata": {
      "needs_background": "light"
     },
     "output_type": "display_data"
    }
   ],
   "source": [
    "import matplotlib.pyplot as plt\n",
    "\n",
    "fig, ax = plt.subplots(figsize=(10,6))\n",
    "\n",
    "ax = seller_percentiles.plot(kind=\"bar\", color=\"red\", ax=ax)\n",
    "\n",
    "ax.set_xticklabels(list(range(0,100,10)));\n",
    "ax.set_xticks(list(range(0,100,10)));\n",
    "ax.set_title(\"Percentiles of items_sold per seller\");\n",
    "ax.set_xlabel(\"Percentile\");\n",
    "\n",
    "# remove spines\n",
    "# ax.spines[\"right\"].set_visible(False);\n",
    "# ax.spines[\"top\"].set_visible(False);\n",
    "\n",
    "ax.set_frame_on(False);"
   ]
  }
 ],
 "metadata": {
  "kernelspec": {
   "display_name": "Python 3",
   "language": "python",
   "name": "python3"
  },
  "language_info": {
   "codemirror_mode": {
    "name": "ipython",
    "version": 3
   },
   "file_extension": ".py",
   "mimetype": "text/x-python",
   "name": "python",
   "nbconvert_exporter": "python",
   "pygments_lexer": "ipython3",
   "version": "3.7.4"
  }
 },
 "nbformat": 4,
 "nbformat_minor": 2
}
